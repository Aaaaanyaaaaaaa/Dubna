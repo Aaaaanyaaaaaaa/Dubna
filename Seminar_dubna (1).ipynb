{
  "nbformat": 4,
  "nbformat_minor": 0,
  "metadata": {
    "colab": {
      "provenance": []
    },
    "kernelspec": {
      "name": "python3",
      "display_name": "Python 3"
    },
    "language_info": {
      "name": "python"
    }
  },
  "cells": [
    {
      "cell_type": "code",
      "source": [],
      "metadata": {
        "id": "I6kmqUTTy1jl"
      },
      "execution_count": null,
      "outputs": []
    },
    {
      "cell_type": "code",
      "execution_count": null,
      "metadata": {
        "colab": {
          "base_uri": "https://localhost:8080/"
        },
        "id": "m4gPI3Mqofgx",
        "outputId": "baf06887-1c46-4893-d952-f0a58ae10b8a"
      },
      "outputs": [
        {
          "output_type": "stream",
          "name": "stdout",
          "text": [
            "--2022-04-21 11:04:33--  https://www.dropbox.com/s/obaitrix9jyu84r/quora.txt?dl=1\n",
            "Resolving www.dropbox.com (www.dropbox.com)... 162.125.1.18, 2620:100:6016:18::a27d:112\n",
            "Connecting to www.dropbox.com (www.dropbox.com)|162.125.1.18|:443... connected.\n",
            "HTTP request sent, awaiting response... 301 Moved Permanently\n",
            "Location: /s/dl/obaitrix9jyu84r/quora.txt [following]\n",
            "--2022-04-21 11:04:33--  https://www.dropbox.com/s/dl/obaitrix9jyu84r/quora.txt\n",
            "Reusing existing connection to www.dropbox.com:443.\n",
            "HTTP request sent, awaiting response... 302 Found\n",
            "Location: https://uc5feb292ee1eec34e11d226dfae.dl.dropboxusercontent.com/cd/0/get/Bj2e86HJUZsP1pxJTufK4ZAX2yJ8eg4_Bmgz8Y8XL-LSUjqgOA-Jc79IKZt5pX3OVxY9az82_iKhiragZuyqxOSXvKpOooVdnuXDSPgAklhUTJUyYAZPRmG6Q6BtSSFyhYd66xCukbU8DCR61m6pJ0YRchFEkt6ProcmlS_a5uHcHQ/file?dl=1# [following]\n",
            "--2022-04-21 11:04:34--  https://uc5feb292ee1eec34e11d226dfae.dl.dropboxusercontent.com/cd/0/get/Bj2e86HJUZsP1pxJTufK4ZAX2yJ8eg4_Bmgz8Y8XL-LSUjqgOA-Jc79IKZt5pX3OVxY9az82_iKhiragZuyqxOSXvKpOooVdnuXDSPgAklhUTJUyYAZPRmG6Q6BtSSFyhYd66xCukbU8DCR61m6pJ0YRchFEkt6ProcmlS_a5uHcHQ/file?dl=1\n",
            "Resolving uc5feb292ee1eec34e11d226dfae.dl.dropboxusercontent.com (uc5feb292ee1eec34e11d226dfae.dl.dropboxusercontent.com)... 162.125.1.15, 2620:100:6016:15::a27d:10f\n",
            "Connecting to uc5feb292ee1eec34e11d226dfae.dl.dropboxusercontent.com (uc5feb292ee1eec34e11d226dfae.dl.dropboxusercontent.com)|162.125.1.15|:443... connected.\n",
            "HTTP request sent, awaiting response... 200 OK\n",
            "Length: 33813903 (32M) [application/binary]\n",
            "Saving to: ‘./quora.txt’\n",
            "\n",
            "./quora.txt         100%[===================>]  32.25M   143MB/s    in 0.2s    \n",
            "\n",
            "2022-04-21 11:04:34 (143 MB/s) - ‘./quora.txt’ saved [33813903/33813903]\n",
            "\n"
          ]
        }
      ],
      "source": [
        "from gensim.test.utils import common_texts, get_tmpfile\n",
        "from gensim.models import Word2Vec\n",
        "\n",
        "# download the data:\n",
        "!wget https://www.dropbox.com/s/obaitrix9jyu84r/quora.txt?dl=1 -O ./quora.txt\n"
      ]
    },
    {
      "cell_type": "code",
      "source": [
        "import numpy as np\n",
        "import pandas as pd\n",
        "\n",
        "#sklearn imports\n",
        "from sklearn.decomposition import PCA #Principal Component Analysis\n",
        "from sklearn.manifold import TSNE #T-Distributed Stochastic Neighbor Embedding\n",
        "from sklearn.cluster import KMeans #K-Means Clustering\n",
        "from sklearn.preprocessing import StandardScaler #used for 'Feature Scaling'\n",
        "\n",
        "#plotly imports\n",
        "import plotly as py\n",
        "import plotly.graph_objs as go\n",
        "from plotly.offline import download_plotlyjs, init_notebook_mode, plot, iplot\n",
        "import plotly\n",
        "import numpy as np\n",
        "import plotly.graph_objs as go\n",
        "from sklearn.manifold import TSNE\n",
        "\n",
        "\n",
        "from sklearn.decomposition import PCA\n",
        "from sklearn import datasets\n",
        "from sklearn.preprocessing import StandardScaler\n",
        "\n",
        "import numpy as np\n",
        "import pandas as pd\n",
        "import matplotlib.pyplot as plt\n",
        "\n",
        "COLORS = ['aliceblue', 'darkkhaki',  'linen','darkmagenta', 'darkolivegreen',  'orchid' , 'honeydew', 'mediumblue','antiquewhite', 'mediumturquoise''gray', 'grey', 'green', 'aqua', 'aquamarine', 'azure']"
      ],
      "metadata": {
        "id": "v96L0PGepKBI"
      },
      "execution_count": null,
      "outputs": []
    },
    {
      "cell_type": "code",
      "source": [
        "import numpy as np\n",
        "\n",
        "data = list(open(\"./quora.txt\", encoding=\"utf-8\"))\n",
        "data[23]"
      ],
      "metadata": {
        "colab": {
          "base_uri": "https://localhost:8080/",
          "height": 35
        },
        "id": "UtF1iz97q96a",
        "outputId": "92934ff7-04d2-43d3-a429-e4bae26eed7e"
      },
      "execution_count": null,
      "outputs": [
        {
          "output_type": "execute_result",
          "data": {
            "text/plain": [
              "'What does entertainment mean for you?\\n'"
            ],
            "application/vnd.google.colaboratory.intrinsic+json": {
              "type": "string"
            }
          },
          "metadata": {},
          "execution_count": 4
        }
      ]
    },
    {
      "cell_type": "code",
      "source": [
        "from nltk.tokenize import WordPunctTokenizer\n",
        "tokenizer = WordPunctTokenizer()\n",
        "\n",
        "print(tokenizer.tokenize(data[23]))"
      ],
      "metadata": {
        "colab": {
          "base_uri": "https://localhost:8080/"
        },
        "id": "EtLjzN52q9yI",
        "outputId": "5e7c7937-72d5-4160-be52-2979f324bbe3"
      },
      "execution_count": null,
      "outputs": [
        {
          "output_type": "stream",
          "name": "stdout",
          "text": [
            "['What', 'does', 'entertainment', 'mean', 'for', 'you', '?']\n"
          ]
        }
      ]
    },
    {
      "cell_type": "code",
      "source": [
        "data_tok = [tokenizer.tokenize(sent.lower()) for sent in data]"
      ],
      "metadata": {
        "id": "DzC1Ls1CrHmf"
      },
      "execution_count": null,
      "outputs": []
    },
    {
      "cell_type": "code",
      "source": [
        "w2v_model = Word2Vec(data_tok,\n",
        "                 size=32,      # embedding vector size\n",
        "                 min_count=5,  # consider words that occured at least 5 times\n",
        "                 window=5).wv"
      ],
      "metadata": {
        "id": "0Ww89niuogIY"
      },
      "execution_count": null,
      "outputs": []
    },
    {
      "cell_type": "code",
      "source": [
        "w2v_model.get_vector('woman')"
      ],
      "metadata": {
        "colab": {
          "base_uri": "https://localhost:8080/"
        },
        "id": "omlFxy5loznH",
        "outputId": "4d975c64-e259-4ce5-e6ba-ee3362e0e4b6"
      },
      "execution_count": null,
      "outputs": [
        {
          "output_type": "execute_result",
          "data": {
            "text/plain": [
              "array([-0.7210281 , -1.5643158 , -1.9779009 , -4.4285183 ,  2.0927417 ,\n",
              "       -1.6303018 ,  2.4646657 ,  0.42504373, -4.311629  , -1.2321494 ,\n",
              "        5.2416015 , -0.09844459, -0.2742991 ,  0.06836512,  1.5367908 ,\n",
              "       -0.7425991 , -3.4521444 ,  1.1104354 , -5.128918  , -1.5174376 ,\n",
              "       -6.2161484 ,  1.6419046 , -2.0745192 ,  1.2803324 ,  2.0520165 ,\n",
              "        1.2521819 , -3.1913917 ,  1.2235085 , -1.6986475 , -2.6965384 ,\n",
              "       -1.2903888 , -0.74247086], dtype=float32)"
            ]
          },
          "metadata": {},
          "execution_count": 86
        }
      ]
    },
    {
      "cell_type": "code",
      "source": [
        "vecs_w2v = [w2v_model.get_vector('man'), w2v_model.get_vector('woman'),  w2v_model.get_vector('king'), w2v_model.get_vector('queen')]"
      ],
      "metadata": {
        "id": "WNyzzHwwtQP9"
      },
      "execution_count": null,
      "outputs": []
    },
    {
      "cell_type": "code",
      "source": [],
      "metadata": {
        "id": "s1vGP73pgnqy"
      },
      "execution_count": null,
      "outputs": []
    },
    {
      "cell_type": "code",
      "source": [
        "sc = StandardScaler()\n",
        "\n",
        "scaler = StandardScaler()\n",
        "scaler.fit(vecs_w2v)\n",
        "X_scaled = scaler.transform(vecs_w2v)\n",
        "\n",
        "pca = PCA(n_components=3)\n",
        "pca.fit(X_scaled)\n",
        "X_pca = pca.transform(X_scaled)"
      ],
      "metadata": {
        "id": "qzFs7ZuSgbAY"
      },
      "execution_count": null,
      "outputs": []
    },
    {
      "cell_type": "code",
      "source": [
        "\n",
        "fig = go.Figure([go.Scatter3d(x=X_pca[:2,:][:, 0], y=X_pca[:2,:][:, 1],z=X_pca[:2,:][:, 2], mode='lines', line=dict(\n",
        "                                      color='olive',\n",
        "                                      width=8)),\n",
        "go.Scatter3d(x=X_pca[:2,:][1:2, 0], y=X_pca[:2,:][1:2, 1],z=X_pca[:2,:][1:2, 2], mode='markers', marker={'size': 7,\n",
        "              'opacity': 1,\n",
        "              'color': 'olive',\n",
        "              'symbol' : 'diamond'}  ),\n",
        "              go.Scatter3d(x=X_pca[2:,:][:, 0], y=X_pca[2:,:][:, 1],z=X_pca[2:,:][:, 2], mode='lines', line=dict(\n",
        "                                      color='powderblue',\n",
        "                                      width=8)),\n",
        "go.Scatter3d(x=X_pca[2:,:][1:2, 0], y=X_pca[2:,:][1:2, 1],z=X_pca[2:,:][1:2, 2], mode='markers', marker={'size': 7,\n",
        "              'opacity': 1,\n",
        "              'color': 'powderblue',\n",
        "              'symbol' : 'diamond'}  )])"
      ],
      "metadata": {
        "id": "sK_YScY1gltO"
      },
      "execution_count": null,
      "outputs": []
    },
    {
      "cell_type": "code",
      "source": [
        "powderblue"
      ],
      "metadata": {
        "id": "9pyyNoDCifi9"
      },
      "execution_count": null,
      "outputs": []
    },
    {
      "cell_type": "code",
      "source": [
        "fig.show()"
      ],
      "metadata": {
        "colab": {
          "base_uri": "https://localhost:8080/",
          "height": 542
        },
        "id": "K4D8niHEiD43",
        "outputId": "2e38c252-0721-4b3b-863b-c63b32caa07c"
      },
      "execution_count": null,
      "outputs": [
        {
          "output_type": "display_data",
          "data": {
            "text/html": [
              "<html>\n",
              "<head><meta charset=\"utf-8\" /></head>\n",
              "<body>\n",
              "    <div>            <script src=\"https://cdnjs.cloudflare.com/ajax/libs/mathjax/2.7.5/MathJax.js?config=TeX-AMS-MML_SVG\"></script><script type=\"text/javascript\">if (window.MathJax) {MathJax.Hub.Config({SVG: {font: \"STIX-Web\"}});}</script>                <script type=\"text/javascript\">window.PlotlyConfig = {MathJaxConfig: 'local'};</script>\n",
              "        <script src=\"https://cdn.plot.ly/plotly-2.8.3.min.js\"></script>                <div id=\"7a29c549-b90d-45a0-9857-2c36afbcaeae\" class=\"plotly-graph-div\" style=\"height:525px; width:100%;\"></div>            <script type=\"text/javascript\">                                    window.PLOTLYENV=window.PLOTLYENV || {};                                    if (document.getElementById(\"7a29c549-b90d-45a0-9857-2c36afbcaeae\")) {                    Plotly.newPlot(                        \"7a29c549-b90d-45a0-9857-2c36afbcaeae\",                        [{\"line\":{\"color\":\"olive\",\"width\":8},\"mode\":\"lines\",\"x\":[2.520959363646539,6.479852970672171],\"y\":[-2.556141753884918,1.2395985682338333],\"z\":[2.352062782909075,-1.7203724371620852],\"type\":\"scatter3d\"},{\"marker\":{\"color\":\"olive\",\"opacity\":1,\"size\":7,\"symbol\":\"diamond\"},\"mode\":\"markers\",\"x\":[6.479852970672171],\"y\":[1.2395985682338333],\"z\":[-1.7203724371620852],\"type\":\"scatter3d\"},{\"line\":{\"color\":\"powderblue\",\"width\":8},\"mode\":\"lines\",\"x\":[-5.276071584023585,-3.7247407502951244],\"y\":[-2.1370651607581848,3.4536083464092697],\"z\":[-1.847074084055647,1.2153837383086568],\"type\":\"scatter3d\"},{\"marker\":{\"color\":\"powderblue\",\"opacity\":1,\"size\":7,\"symbol\":\"diamond\"},\"mode\":\"markers\",\"x\":[-3.7247407502951244],\"y\":[3.4536083464092697],\"z\":[1.2153837383086568],\"type\":\"scatter3d\"}],                        {\"template\":{\"data\":{\"bar\":[{\"error_x\":{\"color\":\"#2a3f5f\"},\"error_y\":{\"color\":\"#2a3f5f\"},\"marker\":{\"line\":{\"color\":\"#E5ECF6\",\"width\":0.5},\"pattern\":{\"fillmode\":\"overlay\",\"size\":10,\"solidity\":0.2}},\"type\":\"bar\"}],\"barpolar\":[{\"marker\":{\"line\":{\"color\":\"#E5ECF6\",\"width\":0.5},\"pattern\":{\"fillmode\":\"overlay\",\"size\":10,\"solidity\":0.2}},\"type\":\"barpolar\"}],\"carpet\":[{\"aaxis\":{\"endlinecolor\":\"#2a3f5f\",\"gridcolor\":\"white\",\"linecolor\":\"white\",\"minorgridcolor\":\"white\",\"startlinecolor\":\"#2a3f5f\"},\"baxis\":{\"endlinecolor\":\"#2a3f5f\",\"gridcolor\":\"white\",\"linecolor\":\"white\",\"minorgridcolor\":\"white\",\"startlinecolor\":\"#2a3f5f\"},\"type\":\"carpet\"}],\"choropleth\":[{\"colorbar\":{\"outlinewidth\":0,\"ticks\":\"\"},\"type\":\"choropleth\"}],\"contour\":[{\"colorbar\":{\"outlinewidth\":0,\"ticks\":\"\"},\"colorscale\":[[0.0,\"#0d0887\"],[0.1111111111111111,\"#46039f\"],[0.2222222222222222,\"#7201a8\"],[0.3333333333333333,\"#9c179e\"],[0.4444444444444444,\"#bd3786\"],[0.5555555555555556,\"#d8576b\"],[0.6666666666666666,\"#ed7953\"],[0.7777777777777778,\"#fb9f3a\"],[0.8888888888888888,\"#fdca26\"],[1.0,\"#f0f921\"]],\"type\":\"contour\"}],\"contourcarpet\":[{\"colorbar\":{\"outlinewidth\":0,\"ticks\":\"\"},\"type\":\"contourcarpet\"}],\"heatmap\":[{\"colorbar\":{\"outlinewidth\":0,\"ticks\":\"\"},\"colorscale\":[[0.0,\"#0d0887\"],[0.1111111111111111,\"#46039f\"],[0.2222222222222222,\"#7201a8\"],[0.3333333333333333,\"#9c179e\"],[0.4444444444444444,\"#bd3786\"],[0.5555555555555556,\"#d8576b\"],[0.6666666666666666,\"#ed7953\"],[0.7777777777777778,\"#fb9f3a\"],[0.8888888888888888,\"#fdca26\"],[1.0,\"#f0f921\"]],\"type\":\"heatmap\"}],\"heatmapgl\":[{\"colorbar\":{\"outlinewidth\":0,\"ticks\":\"\"},\"colorscale\":[[0.0,\"#0d0887\"],[0.1111111111111111,\"#46039f\"],[0.2222222222222222,\"#7201a8\"],[0.3333333333333333,\"#9c179e\"],[0.4444444444444444,\"#bd3786\"],[0.5555555555555556,\"#d8576b\"],[0.6666666666666666,\"#ed7953\"],[0.7777777777777778,\"#fb9f3a\"],[0.8888888888888888,\"#fdca26\"],[1.0,\"#f0f921\"]],\"type\":\"heatmapgl\"}],\"histogram\":[{\"marker\":{\"pattern\":{\"fillmode\":\"overlay\",\"size\":10,\"solidity\":0.2}},\"type\":\"histogram\"}],\"histogram2d\":[{\"colorbar\":{\"outlinewidth\":0,\"ticks\":\"\"},\"colorscale\":[[0.0,\"#0d0887\"],[0.1111111111111111,\"#46039f\"],[0.2222222222222222,\"#7201a8\"],[0.3333333333333333,\"#9c179e\"],[0.4444444444444444,\"#bd3786\"],[0.5555555555555556,\"#d8576b\"],[0.6666666666666666,\"#ed7953\"],[0.7777777777777778,\"#fb9f3a\"],[0.8888888888888888,\"#fdca26\"],[1.0,\"#f0f921\"]],\"type\":\"histogram2d\"}],\"histogram2dcontour\":[{\"colorbar\":{\"outlinewidth\":0,\"ticks\":\"\"},\"colorscale\":[[0.0,\"#0d0887\"],[0.1111111111111111,\"#46039f\"],[0.2222222222222222,\"#7201a8\"],[0.3333333333333333,\"#9c179e\"],[0.4444444444444444,\"#bd3786\"],[0.5555555555555556,\"#d8576b\"],[0.6666666666666666,\"#ed7953\"],[0.7777777777777778,\"#fb9f3a\"],[0.8888888888888888,\"#fdca26\"],[1.0,\"#f0f921\"]],\"type\":\"histogram2dcontour\"}],\"mesh3d\":[{\"colorbar\":{\"outlinewidth\":0,\"ticks\":\"\"},\"type\":\"mesh3d\"}],\"parcoords\":[{\"line\":{\"colorbar\":{\"outlinewidth\":0,\"ticks\":\"\"}},\"type\":\"parcoords\"}],\"pie\":[{\"automargin\":true,\"type\":\"pie\"}],\"scatter\":[{\"marker\":{\"colorbar\":{\"outlinewidth\":0,\"ticks\":\"\"}},\"type\":\"scatter\"}],\"scatter3d\":[{\"line\":{\"colorbar\":{\"outlinewidth\":0,\"ticks\":\"\"}},\"marker\":{\"colorbar\":{\"outlinewidth\":0,\"ticks\":\"\"}},\"type\":\"scatter3d\"}],\"scattercarpet\":[{\"marker\":{\"colorbar\":{\"outlinewidth\":0,\"ticks\":\"\"}},\"type\":\"scattercarpet\"}],\"scattergeo\":[{\"marker\":{\"colorbar\":{\"outlinewidth\":0,\"ticks\":\"\"}},\"type\":\"scattergeo\"}],\"scattergl\":[{\"marker\":{\"colorbar\":{\"outlinewidth\":0,\"ticks\":\"\"}},\"type\":\"scattergl\"}],\"scattermapbox\":[{\"marker\":{\"colorbar\":{\"outlinewidth\":0,\"ticks\":\"\"}},\"type\":\"scattermapbox\"}],\"scatterpolar\":[{\"marker\":{\"colorbar\":{\"outlinewidth\":0,\"ticks\":\"\"}},\"type\":\"scatterpolar\"}],\"scatterpolargl\":[{\"marker\":{\"colorbar\":{\"outlinewidth\":0,\"ticks\":\"\"}},\"type\":\"scatterpolargl\"}],\"scatterternary\":[{\"marker\":{\"colorbar\":{\"outlinewidth\":0,\"ticks\":\"\"}},\"type\":\"scatterternary\"}],\"surface\":[{\"colorbar\":{\"outlinewidth\":0,\"ticks\":\"\"},\"colorscale\":[[0.0,\"#0d0887\"],[0.1111111111111111,\"#46039f\"],[0.2222222222222222,\"#7201a8\"],[0.3333333333333333,\"#9c179e\"],[0.4444444444444444,\"#bd3786\"],[0.5555555555555556,\"#d8576b\"],[0.6666666666666666,\"#ed7953\"],[0.7777777777777778,\"#fb9f3a\"],[0.8888888888888888,\"#fdca26\"],[1.0,\"#f0f921\"]],\"type\":\"surface\"}],\"table\":[{\"cells\":{\"fill\":{\"color\":\"#EBF0F8\"},\"line\":{\"color\":\"white\"}},\"header\":{\"fill\":{\"color\":\"#C8D4E3\"},\"line\":{\"color\":\"white\"}},\"type\":\"table\"}]},\"layout\":{\"annotationdefaults\":{\"arrowcolor\":\"#2a3f5f\",\"arrowhead\":0,\"arrowwidth\":1},\"autotypenumbers\":\"strict\",\"coloraxis\":{\"colorbar\":{\"outlinewidth\":0,\"ticks\":\"\"}},\"colorscale\":{\"diverging\":[[0,\"#8e0152\"],[0.1,\"#c51b7d\"],[0.2,\"#de77ae\"],[0.3,\"#f1b6da\"],[0.4,\"#fde0ef\"],[0.5,\"#f7f7f7\"],[0.6,\"#e6f5d0\"],[0.7,\"#b8e186\"],[0.8,\"#7fbc41\"],[0.9,\"#4d9221\"],[1,\"#276419\"]],\"sequential\":[[0.0,\"#0d0887\"],[0.1111111111111111,\"#46039f\"],[0.2222222222222222,\"#7201a8\"],[0.3333333333333333,\"#9c179e\"],[0.4444444444444444,\"#bd3786\"],[0.5555555555555556,\"#d8576b\"],[0.6666666666666666,\"#ed7953\"],[0.7777777777777778,\"#fb9f3a\"],[0.8888888888888888,\"#fdca26\"],[1.0,\"#f0f921\"]],\"sequentialminus\":[[0.0,\"#0d0887\"],[0.1111111111111111,\"#46039f\"],[0.2222222222222222,\"#7201a8\"],[0.3333333333333333,\"#9c179e\"],[0.4444444444444444,\"#bd3786\"],[0.5555555555555556,\"#d8576b\"],[0.6666666666666666,\"#ed7953\"],[0.7777777777777778,\"#fb9f3a\"],[0.8888888888888888,\"#fdca26\"],[1.0,\"#f0f921\"]]},\"colorway\":[\"#636efa\",\"#EF553B\",\"#00cc96\",\"#ab63fa\",\"#FFA15A\",\"#19d3f3\",\"#FF6692\",\"#B6E880\",\"#FF97FF\",\"#FECB52\"],\"font\":{\"color\":\"#2a3f5f\"},\"geo\":{\"bgcolor\":\"white\",\"lakecolor\":\"white\",\"landcolor\":\"#E5ECF6\",\"showlakes\":true,\"showland\":true,\"subunitcolor\":\"white\"},\"hoverlabel\":{\"align\":\"left\"},\"hovermode\":\"closest\",\"mapbox\":{\"style\":\"light\"},\"paper_bgcolor\":\"white\",\"plot_bgcolor\":\"#E5ECF6\",\"polar\":{\"angularaxis\":{\"gridcolor\":\"white\",\"linecolor\":\"white\",\"ticks\":\"\"},\"bgcolor\":\"#E5ECF6\",\"radialaxis\":{\"gridcolor\":\"white\",\"linecolor\":\"white\",\"ticks\":\"\"}},\"scene\":{\"xaxis\":{\"backgroundcolor\":\"#E5ECF6\",\"gridcolor\":\"white\",\"gridwidth\":2,\"linecolor\":\"white\",\"showbackground\":true,\"ticks\":\"\",\"zerolinecolor\":\"white\"},\"yaxis\":{\"backgroundcolor\":\"#E5ECF6\",\"gridcolor\":\"white\",\"gridwidth\":2,\"linecolor\":\"white\",\"showbackground\":true,\"ticks\":\"\",\"zerolinecolor\":\"white\"},\"zaxis\":{\"backgroundcolor\":\"#E5ECF6\",\"gridcolor\":\"white\",\"gridwidth\":2,\"linecolor\":\"white\",\"showbackground\":true,\"ticks\":\"\",\"zerolinecolor\":\"white\"}},\"shapedefaults\":{\"line\":{\"color\":\"#2a3f5f\"}},\"ternary\":{\"aaxis\":{\"gridcolor\":\"white\",\"linecolor\":\"white\",\"ticks\":\"\"},\"baxis\":{\"gridcolor\":\"white\",\"linecolor\":\"white\",\"ticks\":\"\"},\"bgcolor\":\"#E5ECF6\",\"caxis\":{\"gridcolor\":\"white\",\"linecolor\":\"white\",\"ticks\":\"\"}},\"title\":{\"x\":0.05},\"xaxis\":{\"automargin\":true,\"gridcolor\":\"white\",\"linecolor\":\"white\",\"ticks\":\"\",\"title\":{\"standoff\":15},\"zerolinecolor\":\"white\",\"zerolinewidth\":2},\"yaxis\":{\"automargin\":true,\"gridcolor\":\"white\",\"linecolor\":\"white\",\"ticks\":\"\",\"title\":{\"standoff\":15},\"zerolinecolor\":\"white\",\"zerolinewidth\":2}}}},                        {\"responsive\": true}                    ).then(function(){\n",
              "                            \n",
              "var gd = document.getElementById('7a29c549-b90d-45a0-9857-2c36afbcaeae');\n",
              "var x = new MutationObserver(function (mutations, observer) {{\n",
              "        var display = window.getComputedStyle(gd).display;\n",
              "        if (!display || display === 'none') {{\n",
              "            console.log([gd, 'removed!']);\n",
              "            Plotly.purge(gd);\n",
              "            observer.disconnect();\n",
              "        }}\n",
              "}});\n",
              "\n",
              "// Listen for the removal of the full notebook cells\n",
              "var notebookContainer = gd.closest('#notebook-container');\n",
              "if (notebookContainer) {{\n",
              "    x.observe(notebookContainer, {childList: true});\n",
              "}}\n",
              "\n",
              "// Listen for the clearing of the current output cell\n",
              "var outputEl = gd.closest('.output');\n",
              "if (outputEl) {{\n",
              "    x.observe(outputEl, {childList: true});\n",
              "}}\n",
              "\n",
              "                        })                };                            </script>        </div>\n",
              "</body>\n",
              "</html>"
            ]
          },
          "metadata": {}
        }
      ]
    },
    {
      "cell_type": "code",
      "source": [
        "\n",
        "\n",
        "scaler2d = StandardScaler()\n",
        "scaler2d.fit(vecs_w2v)\n",
        "X_scaled = scaler2d.transform(vecs_w2v)\n",
        "\n",
        "pca2d = PCA(n_components=2)\n",
        "pca2d.fit(X_scaled)\n",
        "X_pca = pca2d.transform(X_scaled)"
      ],
      "metadata": {
        "id": "PnzDjhDXtLEj"
      },
      "execution_count": null,
      "outputs": []
    },
    {
      "cell_type": "code",
      "source": [
        "\n",
        "fig = go.Figure([\n",
        "                  go.Scatter(x=X_pca[:2,:][:, 0], y=X_pca[:2,:][:, 1], mode='lines', line=dict(\n",
        "                                      color='olive',\n",
        "                                      width=3)),\n",
        "                  go.Scatter(x=X_pca[:2,:][1:2, 0], y=X_pca[:2,:][1:2, 1], mode='markers', marker={'size': 7,\n",
        "                                'opacity': 1,\n",
        "                                'color': 'olive',\n",
        "                                'symbol' : 'diamond'}  ),\n",
        "\n",
        "                  go.Scatter(x=X_pca[2:,:][:, 0], y=X_pca[2:,:][:, 1], mode='lines', line=dict(\n",
        "                                                        color='powderblue',\n",
        "                                                        width=3)),\n",
        "                  go.Scatter(x=X_pca[2:,:][1:2, 0], y=X_pca[2:,:][1:2, 1], mode='markers', marker={'size': 7,\n",
        "                                'opacity': 1,\n",
        "                                'color': 'powderblue',\n",
        "                                'symbol' : 'diamond'}  )\n",
        "                  ])"
      ],
      "metadata": {
        "id": "DTPGJlpxjHqp"
      },
      "execution_count": null,
      "outputs": []
    },
    {
      "cell_type": "code",
      "source": [
        "X_pca"
      ],
      "metadata": {
        "colab": {
          "base_uri": "https://localhost:8080/"
        },
        "id": "_cg6hshojkPJ",
        "outputId": "b83c138b-e31c-4fc4-a754-7dd774a426f2"
      },
      "execution_count": null,
      "outputs": [
        {
          "output_type": "execute_result",
          "data": {
            "text/plain": [
              "array([[ 2.52095936, -2.55614175],\n",
              "       [ 6.47985297,  1.23959857],\n",
              "       [-5.27607158, -2.13706516],\n",
              "       [-3.72474075,  3.45360835]])"
            ]
          },
          "metadata": {},
          "execution_count": 119
        }
      ]
    },
    {
      "cell_type": "code",
      "source": [
        "fig.show()"
      ],
      "metadata": {
        "colab": {
          "base_uri": "https://localhost:8080/",
          "height": 542
        },
        "id": "utSieCwQjYpv",
        "outputId": "45a17e88-c486-48d1-c36b-3be7514c5fae"
      },
      "execution_count": null,
      "outputs": [
        {
          "output_type": "display_data",
          "data": {
            "text/html": [
              "<html>\n",
              "<head><meta charset=\"utf-8\" /></head>\n",
              "<body>\n",
              "    <div>            <script src=\"https://cdnjs.cloudflare.com/ajax/libs/mathjax/2.7.5/MathJax.js?config=TeX-AMS-MML_SVG\"></script><script type=\"text/javascript\">if (window.MathJax) {MathJax.Hub.Config({SVG: {font: \"STIX-Web\"}});}</script>                <script type=\"text/javascript\">window.PlotlyConfig = {MathJaxConfig: 'local'};</script>\n",
              "        <script src=\"https://cdn.plot.ly/plotly-2.8.3.min.js\"></script>                <div id=\"7186593e-1f0d-4133-8cc3-40f0928225f0\" class=\"plotly-graph-div\" style=\"height:525px; width:100%;\"></div>            <script type=\"text/javascript\">                                    window.PLOTLYENV=window.PLOTLYENV || {};                                    if (document.getElementById(\"7186593e-1f0d-4133-8cc3-40f0928225f0\")) {                    Plotly.newPlot(                        \"7186593e-1f0d-4133-8cc3-40f0928225f0\",                        [{\"line\":{\"color\":\"olive\",\"width\":3},\"mode\":\"lines\",\"x\":[2.520959363646539,6.479852970672171],\"y\":[-2.556141753884918,1.2395985682338333],\"type\":\"scatter\"},{\"marker\":{\"color\":\"olive\",\"opacity\":1,\"size\":7,\"symbol\":\"diamond\"},\"mode\":\"markers\",\"x\":[6.479852970672171],\"y\":[1.2395985682338333],\"type\":\"scatter\"},{\"line\":{\"color\":\"powderblue\",\"width\":3},\"mode\":\"lines\",\"x\":[-5.276071584023585,-3.7247407502951244],\"y\":[-2.1370651607581848,3.4536083464092697],\"type\":\"scatter\"},{\"marker\":{\"color\":\"powderblue\",\"opacity\":1,\"size\":7,\"symbol\":\"diamond\"},\"mode\":\"markers\",\"x\":[-3.7247407502951244],\"y\":[3.4536083464092697],\"type\":\"scatter\"}],                        {\"template\":{\"data\":{\"bar\":[{\"error_x\":{\"color\":\"#2a3f5f\"},\"error_y\":{\"color\":\"#2a3f5f\"},\"marker\":{\"line\":{\"color\":\"#E5ECF6\",\"width\":0.5},\"pattern\":{\"fillmode\":\"overlay\",\"size\":10,\"solidity\":0.2}},\"type\":\"bar\"}],\"barpolar\":[{\"marker\":{\"line\":{\"color\":\"#E5ECF6\",\"width\":0.5},\"pattern\":{\"fillmode\":\"overlay\",\"size\":10,\"solidity\":0.2}},\"type\":\"barpolar\"}],\"carpet\":[{\"aaxis\":{\"endlinecolor\":\"#2a3f5f\",\"gridcolor\":\"white\",\"linecolor\":\"white\",\"minorgridcolor\":\"white\",\"startlinecolor\":\"#2a3f5f\"},\"baxis\":{\"endlinecolor\":\"#2a3f5f\",\"gridcolor\":\"white\",\"linecolor\":\"white\",\"minorgridcolor\":\"white\",\"startlinecolor\":\"#2a3f5f\"},\"type\":\"carpet\"}],\"choropleth\":[{\"colorbar\":{\"outlinewidth\":0,\"ticks\":\"\"},\"type\":\"choropleth\"}],\"contour\":[{\"colorbar\":{\"outlinewidth\":0,\"ticks\":\"\"},\"colorscale\":[[0.0,\"#0d0887\"],[0.1111111111111111,\"#46039f\"],[0.2222222222222222,\"#7201a8\"],[0.3333333333333333,\"#9c179e\"],[0.4444444444444444,\"#bd3786\"],[0.5555555555555556,\"#d8576b\"],[0.6666666666666666,\"#ed7953\"],[0.7777777777777778,\"#fb9f3a\"],[0.8888888888888888,\"#fdca26\"],[1.0,\"#f0f921\"]],\"type\":\"contour\"}],\"contourcarpet\":[{\"colorbar\":{\"outlinewidth\":0,\"ticks\":\"\"},\"type\":\"contourcarpet\"}],\"heatmap\":[{\"colorbar\":{\"outlinewidth\":0,\"ticks\":\"\"},\"colorscale\":[[0.0,\"#0d0887\"],[0.1111111111111111,\"#46039f\"],[0.2222222222222222,\"#7201a8\"],[0.3333333333333333,\"#9c179e\"],[0.4444444444444444,\"#bd3786\"],[0.5555555555555556,\"#d8576b\"],[0.6666666666666666,\"#ed7953\"],[0.7777777777777778,\"#fb9f3a\"],[0.8888888888888888,\"#fdca26\"],[1.0,\"#f0f921\"]],\"type\":\"heatmap\"}],\"heatmapgl\":[{\"colorbar\":{\"outlinewidth\":0,\"ticks\":\"\"},\"colorscale\":[[0.0,\"#0d0887\"],[0.1111111111111111,\"#46039f\"],[0.2222222222222222,\"#7201a8\"],[0.3333333333333333,\"#9c179e\"],[0.4444444444444444,\"#bd3786\"],[0.5555555555555556,\"#d8576b\"],[0.6666666666666666,\"#ed7953\"],[0.7777777777777778,\"#fb9f3a\"],[0.8888888888888888,\"#fdca26\"],[1.0,\"#f0f921\"]],\"type\":\"heatmapgl\"}],\"histogram\":[{\"marker\":{\"pattern\":{\"fillmode\":\"overlay\",\"size\":10,\"solidity\":0.2}},\"type\":\"histogram\"}],\"histogram2d\":[{\"colorbar\":{\"outlinewidth\":0,\"ticks\":\"\"},\"colorscale\":[[0.0,\"#0d0887\"],[0.1111111111111111,\"#46039f\"],[0.2222222222222222,\"#7201a8\"],[0.3333333333333333,\"#9c179e\"],[0.4444444444444444,\"#bd3786\"],[0.5555555555555556,\"#d8576b\"],[0.6666666666666666,\"#ed7953\"],[0.7777777777777778,\"#fb9f3a\"],[0.8888888888888888,\"#fdca26\"],[1.0,\"#f0f921\"]],\"type\":\"histogram2d\"}],\"histogram2dcontour\":[{\"colorbar\":{\"outlinewidth\":0,\"ticks\":\"\"},\"colorscale\":[[0.0,\"#0d0887\"],[0.1111111111111111,\"#46039f\"],[0.2222222222222222,\"#7201a8\"],[0.3333333333333333,\"#9c179e\"],[0.4444444444444444,\"#bd3786\"],[0.5555555555555556,\"#d8576b\"],[0.6666666666666666,\"#ed7953\"],[0.7777777777777778,\"#fb9f3a\"],[0.8888888888888888,\"#fdca26\"],[1.0,\"#f0f921\"]],\"type\":\"histogram2dcontour\"}],\"mesh3d\":[{\"colorbar\":{\"outlinewidth\":0,\"ticks\":\"\"},\"type\":\"mesh3d\"}],\"parcoords\":[{\"line\":{\"colorbar\":{\"outlinewidth\":0,\"ticks\":\"\"}},\"type\":\"parcoords\"}],\"pie\":[{\"automargin\":true,\"type\":\"pie\"}],\"scatter\":[{\"marker\":{\"colorbar\":{\"outlinewidth\":0,\"ticks\":\"\"}},\"type\":\"scatter\"}],\"scatter3d\":[{\"line\":{\"colorbar\":{\"outlinewidth\":0,\"ticks\":\"\"}},\"marker\":{\"colorbar\":{\"outlinewidth\":0,\"ticks\":\"\"}},\"type\":\"scatter3d\"}],\"scattercarpet\":[{\"marker\":{\"colorbar\":{\"outlinewidth\":0,\"ticks\":\"\"}},\"type\":\"scattercarpet\"}],\"scattergeo\":[{\"marker\":{\"colorbar\":{\"outlinewidth\":0,\"ticks\":\"\"}},\"type\":\"scattergeo\"}],\"scattergl\":[{\"marker\":{\"colorbar\":{\"outlinewidth\":0,\"ticks\":\"\"}},\"type\":\"scattergl\"}],\"scattermapbox\":[{\"marker\":{\"colorbar\":{\"outlinewidth\":0,\"ticks\":\"\"}},\"type\":\"scattermapbox\"}],\"scatterpolar\":[{\"marker\":{\"colorbar\":{\"outlinewidth\":0,\"ticks\":\"\"}},\"type\":\"scatterpolar\"}],\"scatterpolargl\":[{\"marker\":{\"colorbar\":{\"outlinewidth\":0,\"ticks\":\"\"}},\"type\":\"scatterpolargl\"}],\"scatterternary\":[{\"marker\":{\"colorbar\":{\"outlinewidth\":0,\"ticks\":\"\"}},\"type\":\"scatterternary\"}],\"surface\":[{\"colorbar\":{\"outlinewidth\":0,\"ticks\":\"\"},\"colorscale\":[[0.0,\"#0d0887\"],[0.1111111111111111,\"#46039f\"],[0.2222222222222222,\"#7201a8\"],[0.3333333333333333,\"#9c179e\"],[0.4444444444444444,\"#bd3786\"],[0.5555555555555556,\"#d8576b\"],[0.6666666666666666,\"#ed7953\"],[0.7777777777777778,\"#fb9f3a\"],[0.8888888888888888,\"#fdca26\"],[1.0,\"#f0f921\"]],\"type\":\"surface\"}],\"table\":[{\"cells\":{\"fill\":{\"color\":\"#EBF0F8\"},\"line\":{\"color\":\"white\"}},\"header\":{\"fill\":{\"color\":\"#C8D4E3\"},\"line\":{\"color\":\"white\"}},\"type\":\"table\"}]},\"layout\":{\"annotationdefaults\":{\"arrowcolor\":\"#2a3f5f\",\"arrowhead\":0,\"arrowwidth\":1},\"autotypenumbers\":\"strict\",\"coloraxis\":{\"colorbar\":{\"outlinewidth\":0,\"ticks\":\"\"}},\"colorscale\":{\"diverging\":[[0,\"#8e0152\"],[0.1,\"#c51b7d\"],[0.2,\"#de77ae\"],[0.3,\"#f1b6da\"],[0.4,\"#fde0ef\"],[0.5,\"#f7f7f7\"],[0.6,\"#e6f5d0\"],[0.7,\"#b8e186\"],[0.8,\"#7fbc41\"],[0.9,\"#4d9221\"],[1,\"#276419\"]],\"sequential\":[[0.0,\"#0d0887\"],[0.1111111111111111,\"#46039f\"],[0.2222222222222222,\"#7201a8\"],[0.3333333333333333,\"#9c179e\"],[0.4444444444444444,\"#bd3786\"],[0.5555555555555556,\"#d8576b\"],[0.6666666666666666,\"#ed7953\"],[0.7777777777777778,\"#fb9f3a\"],[0.8888888888888888,\"#fdca26\"],[1.0,\"#f0f921\"]],\"sequentialminus\":[[0.0,\"#0d0887\"],[0.1111111111111111,\"#46039f\"],[0.2222222222222222,\"#7201a8\"],[0.3333333333333333,\"#9c179e\"],[0.4444444444444444,\"#bd3786\"],[0.5555555555555556,\"#d8576b\"],[0.6666666666666666,\"#ed7953\"],[0.7777777777777778,\"#fb9f3a\"],[0.8888888888888888,\"#fdca26\"],[1.0,\"#f0f921\"]]},\"colorway\":[\"#636efa\",\"#EF553B\",\"#00cc96\",\"#ab63fa\",\"#FFA15A\",\"#19d3f3\",\"#FF6692\",\"#B6E880\",\"#FF97FF\",\"#FECB52\"],\"font\":{\"color\":\"#2a3f5f\"},\"geo\":{\"bgcolor\":\"white\",\"lakecolor\":\"white\",\"landcolor\":\"#E5ECF6\",\"showlakes\":true,\"showland\":true,\"subunitcolor\":\"white\"},\"hoverlabel\":{\"align\":\"left\"},\"hovermode\":\"closest\",\"mapbox\":{\"style\":\"light\"},\"paper_bgcolor\":\"white\",\"plot_bgcolor\":\"#E5ECF6\",\"polar\":{\"angularaxis\":{\"gridcolor\":\"white\",\"linecolor\":\"white\",\"ticks\":\"\"},\"bgcolor\":\"#E5ECF6\",\"radialaxis\":{\"gridcolor\":\"white\",\"linecolor\":\"white\",\"ticks\":\"\"}},\"scene\":{\"xaxis\":{\"backgroundcolor\":\"#E5ECF6\",\"gridcolor\":\"white\",\"gridwidth\":2,\"linecolor\":\"white\",\"showbackground\":true,\"ticks\":\"\",\"zerolinecolor\":\"white\"},\"yaxis\":{\"backgroundcolor\":\"#E5ECF6\",\"gridcolor\":\"white\",\"gridwidth\":2,\"linecolor\":\"white\",\"showbackground\":true,\"ticks\":\"\",\"zerolinecolor\":\"white\"},\"zaxis\":{\"backgroundcolor\":\"#E5ECF6\",\"gridcolor\":\"white\",\"gridwidth\":2,\"linecolor\":\"white\",\"showbackground\":true,\"ticks\":\"\",\"zerolinecolor\":\"white\"}},\"shapedefaults\":{\"line\":{\"color\":\"#2a3f5f\"}},\"ternary\":{\"aaxis\":{\"gridcolor\":\"white\",\"linecolor\":\"white\",\"ticks\":\"\"},\"baxis\":{\"gridcolor\":\"white\",\"linecolor\":\"white\",\"ticks\":\"\"},\"bgcolor\":\"#E5ECF6\",\"caxis\":{\"gridcolor\":\"white\",\"linecolor\":\"white\",\"ticks\":\"\"}},\"title\":{\"x\":0.05},\"xaxis\":{\"automargin\":true,\"gridcolor\":\"white\",\"linecolor\":\"white\",\"ticks\":\"\",\"title\":{\"standoff\":15},\"zerolinecolor\":\"white\",\"zerolinewidth\":2},\"yaxis\":{\"automargin\":true,\"gridcolor\":\"white\",\"linecolor\":\"white\",\"ticks\":\"\",\"title\":{\"standoff\":15},\"zerolinecolor\":\"white\",\"zerolinewidth\":2}}}},                        {\"responsive\": true}                    ).then(function(){\n",
              "                            \n",
              "var gd = document.getElementById('7186593e-1f0d-4133-8cc3-40f0928225f0');\n",
              "var x = new MutationObserver(function (mutations, observer) {{\n",
              "        var display = window.getComputedStyle(gd).display;\n",
              "        if (!display || display === 'none') {{\n",
              "            console.log([gd, 'removed!']);\n",
              "            Plotly.purge(gd);\n",
              "            observer.disconnect();\n",
              "        }}\n",
              "}});\n",
              "\n",
              "// Listen for the removal of the full notebook cells\n",
              "var notebookContainer = gd.closest('#notebook-container');\n",
              "if (notebookContainer) {{\n",
              "    x.observe(notebookContainer, {childList: true});\n",
              "}}\n",
              "\n",
              "// Listen for the clearing of the current output cell\n",
              "var outputEl = gd.closest('.output');\n",
              "if (outputEl) {{\n",
              "    x.observe(outputEl, {childList: true});\n",
              "}}\n",
              "\n",
              "                        })                };                            </script>        </div>\n",
              "</body>\n",
              "</html>"
            ]
          },
          "metadata": {}
        }
      ]
    },
    {
      "cell_type": "code",
      "source": [
        "projections[0]"
      ],
      "metadata": {
        "colab": {
          "base_uri": "https://localhost:8080/"
        },
        "id": "IjQzwQe7QPXS",
        "outputId": "e7c0f18d-f2e1-4352-e4d8-554e8e629195"
      },
      "execution_count": null,
      "outputs": [
        {
          "output_type": "execute_result",
          "data": {
            "text/plain": [
              "array([259.59018, -27.44924, 263.98065], dtype=float32)"
            ]
          },
          "metadata": {},
          "execution_count": 31
        }
      ]
    },
    {
      "cell_type": "markdown",
      "source": [
        "**TASK 1**\n",
        "\n",
        "cosine and distance"
      ],
      "metadata": {
        "id": "7eOsxO2rXfOt"
      }
    },
    {
      "cell_type": "code",
      "source": [
        "import requests, json\n",
        "\n",
        "url = 'https://raw.githubusercontent.com/evgeniyako-edu/corpora/master/data/colors/xkcd.json'\n",
        "response = requests.get(url)\n",
        "\n",
        "raw_data = json.loads(response.text)"
      ],
      "metadata": {
        "id": "dZSe4wC2Xjh5"
      },
      "execution_count": null,
      "outputs": []
    },
    {
      "cell_type": "code",
      "source": [
        "def hex_to_rgb(color_hex):\n",
        "    color_hex = color_hex.lstrip(\"#\")\n",
        "    return [int(color_hex[:2], 16), int(color_hex[2:4], 16), int(color_hex[4:6], 16)]"
      ],
      "metadata": {
        "id": "0YAOvEJzXoCa"
      },
      "execution_count": null,
      "outputs": []
    },
    {
      "cell_type": "code",
      "source": [
        "colors = dict()\n",
        "\n",
        "for item in raw_data['colors']:\n",
        "    colors[item['color']] = hex_to_rgb(item['hex'])"
      ],
      "metadata": {
        "id": "-_z_mEnVXsPG"
      },
      "execution_count": null,
      "outputs": []
    },
    {
      "cell_type": "code",
      "source": [
        "import numpy as np\n",
        "\n",
        "def distance(color1, color2):\n",
        "  return np.sqrt(np.sum([(x-y)**2 for x, y in zip(color1, color2)]))"
      ],
      "metadata": {
        "id": "9xr4eqBJAoQn"
      },
      "execution_count": null,
      "outputs": []
    },
    {
      "cell_type": "code",
      "source": [
        "def find_n_closest(colors, new_color, n=5):\n",
        "  closest = []\n",
        "  for key in sorted(colors.keys(), key=lambda x: distance(new_color, colors[x]))[:n]:\n",
        "    closest.append(key)\n",
        "  return closest"
      ],
      "metadata": {
        "id": "tIhn-xAOYdb5"
      },
      "execution_count": null,
      "outputs": []
    },
    {
      "cell_type": "code",
      "source": [
        "closest"
      ],
      "metadata": {
        "colab": {
          "base_uri": "https://localhost:8080/"
        },
        "id": "muGTvXrYaw5S",
        "outputId": "0a511364-00dd-4c2f-9161-74ec6300f092"
      },
      "execution_count": null,
      "outputs": [
        {
          "output_type": "execute_result",
          "data": {
            "text/plain": [
              "[[102, 30, 162],\n",
              " 'purple',\n",
              " 'indigo blue',\n",
              " 'purple/blue',\n",
              " 'blue purple',\n",
              " 'violet blue',\n",
              " 'blueberry',\n",
              " 'darkish purple',\n",
              " 'blue with a hint of purple',\n",
              " 'bluey purple',\n",
              " 'blurple']"
            ]
          },
          "metadata": {},
          "execution_count": 21
        }
      ]
    },
    {
      "cell_type": "code",
      "source": [
        "n = 10\n",
        "new_color = [102, 30, 162]\n",
        "\n",
        "closest = find_n_closest(colors, new_color, n)\n",
        "\n",
        "fig, axs = plt.subplots(1, n, figsize=(n*2, 2))\n",
        "for ax, c in zip(axs, closest):\n",
        "  if type(c)== str:\n",
        "    ax.set_facecolor('xkcd:'+c)\n",
        "  else:\n",
        "    ax.set_facecolor(color=c)\n",
        "  ax.set_xticks([])\n",
        "  ax.set_yticks([])\n",
        "  ax.set_title(c)"
      ],
      "metadata": {
        "colab": {
          "base_uri": "https://localhost:8080/",
          "height": 159
        },
        "id": "I9llu6DTYfoo",
        "outputId": "14c8ebd4-0180-4f52-9be9-9983ce072c1e"
      },
      "execution_count": null,
      "outputs": [
        {
          "output_type": "display_data",
          "data": {
            "text/plain": [
              "<Figure size 1440x144 with 10 Axes>"
            ],
            "image/png": "[encoded data removed]"
          },
          "metadata": {}
        }
      ]
    },
    {
      "cell_type": "code",
      "source": [],
      "metadata": {
        "id": "tMFy2e2ZYjnY"
      },
      "execution_count": null,
      "outputs": []
    },
    {
      "cell_type": "code",
      "source": [
        "def euclidian_norm(color):\n",
        "  return np.sqrt(np.sum(x**2 for x in color))\n",
        "\n",
        "def dot_prod(color1, color2):\n",
        "  return np.sum([x*y for x, y in zip(color1, color2)])\n",
        "\n",
        "def cosine(color1, color2):\n",
        "  nom = dot_prod(color1, color2)\n",
        "\n",
        "  n1 = euclidian_norm(color1)\n",
        "  n2 = euclidian_norm(color2)\n",
        "  denom =  n1 * n2\n",
        "  return nom/denom"
      ],
      "metadata": {
        "id": "4aMqzIcUYfiA"
      },
      "execution_count": null,
      "outputs": []
    },
    {
      "cell_type": "code",
      "source": [
        "def find_n_closest_cosine(colors, new_color, n=5):\n",
        "  closest = []\n",
        "  nc = (new_color[0]/256,new_color[1]/256, new_color[2]/256)\n",
        "  closest = [nc]\n",
        "  # print(nc)\n",
        "  for key in sorted(colors.keys(), key=lambda x: cosine(new_color, colors[x]))[:n]:\n",
        "    closest.append(key)\n",
        "  return closest"
      ],
      "metadata": {
        "id": "7rR9UhjKYdSk"
      },
      "execution_count": null,
      "outputs": []
    },
    {
      "cell_type": "code",
      "source": [
        "n = 10\n",
        "new_color = [102, 30, 162]\n",
        "\n",
        "closest_cosine = find_n_closest_cosine(colors, new_color, n)\n",
        "\n",
        "fig, axs = plt.subplots(1, n, figsize=((n+1)*2, 2))\n",
        "for ax, c in zip(axs, closest_cosine):\n",
        "  if type(c)== str:\n",
        "    ax.set_facecolor('xkcd:'+c)\n",
        "  else:\n",
        "    ax.set_facecolor(color=c)\n",
        "  ax.set_xticks([])\n",
        "  ax.set_yticks([])\n",
        "  ax.set_title(c)"
      ],
      "metadata": {
        "colab": {
          "base_uri": "https://localhost:8080/",
          "height": 318
        },
        "id": "ajf7XnxHaUsU",
        "outputId": "9df75bfe-3bb2-426a-82b1-e7b553206e47"
      },
      "execution_count": null,
      "outputs": [
        {
          "output_type": "stream",
          "name": "stderr",
          "text": [
            "/usr/local/lib/python3.7/dist-packages/ipykernel_launcher.py:2: DeprecationWarning:\n",
            "\n",
            "Calling np.sum(generator) is deprecated, and in the future will give a different result. Use np.sum(np.fromiter(generator)) or the python sum builtin instead.\n",
            "\n",
            "/usr/local/lib/python3.7/dist-packages/ipykernel_launcher.py:13: RuntimeWarning:\n",
            "\n",
            "invalid value encountered in true_divide\n",
            "\n"
          ]
        },
        {
          "output_type": "display_data",
          "data": {
            "text/plain": [
              "<Figure size 1584x144 with 10 Axes>"
            ],
            "image/png": "[encoded data removed]"
          },
          "metadata": {}
        }
      ]
    },
    {
      "cell_type": "markdown",
      "source": [
        "**TASK 2**\n",
        "\n",
        "Projection on aa hyerplane"
      ],
      "metadata": {
        "id": "4M-BrPbpeAs8"
      }
    },
    {
      "cell_type": "code",
      "source": [],
      "metadata": {
        "id": "1FMgy0R2aUpi"
      },
      "execution_count": null,
      "outputs": []
    },
    {
      "cell_type": "code",
      "source": [
        "def projection(vec, normal):\n",
        "   return normal * (vec @ normal)/ (normal @ normal)\n",
        "\n",
        "def projection_on_plane (vec, normal):\n",
        "   return vec -  projection(vec, normal)\n",
        "\n",
        "def surface_func (w, b, xx,yy ):\n",
        "   z = lambda xx, yy: (-b - w[0] * xx - w[1] * yy) /w[2]\n",
        "   return z(xx,yy)"
      ],
      "metadata": {
        "id": "31oIy8KRL1kt"
      },
      "execution_count": null,
      "outputs": []
    },
    {
      "cell_type": "code",
      "source": [
        "def get_coords(vec):\n",
        "   X = np.array([[0.,0.,0.], vec[:, 0]]).T\n",
        "   x, y, z = X[0,:], X[1, :], X[2, :]\n",
        "   return x, y, z"
      ],
      "metadata": {
        "id": "miuf5ehTPCsh"
      },
      "execution_count": null,
      "outputs": []
    },
    {
      "cell_type": "code",
      "source": [
        "surface_vector = np.array([[-0.3,-0.04, 0.5]]).T\n",
        "surfuce_intersect = 0"
      ],
      "metadata": {
        "id": "ZPdQNrNBM-40"
      },
      "execution_count": null,
      "outputs": []
    },
    {
      "cell_type": "code",
      "source": [
        "surface_vector = np.random.random((3,1))\n",
        "surfuce_intersect = 0# np.random.random((1,))[0]"
      ],
      "metadata": {
        "id": "Ola_sBE-SiVz"
      },
      "execution_count": null,
      "outputs": []
    },
    {
      "cell_type": "code",
      "source": [
        "surface_vector"
      ],
      "metadata": {
        "colab": {
          "base_uri": "https://localhost:8080/"
        },
        "id": "H-1kJeK6TgDp",
        "outputId": "438cacba-d792-4122-e5a4-1bf8222c7954"
      },
      "execution_count": null,
      "outputs": [
        {
          "output_type": "execute_result",
          "data": {
            "text/plain": [
              "array([[0.55186036],\n",
              "       [0.640045  ],\n",
              "       [0.91713109]])"
            ]
          },
          "metadata": {},
          "execution_count": 80
        }
      ]
    },
    {
      "cell_type": "code",
      "source": [
        "def surface_fig(surface_vector, surfuce_intersect):\n",
        "    x,y,z = get_coords (surface_vector)\n",
        "    tmp = np.linspace(-5,5,10)\n",
        "    xx,yy = np.meshgrid(tmp,tmp)\n",
        "    fig = go.Figure([\n",
        "           go.Surface(x=xx, y=yy, z=surface_func (surface_vector, surfuce_intersect, xx,yy ), opacity=.5, showscale=True,\n",
        "                       colorscale=[[0, 'grey']]),\n",
        "          go.Scatter3d(x=x*5, y=y*5,z=z*5, mode='lines', line=dict(\n",
        "                                                color='grey',\n",
        "                                                width=8)),\n",
        "          go.Scatter3d(x=x[1:]*5, y=y[1:]*5,z=z[1:]*5, mode='markers', marker={'size': 7,\n",
        "                        'opacity': 1,\n",
        "                        'color': 'grey',\n",
        "                        'symbol' : 'diamond'}  )]\n",
        "               )\n",
        "    fig.show()\n",
        "    return fig"
      ],
      "metadata": {
        "id": "T3-IL6c3NyB2"
      },
      "execution_count": null,
      "outputs": []
    },
    {
      "cell_type": "code",
      "source": [
        "f = surface_fig(surface_vector, surfuce_intersect)"
      ],
      "metadata": {
        "colab": {
          "base_uri": "https://localhost:8080/",
          "height": 542
        },
        "id": "Y_Kv0PuxQfET",
        "outputId": "4246eac4-d64c-4df0-9665-4b680a3e9279"
      },
      "execution_count": null,
      "outputs": [
        {
          "output_type": "display_data",
          "data": {
            "text/html": [
              "<html>\n",
              "<head><meta charset=\"utf-8\" /></head>\n",
              "<body>\n",
              "    <div>            <script src=\"https://cdnjs.cloudflare.com/ajax/libs/mathjax/2.7.5/MathJax.js?config=TeX-AMS-MML_SVG\"></script><script type=\"text/javascript\">if (window.MathJax) {MathJax.Hub.Config({SVG: {font: \"STIX-Web\"}});}</script>                <script type=\"text/javascript\">window.PlotlyConfig = {MathJaxConfig: 'local'};</script>\n",
              "        <script src=\"https://cdn.plot.ly/plotly-2.8.3.min.js\"></script>                <div id=\"ff8ae46b-f5d4-4543-af3c-3c4a9ae082cb\" class=\"plotly-graph-div\" style=\"height:525px; width:100%;\"></div>            <script type=\"text/javascript\">                                    window.PLOTLYENV=window.PLOTLYENV || {};                                    if (document.getElementById(\"ff8ae46b-f5d4-4543-af3c-3c4a9ae082cb\")) {                    Plotly.newPlot(                        \"ff8ae46b-f5d4-4543-af3c-3c4a9ae082cb\",                        [{\"colorscale\":[[0,\"grey\"]],\"opacity\":0.5,\"showscale\":true,\"x\":[[-5.0,-3.888888888888889,-2.7777777777777777,-1.6666666666666665,-0.5555555555555554,0.5555555555555554,1.666666666666667,2.7777777777777786,3.8888888888888893,5.0],[-5.0,-3.888888888888889,-2.7777777777777777,-1.6666666666666665,-0.5555555555555554,0.5555555555555554,1.666666666666667,2.7777777777777786,3.8888888888888893,5.0],[-5.0,-3.888888888888889,-2.7777777777777777,-1.6666666666666665,-0.5555555555555554,0.5555555555555554,1.666666666666667,2.7777777777777786,3.8888888888888893,5.0],[-5.0,-3.888888888888889,-2.7777777777777777,-1.6666666666666665,-0.5555555555555554,0.5555555555555554,1.666666666666667,2.7777777777777786,3.8888888888888893,5.0],[-5.0,-3.888888888888889,-2.7777777777777777,-1.6666666666666665,-0.5555555555555554,0.5555555555555554,1.666666666666667,2.7777777777777786,3.8888888888888893,5.0],[-5.0,-3.888888888888889,-2.7777777777777777,-1.6666666666666665,-0.5555555555555554,0.5555555555555554,1.666666666666667,2.7777777777777786,3.8888888888888893,5.0],[-5.0,-3.888888888888889,-2.7777777777777777,-1.6666666666666665,-0.5555555555555554,0.5555555555555554,1.666666666666667,2.7777777777777786,3.8888888888888893,5.0],[-5.0,-3.888888888888889,-2.7777777777777777,-1.6666666666666665,-0.5555555555555554,0.5555555555555554,1.666666666666667,2.7777777777777786,3.8888888888888893,5.0],[-5.0,-3.888888888888889,-2.7777777777777777,-1.6666666666666665,-0.5555555555555554,0.5555555555555554,1.666666666666667,2.7777777777777786,3.8888888888888893,5.0],[-5.0,-3.888888888888889,-2.7777777777777777,-1.6666666666666665,-0.5555555555555554,0.5555555555555554,1.666666666666667,2.7777777777777786,3.8888888888888893,5.0]],\"y\":[[-5.0,-5.0,-5.0,-5.0,-5.0,-5.0,-5.0,-5.0,-5.0,-5.0],[-3.888888888888889,-3.888888888888889,-3.888888888888889,-3.888888888888889,-3.888888888888889,-3.888888888888889,-3.888888888888889,-3.888888888888889,-3.888888888888889,-3.888888888888889],[-2.7777777777777777,-2.7777777777777777,-2.7777777777777777,-2.7777777777777777,-2.7777777777777777,-2.7777777777777777,-2.7777777777777777,-2.7777777777777777,-2.7777777777777777,-2.7777777777777777],[-1.6666666666666665,-1.6666666666666665,-1.6666666666666665,-1.6666666666666665,-1.6666666666666665,-1.6666666666666665,-1.6666666666666665,-1.6666666666666665,-1.6666666666666665,-1.6666666666666665],[-0.5555555555555554,-0.5555555555555554,-0.5555555555555554,-0.5555555555555554,-0.5555555555555554,-0.5555555555555554,-0.5555555555555554,-0.5555555555555554,-0.5555555555555554,-0.5555555555555554],[0.5555555555555554,0.5555555555555554,0.5555555555555554,0.5555555555555554,0.5555555555555554,0.5555555555555554,0.5555555555555554,0.5555555555555554,0.5555555555555554,0.5555555555555554],[1.666666666666667,1.666666666666667,1.666666666666667,1.666666666666667,1.666666666666667,1.666666666666667,1.666666666666667,1.666666666666667,1.666666666666667,1.666666666666667],[2.7777777777777786,2.7777777777777786,2.7777777777777786,2.7777777777777786,2.7777777777777786,2.7777777777777786,2.7777777777777786,2.7777777777777786,2.7777777777777786,2.7777777777777786],[3.8888888888888893,3.8888888888888893,3.8888888888888893,3.8888888888888893,3.8888888888888893,3.8888888888888893,3.8888888888888893,3.8888888888888893,3.8888888888888893,3.8888888888888893],[5.0,5.0,5.0,5.0,5.0,5.0,5.0,5.0,5.0,5.0]],\"z\":[[6.498009819888821,5.829426904070703,5.160843988252587,4.492261072434469,3.8236781566163525,3.155095240798236,2.4865123249801186,1.8179294091620009,1.149346493343884,0.48076357752576715],[5.722590553509423,5.0540076376913055,4.385424721873188,3.716841806055071,3.048258890236954,2.3796759744188374,1.71109305860072,1.0425101427826025,0.3739272269644855,-0.2946556888536313],[4.947171287130024,4.278588371311907,3.610005455493789,2.9414225396756724,2.2728396238575552,1.6042567080394383,0.9356737922213209,0.2670908764032035,-0.40149203941491346,-1.0700749552330302],[4.171752020750625,3.5031691049325073,2.8345861891143906,2.1660032732962735,1.4974203574781564,0.8288374416600396,0.16025452584192218,-0.5083283899761952,-1.1769113057943121,-1.845494221612429],[3.396332754371226,2.727749838553109,2.059166922734992,1.390584006916875,0.7220010910987577,0.053418175280640794,-0.6151647405374765,-1.2837476563555938,-1.952330572173711,-2.6209134879918277],[2.6209134879918277,1.9523305721737105,1.2837476563555934,0.6151647405374763,-0.053418175280640794,-0.7220010910987577,-1.390584006916875,-2.0591669227349922,-2.7277498385531094,-3.396332754371226],[1.8454942216124284,1.1769113057943112,0.5083283899761942,-0.16025452584192293,-0.82883744166004,-1.4974203574781568,-2.1660032732962744,-2.8345861891143915,-3.503169104932508,-4.171752020750625],[1.0700749552330295,0.4014920394149123,-0.2670908764032047,-0.9356737922213219,-1.604256708039439,-2.272839623857556,-2.9414225396756732,-3.6100054554937904,-4.2785883713119075,-4.947171287130025],[0.2946556888536308,-0.37392722696448644,-1.0425101427826033,-1.7110930586007205,-2.379675974418838,-3.0482588902369545,-3.7168418060550716,-4.385424721873189,-5.054007637691306,-5.722590553509423],[-0.48076357752576715,-1.1493464933438844,-1.8179294091620015,-2.4865123249801186,-3.155095240798236,-3.8236781566163525,-4.49226107243447,-5.160843988252587,-5.829426904070704,-6.498009819888821]],\"type\":\"surface\"},{\"line\":{\"color\":\"grey\",\"width\":8},\"mode\":\"lines\",\"x\":[0.0,2.7593017997638625],\"y\":[0.0,3.2002250232106064],\"z\":[0.0,4.585655445405617],\"type\":\"scatter3d\"},{\"marker\":{\"color\":\"grey\",\"opacity\":1,\"size\":7,\"symbol\":\"diamond\"},\"mode\":\"markers\",\"x\":[2.7593017997638625],\"y\":[3.2002250232106064],\"z\":[4.585655445405617],\"type\":\"scatter3d\"}],                        {\"template\":{\"data\":{\"bar\":[{\"error_x\":{\"color\":\"#2a3f5f\"},\"error_y\":{\"color\":\"#2a3f5f\"},\"marker\":{\"line\":{\"color\":\"#E5ECF6\",\"width\":0.5},\"pattern\":{\"fillmode\":\"overlay\",\"size\":10,\"solidity\":0.2}},\"type\":\"bar\"}],\"barpolar\":[{\"marker\":{\"line\":{\"color\":\"#E5ECF6\",\"width\":0.5},\"pattern\":{\"fillmode\":\"overlay\",\"size\":10,\"solidity\":0.2}},\"type\":\"barpolar\"}],\"carpet\":[{\"aaxis\":{\"endlinecolor\":\"#2a3f5f\",\"gridcolor\":\"white\",\"linecolor\":\"white\",\"minorgridcolor\":\"white\",\"startlinecolor\":\"#2a3f5f\"},\"baxis\":{\"endlinecolor\":\"#2a3f5f\",\"gridcolor\":\"white\",\"linecolor\":\"white\",\"minorgridcolor\":\"white\",\"startlinecolor\":\"#2a3f5f\"},\"type\":\"carpet\"}],\"choropleth\":[{\"colorbar\":{\"outlinewidth\":0,\"ticks\":\"\"},\"type\":\"choropleth\"}],\"contour\":[{\"colorbar\":{\"outlinewidth\":0,\"ticks\":\"\"},\"colorscale\":[[0.0,\"#0d0887\"],[0.1111111111111111,\"#46039f\"],[0.2222222222222222,\"#7201a8\"],[0.3333333333333333,\"#9c179e\"],[0.4444444444444444,\"#bd3786\"],[0.5555555555555556,\"#d8576b\"],[0.6666666666666666,\"#ed7953\"],[0.7777777777777778,\"#fb9f3a\"],[0.8888888888888888,\"#fdca26\"],[1.0,\"#f0f921\"]],\"type\":\"contour\"}],\"contourcarpet\":[{\"colorbar\":{\"outlinewidth\":0,\"ticks\":\"\"},\"type\":\"contourcarpet\"}],\"heatmap\":[{\"colorbar\":{\"outlinewidth\":0,\"ticks\":\"\"},\"colorscale\":[[0.0,\"#0d0887\"],[0.1111111111111111,\"#46039f\"],[0.2222222222222222,\"#7201a8\"],[0.3333333333333333,\"#9c179e\"],[0.4444444444444444,\"#bd3786\"],[0.5555555555555556,\"#d8576b\"],[0.6666666666666666,\"#ed7953\"],[0.7777777777777778,\"#fb9f3a\"],[0.8888888888888888,\"#fdca26\"],[1.0,\"#f0f921\"]],\"type\":\"heatmap\"}],\"heatmapgl\":[{\"colorbar\":{\"outlinewidth\":0,\"ticks\":\"\"},\"colorscale\":[[0.0,\"#0d0887\"],[0.1111111111111111,\"#46039f\"],[0.2222222222222222,\"#7201a8\"],[0.3333333333333333,\"#9c179e\"],[0.4444444444444444,\"#bd3786\"],[0.5555555555555556,\"#d8576b\"],[0.6666666666666666,\"#ed7953\"],[0.7777777777777778,\"#fb9f3a\"],[0.8888888888888888,\"#fdca26\"],[1.0,\"#f0f921\"]],\"type\":\"heatmapgl\"}],\"histogram\":[{\"marker\":{\"pattern\":{\"fillmode\":\"overlay\",\"size\":10,\"solidity\":0.2}},\"type\":\"histogram\"}],\"histogram2d\":[{\"colorbar\":{\"outlinewidth\":0,\"ticks\":\"\"},\"colorscale\":[[0.0,\"#0d0887\"],[0.1111111111111111,\"#46039f\"],[0.2222222222222222,\"#7201a8\"],[0.3333333333333333,\"#9c179e\"],[0.4444444444444444,\"#bd3786\"],[0.5555555555555556,\"#d8576b\"],[0.6666666666666666,\"#ed7953\"],[0.7777777777777778,\"#fb9f3a\"],[0.8888888888888888,\"#fdca26\"],[1.0,\"#f0f921\"]],\"type\":\"histogram2d\"}],\"histogram2dcontour\":[{\"colorbar\":{\"outlinewidth\":0,\"ticks\":\"\"},\"colorscale\":[[0.0,\"#0d0887\"],[0.1111111111111111,\"#46039f\"],[0.2222222222222222,\"#7201a8\"],[0.3333333333333333,\"#9c179e\"],[0.4444444444444444,\"#bd3786\"],[0.5555555555555556,\"#d8576b\"],[0.6666666666666666,\"#ed7953\"],[0.7777777777777778,\"#fb9f3a\"],[0.8888888888888888,\"#fdca26\"],[1.0,\"#f0f921\"]],\"type\":\"histogram2dcontour\"}],\"mesh3d\":[{\"colorbar\":{\"outlinewidth\":0,\"ticks\":\"\"},\"type\":\"mesh3d\"}],\"parcoords\":[{\"line\":{\"colorbar\":{\"outlinewidth\":0,\"ticks\":\"\"}},\"type\":\"parcoords\"}],\"pie\":[{\"automargin\":true,\"type\":\"pie\"}],\"scatter\":[{\"marker\":{\"colorbar\":{\"outlinewidth\":0,\"ticks\":\"\"}},\"type\":\"scatter\"}],\"scatter3d\":[{\"line\":{\"colorbar\":{\"outlinewidth\":0,\"ticks\":\"\"}},\"marker\":{\"colorbar\":{\"outlinewidth\":0,\"ticks\":\"\"}},\"type\":\"scatter3d\"}],\"scattercarpet\":[{\"marker\":{\"colorbar\":{\"outlinewidth\":0,\"ticks\":\"\"}},\"type\":\"scattercarpet\"}],\"scattergeo\":[{\"marker\":{\"colorbar\":{\"outlinewidth\":0,\"ticks\":\"\"}},\"type\":\"scattergeo\"}],\"scattergl\":[{\"marker\":{\"colorbar\":{\"outlinewidth\":0,\"ticks\":\"\"}},\"type\":\"scattergl\"}],\"scattermapbox\":[{\"marker\":{\"colorbar\":{\"outlinewidth\":0,\"ticks\":\"\"}},\"type\":\"scattermapbox\"}],\"scatterpolar\":[{\"marker\":{\"colorbar\":{\"outlinewidth\":0,\"ticks\":\"\"}},\"type\":\"scatterpolar\"}],\"scatterpolargl\":[{\"marker\":{\"colorbar\":{\"outlinewidth\":0,\"ticks\":\"\"}},\"type\":\"scatterpolargl\"}],\"scatterternary\":[{\"marker\":{\"colorbar\":{\"outlinewidth\":0,\"ticks\":\"\"}},\"type\":\"scatterternary\"}],\"surface\":[{\"colorbar\":{\"outlinewidth\":0,\"ticks\":\"\"},\"colorscale\":[[0.0,\"#0d0887\"],[0.1111111111111111,\"#46039f\"],[0.2222222222222222,\"#7201a8\"],[0.3333333333333333,\"#9c179e\"],[0.4444444444444444,\"#bd3786\"],[0.5555555555555556,\"#d8576b\"],[0.6666666666666666,\"#ed7953\"],[0.7777777777777778,\"#fb9f3a\"],[0.8888888888888888,\"#fdca26\"],[1.0,\"#f0f921\"]],\"type\":\"surface\"}],\"table\":[{\"cells\":{\"fill\":{\"color\":\"#EBF0F8\"},\"line\":{\"color\":\"white\"}},\"header\":{\"fill\":{\"color\":\"#C8D4E3\"},\"line\":{\"color\":\"white\"}},\"type\":\"table\"}]},\"layout\":{\"annotationdefaults\":{\"arrowcolor\":\"#2a3f5f\",\"arrowhead\":0,\"arrowwidth\":1},\"autotypenumbers\":\"strict\",\"coloraxis\":{\"colorbar\":{\"outlinewidth\":0,\"ticks\":\"\"}},\"colorscale\":{\"diverging\":[[0,\"#8e0152\"],[0.1,\"#c51b7d\"],[0.2,\"#de77ae\"],[0.3,\"#f1b6da\"],[0.4,\"#fde0ef\"],[0.5,\"#f7f7f7\"],[0.6,\"#e6f5d0\"],[0.7,\"#b8e186\"],[0.8,\"#7fbc41\"],[0.9,\"#4d9221\"],[1,\"#276419\"]],\"sequential\":[[0.0,\"#0d0887\"],[0.1111111111111111,\"#46039f\"],[0.2222222222222222,\"#7201a8\"],[0.3333333333333333,\"#9c179e\"],[0.4444444444444444,\"#bd3786\"],[0.5555555555555556,\"#d8576b\"],[0.6666666666666666,\"#ed7953\"],[0.7777777777777778,\"#fb9f3a\"],[0.8888888888888888,\"#fdca26\"],[1.0,\"#f0f921\"]],\"sequentialminus\":[[0.0,\"#0d0887\"],[0.1111111111111111,\"#46039f\"],[0.2222222222222222,\"#7201a8\"],[0.3333333333333333,\"#9c179e\"],[0.4444444444444444,\"#bd3786\"],[0.5555555555555556,\"#d8576b\"],[0.6666666666666666,\"#ed7953\"],[0.7777777777777778,\"#fb9f3a\"],[0.8888888888888888,\"#fdca26\"],[1.0,\"#f0f921\"]]},\"colorway\":[\"#636efa\",\"#EF553B\",\"#00cc96\",\"#ab63fa\",\"#FFA15A\",\"#19d3f3\",\"#FF6692\",\"#B6E880\",\"#FF97FF\",\"#FECB52\"],\"font\":{\"color\":\"#2a3f5f\"},\"geo\":{\"bgcolor\":\"white\",\"lakecolor\":\"white\",\"landcolor\":\"#E5ECF6\",\"showlakes\":true,\"showland\":true,\"subunitcolor\":\"white\"},\"hoverlabel\":{\"align\":\"left\"},\"hovermode\":\"closest\",\"mapbox\":{\"style\":\"light\"},\"paper_bgcolor\":\"white\",\"plot_bgcolor\":\"#E5ECF6\",\"polar\":{\"angularaxis\":{\"gridcolor\":\"white\",\"linecolor\":\"white\",\"ticks\":\"\"},\"bgcolor\":\"#E5ECF6\",\"radialaxis\":{\"gridcolor\":\"white\",\"linecolor\":\"white\",\"ticks\":\"\"}},\"scene\":{\"xaxis\":{\"backgroundcolor\":\"#E5ECF6\",\"gridcolor\":\"white\",\"gridwidth\":2,\"linecolor\":\"white\",\"showbackground\":true,\"ticks\":\"\",\"zerolinecolor\":\"white\"},\"yaxis\":{\"backgroundcolor\":\"#E5ECF6\",\"gridcolor\":\"white\",\"gridwidth\":2,\"linecolor\":\"white\",\"showbackground\":true,\"ticks\":\"\",\"zerolinecolor\":\"white\"},\"zaxis\":{\"backgroundcolor\":\"#E5ECF6\",\"gridcolor\":\"white\",\"gridwidth\":2,\"linecolor\":\"white\",\"showbackground\":true,\"ticks\":\"\",\"zerolinecolor\":\"white\"}},\"shapedefaults\":{\"line\":{\"color\":\"#2a3f5f\"}},\"ternary\":{\"aaxis\":{\"gridcolor\":\"white\",\"linecolor\":\"white\",\"ticks\":\"\"},\"baxis\":{\"gridcolor\":\"white\",\"linecolor\":\"white\",\"ticks\":\"\"},\"bgcolor\":\"#E5ECF6\",\"caxis\":{\"gridcolor\":\"white\",\"linecolor\":\"white\",\"ticks\":\"\"}},\"title\":{\"x\":0.05},\"xaxis\":{\"automargin\":true,\"gridcolor\":\"white\",\"linecolor\":\"white\",\"ticks\":\"\",\"title\":{\"standoff\":15},\"zerolinecolor\":\"white\",\"zerolinewidth\":2},\"yaxis\":{\"automargin\":true,\"gridcolor\":\"white\",\"linecolor\":\"white\",\"ticks\":\"\",\"title\":{\"standoff\":15},\"zerolinecolor\":\"white\",\"zerolinewidth\":2}}}},                        {\"responsive\": true}                    ).then(function(){\n",
              "                            \n",
              "var gd = document.getElementById('ff8ae46b-f5d4-4543-af3c-3c4a9ae082cb');\n",
              "var x = new MutationObserver(function (mutations, observer) {{\n",
              "        var display = window.getComputedStyle(gd).display;\n",
              "        if (!display || display === 'none') {{\n",
              "            console.log([gd, 'removed!']);\n",
              "            Plotly.purge(gd);\n",
              "            observer.disconnect();\n",
              "        }}\n",
              "}});\n",
              "\n",
              "// Listen for the removal of the full notebook cells\n",
              "var notebookContainer = gd.closest('#notebook-container');\n",
              "if (notebookContainer) {{\n",
              "    x.observe(notebookContainer, {childList: true});\n",
              "}}\n",
              "\n",
              "// Listen for the clearing of the current output cell\n",
              "var outputEl = gd.closest('.output');\n",
              "if (outputEl) {{\n",
              "    x.observe(outputEl, {childList: true});\n",
              "}}\n",
              "\n",
              "                        })                };                            </script>        </div>\n",
              "</body>\n",
              "</html>"
            ]
          },
          "metadata": {}
        }
      ]
    },
    {
      "cell_type": "code",
      "source": [
        "def draw_vectors(fig, vectors):\n",
        "  for i, vec in enumerate(vectors):\n",
        "    # print(vec)\n",
        "    x,y,z = get_coords(np.array([vec]).T)\n",
        "    fig.add_trace(go.Scatter3d(x=x*5, y=y*5,z=z*5, mode='lines', line=dict(\n",
        "                                                color=COLORS[i],\n",
        "                                                width=8)))\n",
        "    fig.add_trace(go.Scatter3d(x=x[1:]*5, y=y[1:]*5,z=z[1:]*5, mode='markers', marker={'size': 7,\n",
        "                        'opacity': 1,\n",
        "                        'color': COLORS[i],\n",
        "                        'symbol' : 'diamond'}  ))\n",
        "\n",
        "          # )\n",
        "\n",
        "  fig.show()\n",
        "  return fig\n"
      ],
      "metadata": {
        "id": "ffMP70H5QkTa"
      },
      "execution_count": null,
      "outputs": []
    },
    {
      "cell_type": "code",
      "source": [
        "vectors = np.random.random_sample((4,3)) #np.random.random((4,3))"
      ],
      "metadata": {
        "id": "NE_wDN3gZAsx"
      },
      "execution_count": null,
      "outputs": []
    },
    {
      "cell_type": "code",
      "source": [
        "draw_vectors(f, vectors)"
      ],
      "metadata": {
        "colab": {
          "base_uri": "https://localhost:8080/",
          "height": 1000
        },
        "id": "wl_OhogKZGhw",
        "outputId": "2e714cdf-e4cc-4269-cb77-2e82cd4d7596"
      },
      "execution_count": null,
      "outputs": [
        {
          "output_type": "display_data",
          "data": {
            "text/html": [
              "<html>\n",
              "<head><meta charset=\"utf-8\" /></head>\n",
              "<body>\n",
              "    <div>            <script src=\"https://cdnjs.cloudflare.com/ajax/libs/mathjax/2.7.5/MathJax.js?config=TeX-AMS-MML_SVG\"></script><script type=\"text/javascript\">if (window.MathJax) {MathJax.Hub.Config({SVG: {font: \"STIX-Web\"}});}</script>                <script type=\"text/javascript\">window.PlotlyConfig = {MathJaxConfig: 'local'};</script>\n",
              "        <script src=\"https://cdn.plot.ly/plotly-2.8.3.min.js\"></script>                <div id=\"dfe15c7f-2bbc-47a1-bf34-96db6ced62bf\" class=\"plotly-graph-div\" style=\"height:525px; width:100%;\"></div>            <script type=\"text/javascript\">                                    window.PLOTLYENV=window.PLOTLYENV || {};                                    if (document.getElementById(\"dfe15c7f-2bbc-47a1-bf34-96db6ced62bf\")) {                    Plotly.newPlot(                        \"dfe15c7f-2bbc-47a1-bf34-96db6ced62bf\",                        [{\"colorscale\":[[0,\"grey\"]],\"opacity\":0.5,\"showscale\":true,\"x\":[[-5.0,-3.888888888888889,-2.7777777777777777,-1.6666666666666665,-0.5555555555555554,0.5555555555555554,1.666666666666667,2.7777777777777786,3.8888888888888893,5.0],[-5.0,-3.888888888888889,-2.7777777777777777,-1.6666666666666665,-0.5555555555555554,0.5555555555555554,1.666666666666667,2.7777777777777786,3.8888888888888893,5.0],[-5.0,-3.888888888888889,-2.7777777777777777,-1.6666666666666665,-0.5555555555555554,0.5555555555555554,1.666666666666667,2.7777777777777786,3.8888888888888893,5.0],[-5.0,-3.888888888888889,-2.7777777777777777,-1.6666666666666665,-0.5555555555555554,0.5555555555555554,1.666666666666667,2.7777777777777786,3.8888888888888893,5.0],[-5.0,-3.888888888888889,-2.7777777777777777,-1.6666666666666665,-0.5555555555555554,0.5555555555555554,1.666666666666667,2.7777777777777786,3.8888888888888893,5.0],[-5.0,-3.888888888888889,-2.7777777777777777,-1.6666666666666665,-0.5555555555555554,0.5555555555555554,1.666666666666667,2.7777777777777786,3.8888888888888893,5.0],[-5.0,-3.888888888888889,-2.7777777777777777,-1.6666666666666665,-0.5555555555555554,0.5555555555555554,1.666666666666667,2.7777777777777786,3.8888888888888893,5.0],[-5.0,-3.888888888888889,-2.7777777777777777,-1.6666666666666665,-0.5555555555555554,0.5555555555555554,1.666666666666667,2.7777777777777786,3.8888888888888893,5.0],[-5.0,-3.888888888888889,-2.7777777777777777,-1.6666666666666665,-0.5555555555555554,0.5555555555555554,1.666666666666667,2.7777777777777786,3.8888888888888893,5.0],[-5.0,-3.888888888888889,-2.7777777777777777,-1.6666666666666665,-0.5555555555555554,0.5555555555555554,1.666666666666667,2.7777777777777786,3.8888888888888893,5.0]],\"y\":[[-5.0,-5.0,-5.0,-5.0,-5.0,-5.0,-5.0,-5.0,-5.0,-5.0],[-3.888888888888889,-3.888888888888889,-3.888888888888889,-3.888888888888889,-3.888888888888889,-3.888888888888889,-3.888888888888889,-3.888888888888889,-3.888888888888889,-3.888888888888889],[-2.7777777777777777,-2.7777777777777777,-2.7777777777777777,-2.7777777777777777,-2.7777777777777777,-2.7777777777777777,-2.7777777777777777,-2.7777777777777777,-2.7777777777777777,-2.7777777777777777],[-1.6666666666666665,-1.6666666666666665,-1.6666666666666665,-1.6666666666666665,-1.6666666666666665,-1.6666666666666665,-1.6666666666666665,-1.6666666666666665,-1.6666666666666665,-1.6666666666666665],[-0.5555555555555554,-0.5555555555555554,-0.5555555555555554,-0.5555555555555554,-0.5555555555555554,-0.5555555555555554,-0.5555555555555554,-0.5555555555555554,-0.5555555555555554,-0.5555555555555554],[0.5555555555555554,0.5555555555555554,0.5555555555555554,0.5555555555555554,0.5555555555555554,0.5555555555555554,0.5555555555555554,0.5555555555555554,0.5555555555555554,0.5555555555555554],[1.666666666666667,1.666666666666667,1.666666666666667,1.666666666666667,1.666666666666667,1.666666666666667,1.666666666666667,1.666666666666667,1.666666666666667,1.666666666666667],[2.7777777777777786,2.7777777777777786,2.7777777777777786,2.7777777777777786,2.7777777777777786,2.7777777777777786,2.7777777777777786,2.7777777777777786,2.7777777777777786,2.7777777777777786],[3.8888888888888893,3.8888888888888893,3.8888888888888893,3.8888888888888893,3.8888888888888893,3.8888888888888893,3.8888888888888893,3.8888888888888893,3.8888888888888893,3.8888888888888893],[5.0,5.0,5.0,5.0,5.0,5.0,5.0,5.0,5.0,5.0]],\"z\":[[6.498009819888821,5.829426904070703,5.160843988252587,4.492261072434469,3.8236781566163525,3.155095240798236,2.4865123249801186,1.8179294091620009,1.149346493343884,0.48076357752576715],[5.722590553509423,5.0540076376913055,4.385424721873188,3.716841806055071,3.048258890236954,2.3796759744188374,1.71109305860072,1.0425101427826025,0.3739272269644855,-0.2946556888536313],[4.947171287130024,4.278588371311907,3.610005455493789,2.9414225396756724,2.2728396238575552,1.6042567080394383,0.9356737922213209,0.2670908764032035,-0.40149203941491346,-1.0700749552330302],[4.171752020750625,3.5031691049325073,2.8345861891143906,2.1660032732962735,1.4974203574781564,0.8288374416600396,0.16025452584192218,-0.5083283899761952,-1.1769113057943121,-1.845494221612429],[3.396332754371226,2.727749838553109,2.059166922734992,1.390584006916875,0.7220010910987577,0.053418175280640794,-0.6151647405374765,-1.2837476563555938,-1.952330572173711,-2.6209134879918277],[2.6209134879918277,1.9523305721737105,1.2837476563555934,0.6151647405374763,-0.053418175280640794,-0.7220010910987577,-1.390584006916875,-2.0591669227349922,-2.7277498385531094,-3.396332754371226],[1.8454942216124284,1.1769113057943112,0.5083283899761942,-0.16025452584192293,-0.82883744166004,-1.4974203574781568,-2.1660032732962744,-2.8345861891143915,-3.503169104932508,-4.171752020750625],[1.0700749552330295,0.4014920394149123,-0.2670908764032047,-0.9356737922213219,-1.604256708039439,-2.272839623857556,-2.9414225396756732,-3.6100054554937904,-4.2785883713119075,-4.947171287130025],[0.2946556888536308,-0.37392722696448644,-1.0425101427826033,-1.7110930586007205,-2.379675974418838,-3.0482588902369545,-3.7168418060550716,-4.385424721873189,-5.054007637691306,-5.722590553509423],[-0.48076357752576715,-1.1493464933438844,-1.8179294091620015,-2.4865123249801186,-3.155095240798236,-3.8236781566163525,-4.49226107243447,-5.160843988252587,-5.829426904070704,-6.498009819888821]],\"type\":\"surface\"},{\"line\":{\"color\":\"grey\",\"width\":8},\"mode\":\"lines\",\"x\":[0.0,2.7593017997638625],\"y\":[0.0,3.2002250232106064],\"z\":[0.0,4.585655445405617],\"type\":\"scatter3d\"},{\"marker\":{\"color\":\"grey\",\"opacity\":1,\"size\":7,\"symbol\":\"diamond\"},\"mode\":\"markers\",\"x\":[2.7593017997638625],\"y\":[3.2002250232106064],\"z\":[4.585655445405617],\"type\":\"scatter3d\"},{\"line\":{\"color\":\"aliceblue\",\"width\":8},\"mode\":\"lines\",\"x\":[0.0,3.1029254571238445],\"y\":[0.0,2.2769176921790613],\"z\":[0.0,2.0063605798076845],\"type\":\"scatter3d\"},{\"line\":{\"color\":\"aliceblue\",\"width\":8},\"mode\":\"lines\",\"x\":[0.0,3.1029254571238445],\"y\":[0.0,2.2769176921790613],\"z\":[0.0,2.0063605798076845],\"type\":\"scatter3d\"},{\"marker\":{\"color\":\"aliceblue\",\"opacity\":1,\"size\":7,\"symbol\":\"diamond\"},\"mode\":\"markers\",\"x\":[3.1029254571238445],\"y\":[2.2769176921790613],\"z\":[2.0063605798076845],\"type\":\"scatter3d\"},{\"line\":{\"color\":\"darkkhaki\",\"width\":8},\"mode\":\"lines\",\"x\":[0.0,0.06189430103385796],\"y\":[0.0,2.2479737308942394],\"z\":[0.0,3.4360688057670914],\"type\":\"scatter3d\"},{\"marker\":{\"color\":\"darkkhaki\",\"opacity\":1,\"size\":7,\"symbol\":\"diamond\"},\"mode\":\"markers\",\"x\":[0.06189430103385796],\"y\":[2.2479737308942394],\"z\":[3.4360688057670914],\"type\":\"scatter3d\"},{\"line\":{\"color\":\"linen\",\"width\":8},\"mode\":\"lines\",\"x\":[0.0,2.6573581678323963],\"y\":[0.0,3.0445037035237927],\"z\":[0.0,0.256960682750228],\"type\":\"scatter3d\"},{\"marker\":{\"color\":\"linen\",\"opacity\":1,\"size\":7,\"symbol\":\"diamond\"},\"mode\":\"markers\",\"x\":[2.6573581678323963],\"y\":[3.0445037035237927],\"z\":[0.256960682750228],\"type\":\"scatter3d\"},{\"line\":{\"color\":\"darkmagenta\",\"width\":8},\"mode\":\"lines\",\"x\":[0.0,3.252321850851445],\"y\":[0.0,2.2160493596456403],\"z\":[0.0,4.678077089760015],\"type\":\"scatter3d\"},{\"marker\":{\"color\":\"darkmagenta\",\"opacity\":1,\"size\":7,\"symbol\":\"diamond\"},\"mode\":\"markers\",\"x\":[3.252321850851445],\"y\":[2.2160493596456403],\"z\":[4.678077089760015],\"type\":\"scatter3d\"}],                        {\"template\":{\"data\":{\"bar\":[{\"error_x\":{\"color\":\"#2a3f5f\"},\"error_y\":{\"color\":\"#2a3f5f\"},\"marker\":{\"line\":{\"color\":\"#E5ECF6\",\"width\":0.5},\"pattern\":{\"fillmode\":\"overlay\",\"size\":10,\"solidity\":0.2}},\"type\":\"bar\"}],\"barpolar\":[{\"marker\":{\"line\":{\"color\":\"#E5ECF6\",\"width\":0.5},\"pattern\":{\"fillmode\":\"overlay\",\"size\":10,\"solidity\":0.2}},\"type\":\"barpolar\"}],\"carpet\":[{\"aaxis\":{\"endlinecolor\":\"#2a3f5f\",\"gridcolor\":\"white\",\"linecolor\":\"white\",\"minorgridcolor\":\"white\",\"startlinecolor\":\"#2a3f5f\"},\"baxis\":{\"endlinecolor\":\"#2a3f5f\",\"gridcolor\":\"white\",\"linecolor\":\"white\",\"minorgridcolor\":\"white\",\"startlinecolor\":\"#2a3f5f\"},\"type\":\"carpet\"}],\"choropleth\":[{\"colorbar\":{\"outlinewidth\":0,\"ticks\":\"\"},\"type\":\"choropleth\"}],\"contour\":[{\"colorbar\":{\"outlinewidth\":0,\"ticks\":\"\"},\"colorscale\":[[0.0,\"#0d0887\"],[0.1111111111111111,\"#46039f\"],[0.2222222222222222,\"#7201a8\"],[0.3333333333333333,\"#9c179e\"],[0.4444444444444444,\"#bd3786\"],[0.5555555555555556,\"#d8576b\"],[0.6666666666666666,\"#ed7953\"],[0.7777777777777778,\"#fb9f3a\"],[0.8888888888888888,\"#fdca26\"],[1.0,\"#f0f921\"]],\"type\":\"contour\"}],\"contourcarpet\":[{\"colorbar\":{\"outlinewidth\":0,\"ticks\":\"\"},\"type\":\"contourcarpet\"}],\"heatmap\":[{\"colorbar\":{\"outlinewidth\":0,\"ticks\":\"\"},\"colorscale\":[[0.0,\"#0d0887\"],[0.1111111111111111,\"#46039f\"],[0.2222222222222222,\"#7201a8\"],[0.3333333333333333,\"#9c179e\"],[0.4444444444444444,\"#bd3786\"],[0.5555555555555556,\"#d8576b\"],[0.6666666666666666,\"#ed7953\"],[0.7777777777777778,\"#fb9f3a\"],[0.8888888888888888,\"#fdca26\"],[1.0,\"#f0f921\"]],\"type\":\"heatmap\"}],\"heatmapgl\":[{\"colorbar\":{\"outlinewidth\":0,\"ticks\":\"\"},\"colorscale\":[[0.0,\"#0d0887\"],[0.1111111111111111,\"#46039f\"],[0.2222222222222222,\"#7201a8\"],[0.3333333333333333,\"#9c179e\"],[0.4444444444444444,\"#bd3786\"],[0.5555555555555556,\"#d8576b\"],[0.6666666666666666,\"#ed7953\"],[0.7777777777777778,\"#fb9f3a\"],[0.8888888888888888,\"#fdca26\"],[1.0,\"#f0f921\"]],\"type\":\"heatmapgl\"}],\"histogram\":[{\"marker\":{\"pattern\":{\"fillmode\":\"overlay\",\"size\":10,\"solidity\":0.2}},\"type\":\"histogram\"}],\"histogram2d\":[{\"colorbar\":{\"outlinewidth\":0,\"ticks\":\"\"},\"colorscale\":[[0.0,\"#0d0887\"],[0.1111111111111111,\"#46039f\"],[0.2222222222222222,\"#7201a8\"],[0.3333333333333333,\"#9c179e\"],[0.4444444444444444,\"#bd3786\"],[0.5555555555555556,\"#d8576b\"],[0.6666666666666666,\"#ed7953\"],[0.7777777777777778,\"#fb9f3a\"],[0.8888888888888888,\"#fdca26\"],[1.0,\"#f0f921\"]],\"type\":\"histogram2d\"}],\"histogram2dcontour\":[{\"colorbar\":{\"outlinewidth\":0,\"ticks\":\"\"},\"colorscale\":[[0.0,\"#0d0887\"],[0.1111111111111111,\"#46039f\"],[0.2222222222222222,\"#7201a8\"],[0.3333333333333333,\"#9c179e\"],[0.4444444444444444,\"#bd3786\"],[0.5555555555555556,\"#d8576b\"],[0.6666666666666666,\"#ed7953\"],[0.7777777777777778,\"#fb9f3a\"],[0.8888888888888888,\"#fdca26\"],[1.0,\"#f0f921\"]],\"type\":\"histogram2dcontour\"}],\"mesh3d\":[{\"colorbar\":{\"outlinewidth\":0,\"ticks\":\"\"},\"type\":\"mesh3d\"}],\"parcoords\":[{\"line\":{\"colorbar\":{\"outlinewidth\":0,\"ticks\":\"\"}},\"type\":\"parcoords\"}],\"pie\":[{\"automargin\":true,\"type\":\"pie\"}],\"scatter\":[{\"marker\":{\"colorbar\":{\"outlinewidth\":0,\"ticks\":\"\"}},\"type\":\"scatter\"}],\"scatter3d\":[{\"line\":{\"colorbar\":{\"outlinewidth\":0,\"ticks\":\"\"}},\"marker\":{\"colorbar\":{\"outlinewidth\":0,\"ticks\":\"\"}},\"type\":\"scatter3d\"}],\"scattercarpet\":[{\"marker\":{\"colorbar\":{\"outlinewidth\":0,\"ticks\":\"\"}},\"type\":\"scattercarpet\"}],\"scattergeo\":[{\"marker\":{\"colorbar\":{\"outlinewidth\":0,\"ticks\":\"\"}},\"type\":\"scattergeo\"}],\"scattergl\":[{\"marker\":{\"colorbar\":{\"outlinewidth\":0,\"ticks\":\"\"}},\"type\":\"scattergl\"}],\"scattermapbox\":[{\"marker\":{\"colorbar\":{\"outlinewidth\":0,\"ticks\":\"\"}},\"type\":\"scattermapbox\"}],\"scatterpolar\":[{\"marker\":{\"colorbar\":{\"outlinewidth\":0,\"ticks\":\"\"}},\"type\":\"scatterpolar\"}],\"scatterpolargl\":[{\"marker\":{\"colorbar\":{\"outlinewidth\":0,\"ticks\":\"\"}},\"type\":\"scatterpolargl\"}],\"scatterternary\":[{\"marker\":{\"colorbar\":{\"outlinewidth\":0,\"ticks\":\"\"}},\"type\":\"scatterternary\"}],\"surface\":[{\"colorbar\":{\"outlinewidth\":0,\"ticks\":\"\"},\"colorscale\":[[0.0,\"#0d0887\"],[0.1111111111111111,\"#46039f\"],[0.2222222222222222,\"#7201a8\"],[0.3333333333333333,\"#9c179e\"],[0.4444444444444444,\"#bd3786\"],[0.5555555555555556,\"#d8576b\"],[0.6666666666666666,\"#ed7953\"],[0.7777777777777778,\"#fb9f3a\"],[0.8888888888888888,\"#fdca26\"],[1.0,\"#f0f921\"]],\"type\":\"surface\"}],\"table\":[{\"cells\":{\"fill\":{\"color\":\"#EBF0F8\"},\"line\":{\"color\":\"white\"}},\"header\":{\"fill\":{\"color\":\"#C8D4E3\"},\"line\":{\"color\":\"white\"}},\"type\":\"table\"}]},\"layout\":{\"annotationdefaults\":{\"arrowcolor\":\"#2a3f5f\",\"arrowhead\":0,\"arrowwidth\":1},\"autotypenumbers\":\"strict\",\"coloraxis\":{\"colorbar\":{\"outlinewidth\":0,\"ticks\":\"\"}},\"colorscale\":{\"diverging\":[[0,\"#8e0152\"],[0.1,\"#c51b7d\"],[0.2,\"#de77ae\"],[0.3,\"#f1b6da\"],[0.4,\"#fde0ef\"],[0.5,\"#f7f7f7\"],[0.6,\"#e6f5d0\"],[0.7,\"#b8e186\"],[0.8,\"#7fbc41\"],[0.9,\"#4d9221\"],[1,\"#276419\"]],\"sequential\":[[0.0,\"#0d0887\"],[0.1111111111111111,\"#46039f\"],[0.2222222222222222,\"#7201a8\"],[0.3333333333333333,\"#9c179e\"],[0.4444444444444444,\"#bd3786\"],[0.5555555555555556,\"#d8576b\"],[0.6666666666666666,\"#ed7953\"],[0.7777777777777778,\"#fb9f3a\"],[0.8888888888888888,\"#fdca26\"],[1.0,\"#f0f921\"]],\"sequentialminus\":[[0.0,\"#0d0887\"],[0.1111111111111111,\"#46039f\"],[0.2222222222222222,\"#7201a8\"],[0.3333333333333333,\"#9c179e\"],[0.4444444444444444,\"#bd3786\"],[0.5555555555555556,\"#d8576b\"],[0.6666666666666666,\"#ed7953\"],[0.7777777777777778,\"#fb9f3a\"],[0.8888888888888888,\"#fdca26\"],[1.0,\"#f0f921\"]]},\"colorway\":[\"#636efa\",\"#EF553B\",\"#00cc96\",\"#ab63fa\",\"#FFA15A\",\"#19d3f3\",\"#FF6692\",\"#B6E880\",\"#FF97FF\",\"#FECB52\"],\"font\":{\"color\":\"#2a3f5f\"},\"geo\":{\"bgcolor\":\"white\",\"lakecolor\":\"white\",\"landcolor\":\"#E5ECF6\",\"showlakes\":true,\"showland\":true,\"subunitcolor\":\"white\"},\"hoverlabel\":{\"align\":\"left\"},\"hovermode\":\"closest\",\"mapbox\":{\"style\":\"light\"},\"paper_bgcolor\":\"white\",\"plot_bgcolor\":\"#E5ECF6\",\"polar\":{\"angularaxis\":{\"gridcolor\":\"white\",\"linecolor\":\"white\",\"ticks\":\"\"},\"bgcolor\":\"#E5ECF6\",\"radialaxis\":{\"gridcolor\":\"white\",\"linecolor\":\"white\",\"ticks\":\"\"}},\"scene\":{\"xaxis\":{\"backgroundcolor\":\"#E5ECF6\",\"gridcolor\":\"white\",\"gridwidth\":2,\"linecolor\":\"white\",\"showbackground\":true,\"ticks\":\"\",\"zerolinecolor\":\"white\"},\"yaxis\":{\"backgroundcolor\":\"#E5ECF6\",\"gridcolor\":\"white\",\"gridwidth\":2,\"linecolor\":\"white\",\"showbackground\":true,\"ticks\":\"\",\"zerolinecolor\":\"white\"},\"zaxis\":{\"backgroundcolor\":\"#E5ECF6\",\"gridcolor\":\"white\",\"gridwidth\":2,\"linecolor\":\"white\",\"showbackground\":true,\"ticks\":\"\",\"zerolinecolor\":\"white\"}},\"shapedefaults\":{\"line\":{\"color\":\"#2a3f5f\"}},\"ternary\":{\"aaxis\":{\"gridcolor\":\"white\",\"linecolor\":\"white\",\"ticks\":\"\"},\"baxis\":{\"gridcolor\":\"white\",\"linecolor\":\"white\",\"ticks\":\"\"},\"bgcolor\":\"#E5ECF6\",\"caxis\":{\"gridcolor\":\"white\",\"linecolor\":\"white\",\"ticks\":\"\"}},\"title\":{\"x\":0.05},\"xaxis\":{\"automargin\":true,\"gridcolor\":\"white\",\"linecolor\":\"white\",\"ticks\":\"\",\"title\":{\"standoff\":15},\"zerolinecolor\":\"white\",\"zerolinewidth\":2},\"yaxis\":{\"automargin\":true,\"gridcolor\":\"white\",\"linecolor\":\"white\",\"ticks\":\"\",\"title\":{\"standoff\":15},\"zerolinecolor\":\"white\",\"zerolinewidth\":2}}}},                        {\"responsive\": true}                    ).then(function(){\n",
              "                            \n",
              "var gd = document.getElementById('dfe15c7f-2bbc-47a1-bf34-96db6ced62bf');\n",
              "var x = new MutationObserver(function (mutations, observer) {{\n",
              "        var display = window.getComputedStyle(gd).display;\n",
              "        if (!display || display === 'none') {{\n",
              "            console.log([gd, 'removed!']);\n",
              "            Plotly.purge(gd);\n",
              "            observer.disconnect();\n",
              "        }}\n",
              "}});\n",
              "\n",
              "// Listen for the removal of the full notebook cells\n",
              "var notebookContainer = gd.closest('#notebook-container');\n",
              "if (notebookContainer) {{\n",
              "    x.observe(notebookContainer, {childList: true});\n",
              "}}\n",
              "\n",
              "// Listen for the clearing of the current output cell\n",
              "var outputEl = gd.closest('.output');\n",
              "if (outputEl) {{\n",
              "    x.observe(outputEl, {childList: true});\n",
              "}}\n",
              "\n",
              "                        })                };                            </script>        </div>\n",
              "</body>\n",
              "</html>"
            ]
          },
          "metadata": {}
        },
        {
          "output_type": "display_data",
          "data": {
            "text/html": [
              "<html>\n",
              "<head><meta charset=\"utf-8\" /></head>\n",
              "<body>\n",
              "    <div>            <script src=\"https://cdnjs.cloudflare.com/ajax/libs/mathjax/2.7.5/MathJax.js?config=TeX-AMS-MML_SVG\"></script><script type=\"text/javascript\">if (window.MathJax) {MathJax.Hub.Config({SVG: {font: \"STIX-Web\"}});}</script>                <script type=\"text/javascript\">window.PlotlyConfig = {MathJaxConfig: 'local'};</script>\n",
              "        <script src=\"https://cdn.plot.ly/plotly-2.8.3.min.js\"></script>                <div id=\"9cdac853-0464-408c-8acf-ac1781cba4ef\" class=\"plotly-graph-div\" style=\"height:525px; width:100%;\"></div>            <script type=\"text/javascript\">                                    window.PLOTLYENV=window.PLOTLYENV || {};                                    if (document.getElementById(\"9cdac853-0464-408c-8acf-ac1781cba4ef\")) {                    Plotly.newPlot(                        \"9cdac853-0464-408c-8acf-ac1781cba4ef\",                        [{\"colorscale\":[[0,\"grey\"]],\"opacity\":0.5,\"showscale\":true,\"x\":[[-5.0,-3.888888888888889,-2.7777777777777777,-1.6666666666666665,-0.5555555555555554,0.5555555555555554,1.666666666666667,2.7777777777777786,3.8888888888888893,5.0],[-5.0,-3.888888888888889,-2.7777777777777777,-1.6666666666666665,-0.5555555555555554,0.5555555555555554,1.666666666666667,2.7777777777777786,3.8888888888888893,5.0],[-5.0,-3.888888888888889,-2.7777777777777777,-1.6666666666666665,-0.5555555555555554,0.5555555555555554,1.666666666666667,2.7777777777777786,3.8888888888888893,5.0],[-5.0,-3.888888888888889,-2.7777777777777777,-1.6666666666666665,-0.5555555555555554,0.5555555555555554,1.666666666666667,2.7777777777777786,3.8888888888888893,5.0],[-5.0,-3.888888888888889,-2.7777777777777777,-1.6666666666666665,-0.5555555555555554,0.5555555555555554,1.666666666666667,2.7777777777777786,3.8888888888888893,5.0],[-5.0,-3.888888888888889,-2.7777777777777777,-1.6666666666666665,-0.5555555555555554,0.5555555555555554,1.666666666666667,2.7777777777777786,3.8888888888888893,5.0],[-5.0,-3.888888888888889,-2.7777777777777777,-1.6666666666666665,-0.5555555555555554,0.5555555555555554,1.666666666666667,2.7777777777777786,3.8888888888888893,5.0],[-5.0,-3.888888888888889,-2.7777777777777777,-1.6666666666666665,-0.5555555555555554,0.5555555555555554,1.666666666666667,2.7777777777777786,3.8888888888888893,5.0],[-5.0,-3.888888888888889,-2.7777777777777777,-1.6666666666666665,-0.5555555555555554,0.5555555555555554,1.666666666666667,2.7777777777777786,3.8888888888888893,5.0],[-5.0,-3.888888888888889,-2.7777777777777777,-1.6666666666666665,-0.5555555555555554,0.5555555555555554,1.666666666666667,2.7777777777777786,3.8888888888888893,5.0]],\"y\":[[-5.0,-5.0,-5.0,-5.0,-5.0,-5.0,-5.0,-5.0,-5.0,-5.0],[-3.888888888888889,-3.888888888888889,-3.888888888888889,-3.888888888888889,-3.888888888888889,-3.888888888888889,-3.888888888888889,-3.888888888888889,-3.888888888888889,-3.888888888888889],[-2.7777777777777777,-2.7777777777777777,-2.7777777777777777,-2.7777777777777777,-2.7777777777777777,-2.7777777777777777,-2.7777777777777777,-2.7777777777777777,-2.7777777777777777,-2.7777777777777777],[-1.6666666666666665,-1.6666666666666665,-1.6666666666666665,-1.6666666666666665,-1.6666666666666665,-1.6666666666666665,-1.6666666666666665,-1.6666666666666665,-1.6666666666666665,-1.6666666666666665],[-0.5555555555555554,-0.5555555555555554,-0.5555555555555554,-0.5555555555555554,-0.5555555555555554,-0.5555555555555554,-0.5555555555555554,-0.5555555555555554,-0.5555555555555554,-0.5555555555555554],[0.5555555555555554,0.5555555555555554,0.5555555555555554,0.5555555555555554,0.5555555555555554,0.5555555555555554,0.5555555555555554,0.5555555555555554,0.5555555555555554,0.5555555555555554],[1.666666666666667,1.666666666666667,1.666666666666667,1.666666666666667,1.666666666666667,1.666666666666667,1.666666666666667,1.666666666666667,1.666666666666667,1.666666666666667],[2.7777777777777786,2.7777777777777786,2.7777777777777786,2.7777777777777786,2.7777777777777786,2.7777777777777786,2.7777777777777786,2.7777777777777786,2.7777777777777786,2.7777777777777786],[3.8888888888888893,3.8888888888888893,3.8888888888888893,3.8888888888888893,3.8888888888888893,3.8888888888888893,3.8888888888888893,3.8888888888888893,3.8888888888888893,3.8888888888888893],[5.0,5.0,5.0,5.0,5.0,5.0,5.0,5.0,5.0,5.0]],\"z\":[[6.498009819888821,5.829426904070703,5.160843988252587,4.492261072434469,3.8236781566163525,3.155095240798236,2.4865123249801186,1.8179294091620009,1.149346493343884,0.48076357752576715],[5.722590553509423,5.0540076376913055,4.385424721873188,3.716841806055071,3.048258890236954,2.3796759744188374,1.71109305860072,1.0425101427826025,0.3739272269644855,-0.2946556888536313],[4.947171287130024,4.278588371311907,3.610005455493789,2.9414225396756724,2.2728396238575552,1.6042567080394383,0.9356737922213209,0.2670908764032035,-0.40149203941491346,-1.0700749552330302],[4.171752020750625,3.5031691049325073,2.8345861891143906,2.1660032732962735,1.4974203574781564,0.8288374416600396,0.16025452584192218,-0.5083283899761952,-1.1769113057943121,-1.845494221612429],[3.396332754371226,2.727749838553109,2.059166922734992,1.390584006916875,0.7220010910987577,0.053418175280640794,-0.6151647405374765,-1.2837476563555938,-1.952330572173711,-2.6209134879918277],[2.6209134879918277,1.9523305721737105,1.2837476563555934,0.6151647405374763,-0.053418175280640794,-0.7220010910987577,-1.390584006916875,-2.0591669227349922,-2.7277498385531094,-3.396332754371226],[1.8454942216124284,1.1769113057943112,0.5083283899761942,-0.16025452584192293,-0.82883744166004,-1.4974203574781568,-2.1660032732962744,-2.8345861891143915,-3.503169104932508,-4.171752020750625],[1.0700749552330295,0.4014920394149123,-0.2670908764032047,-0.9356737922213219,-1.604256708039439,-2.272839623857556,-2.9414225396756732,-3.6100054554937904,-4.2785883713119075,-4.947171287130025],[0.2946556888536308,-0.37392722696448644,-1.0425101427826033,-1.7110930586007205,-2.379675974418838,-3.0482588902369545,-3.7168418060550716,-4.385424721873189,-5.054007637691306,-5.722590553509423],[-0.48076357752576715,-1.1493464933438844,-1.8179294091620015,-2.4865123249801186,-3.155095240798236,-3.8236781566163525,-4.49226107243447,-5.160843988252587,-5.829426904070704,-6.498009819888821]],\"type\":\"surface\"},{\"line\":{\"color\":\"grey\",\"width\":8},\"mode\":\"lines\",\"x\":[0.0,2.7593017997638625],\"y\":[0.0,3.2002250232106064],\"z\":[0.0,4.585655445405617],\"type\":\"scatter3d\"},{\"marker\":{\"color\":\"grey\",\"opacity\":1,\"size\":7,\"symbol\":\"diamond\"},\"mode\":\"markers\",\"x\":[2.7593017997638625],\"y\":[3.2002250232106064],\"z\":[4.585655445405617],\"type\":\"scatter3d\"},{\"line\":{\"color\":\"aliceblue\",\"width\":8},\"mode\":\"lines\",\"x\":[0.0,3.1029254571238445],\"y\":[0.0,2.2769176921790613],\"z\":[0.0,2.0063605798076845],\"type\":\"scatter3d\"},{\"line\":{\"color\":\"aliceblue\",\"width\":8},\"mode\":\"lines\",\"x\":[0.0,3.1029254571238445],\"y\":[0.0,2.2769176921790613],\"z\":[0.0,2.0063605798076845],\"type\":\"scatter3d\"},{\"marker\":{\"color\":\"aliceblue\",\"opacity\":1,\"size\":7,\"symbol\":\"diamond\"},\"mode\":\"markers\",\"x\":[3.1029254571238445],\"y\":[2.2769176921790613],\"z\":[2.0063605798076845],\"type\":\"scatter3d\"},{\"line\":{\"color\":\"darkkhaki\",\"width\":8},\"mode\":\"lines\",\"x\":[0.0,0.06189430103385796],\"y\":[0.0,2.2479737308942394],\"z\":[0.0,3.4360688057670914],\"type\":\"scatter3d\"},{\"marker\":{\"color\":\"darkkhaki\",\"opacity\":1,\"size\":7,\"symbol\":\"diamond\"},\"mode\":\"markers\",\"x\":[0.06189430103385796],\"y\":[2.2479737308942394],\"z\":[3.4360688057670914],\"type\":\"scatter3d\"},{\"line\":{\"color\":\"linen\",\"width\":8},\"mode\":\"lines\",\"x\":[0.0,2.6573581678323963],\"y\":[0.0,3.0445037035237927],\"z\":[0.0,0.256960682750228],\"type\":\"scatter3d\"},{\"marker\":{\"color\":\"linen\",\"opacity\":1,\"size\":7,\"symbol\":\"diamond\"},\"mode\":\"markers\",\"x\":[2.6573581678323963],\"y\":[3.0445037035237927],\"z\":[0.256960682750228],\"type\":\"scatter3d\"},{\"line\":{\"color\":\"darkmagenta\",\"width\":8},\"mode\":\"lines\",\"x\":[0.0,3.252321850851445],\"y\":[0.0,2.2160493596456403],\"z\":[0.0,4.678077089760015],\"type\":\"scatter3d\"},{\"marker\":{\"color\":\"darkmagenta\",\"opacity\":1,\"size\":7,\"symbol\":\"diamond\"},\"mode\":\"markers\",\"x\":[3.252321850851445],\"y\":[2.2160493596456403],\"z\":[4.678077089760015],\"type\":\"scatter3d\"}],                        {\"template\":{\"data\":{\"bar\":[{\"error_x\":{\"color\":\"#2a3f5f\"},\"error_y\":{\"color\":\"#2a3f5f\"},\"marker\":{\"line\":{\"color\":\"#E5ECF6\",\"width\":0.5},\"pattern\":{\"fillmode\":\"overlay\",\"size\":10,\"solidity\":0.2}},\"type\":\"bar\"}],\"barpolar\":[{\"marker\":{\"line\":{\"color\":\"#E5ECF6\",\"width\":0.5},\"pattern\":{\"fillmode\":\"overlay\",\"size\":10,\"solidity\":0.2}},\"type\":\"barpolar\"}],\"carpet\":[{\"aaxis\":{\"endlinecolor\":\"#2a3f5f\",\"gridcolor\":\"white\",\"linecolor\":\"white\",\"minorgridcolor\":\"white\",\"startlinecolor\":\"#2a3f5f\"},\"baxis\":{\"endlinecolor\":\"#2a3f5f\",\"gridcolor\":\"white\",\"linecolor\":\"white\",\"minorgridcolor\":\"white\",\"startlinecolor\":\"#2a3f5f\"},\"type\":\"carpet\"}],\"choropleth\":[{\"colorbar\":{\"outlinewidth\":0,\"ticks\":\"\"},\"type\":\"choropleth\"}],\"contour\":[{\"colorbar\":{\"outlinewidth\":0,\"ticks\":\"\"},\"colorscale\":[[0.0,\"#0d0887\"],[0.1111111111111111,\"#46039f\"],[0.2222222222222222,\"#7201a8\"],[0.3333333333333333,\"#9c179e\"],[0.4444444444444444,\"#bd3786\"],[0.5555555555555556,\"#d8576b\"],[0.6666666666666666,\"#ed7953\"],[0.7777777777777778,\"#fb9f3a\"],[0.8888888888888888,\"#fdca26\"],[1.0,\"#f0f921\"]],\"type\":\"contour\"}],\"contourcarpet\":[{\"colorbar\":{\"outlinewidth\":0,\"ticks\":\"\"},\"type\":\"contourcarpet\"}],\"heatmap\":[{\"colorbar\":{\"outlinewidth\":0,\"ticks\":\"\"},\"colorscale\":[[0.0,\"#0d0887\"],[0.1111111111111111,\"#46039f\"],[0.2222222222222222,\"#7201a8\"],[0.3333333333333333,\"#9c179e\"],[0.4444444444444444,\"#bd3786\"],[0.5555555555555556,\"#d8576b\"],[0.6666666666666666,\"#ed7953\"],[0.7777777777777778,\"#fb9f3a\"],[0.8888888888888888,\"#fdca26\"],[1.0,\"#f0f921\"]],\"type\":\"heatmap\"}],\"heatmapgl\":[{\"colorbar\":{\"outlinewidth\":0,\"ticks\":\"\"},\"colorscale\":[[0.0,\"#0d0887\"],[0.1111111111111111,\"#46039f\"],[0.2222222222222222,\"#7201a8\"],[0.3333333333333333,\"#9c179e\"],[0.4444444444444444,\"#bd3786\"],[0.5555555555555556,\"#d8576b\"],[0.6666666666666666,\"#ed7953\"],[0.7777777777777778,\"#fb9f3a\"],[0.8888888888888888,\"#fdca26\"],[1.0,\"#f0f921\"]],\"type\":\"heatmapgl\"}],\"histogram\":[{\"marker\":{\"pattern\":{\"fillmode\":\"overlay\",\"size\":10,\"solidity\":0.2}},\"type\":\"histogram\"}],\"histogram2d\":[{\"colorbar\":{\"outlinewidth\":0,\"ticks\":\"\"},\"colorscale\":[[0.0,\"#0d0887\"],[0.1111111111111111,\"#46039f\"],[0.2222222222222222,\"#7201a8\"],[0.3333333333333333,\"#9c179e\"],[0.4444444444444444,\"#bd3786\"],[0.5555555555555556,\"#d8576b\"],[0.6666666666666666,\"#ed7953\"],[0.7777777777777778,\"#fb9f3a\"],[0.8888888888888888,\"#fdca26\"],[1.0,\"#f0f921\"]],\"type\":\"histogram2d\"}],\"histogram2dcontour\":[{\"colorbar\":{\"outlinewidth\":0,\"ticks\":\"\"},\"colorscale\":[[0.0,\"#0d0887\"],[0.1111111111111111,\"#46039f\"],[0.2222222222222222,\"#7201a8\"],[0.3333333333333333,\"#9c179e\"],[0.4444444444444444,\"#bd3786\"],[0.5555555555555556,\"#d8576b\"],[0.6666666666666666,\"#ed7953\"],[0.7777777777777778,\"#fb9f3a\"],[0.8888888888888888,\"#fdca26\"],[1.0,\"#f0f921\"]],\"type\":\"histogram2dcontour\"}],\"mesh3d\":[{\"colorbar\":{\"outlinewidth\":0,\"ticks\":\"\"},\"type\":\"mesh3d\"}],\"parcoords\":[{\"line\":{\"colorbar\":{\"outlinewidth\":0,\"ticks\":\"\"}},\"type\":\"parcoords\"}],\"pie\":[{\"automargin\":true,\"type\":\"pie\"}],\"scatter\":[{\"marker\":{\"colorbar\":{\"outlinewidth\":0,\"ticks\":\"\"}},\"type\":\"scatter\"}],\"scatter3d\":[{\"line\":{\"colorbar\":{\"outlinewidth\":0,\"ticks\":\"\"}},\"marker\":{\"colorbar\":{\"outlinewidth\":0,\"ticks\":\"\"}},\"type\":\"scatter3d\"}],\"scattercarpet\":[{\"marker\":{\"colorbar\":{\"outlinewidth\":0,\"ticks\":\"\"}},\"type\":\"scattercarpet\"}],\"scattergeo\":[{\"marker\":{\"colorbar\":{\"outlinewidth\":0,\"ticks\":\"\"}},\"type\":\"scattergeo\"}],\"scattergl\":[{\"marker\":{\"colorbar\":{\"outlinewidth\":0,\"ticks\":\"\"}},\"type\":\"scattergl\"}],\"scattermapbox\":[{\"marker\":{\"colorbar\":{\"outlinewidth\":0,\"ticks\":\"\"}},\"type\":\"scattermapbox\"}],\"scatterpolar\":[{\"marker\":{\"colorbar\":{\"outlinewidth\":0,\"ticks\":\"\"}},\"type\":\"scatterpolar\"}],\"scatterpolargl\":[{\"marker\":{\"colorbar\":{\"outlinewidth\":0,\"ticks\":\"\"}},\"type\":\"scatterpolargl\"}],\"scatterternary\":[{\"marker\":{\"colorbar\":{\"outlinewidth\":0,\"ticks\":\"\"}},\"type\":\"scatterternary\"}],\"surface\":[{\"colorbar\":{\"outlinewidth\":0,\"ticks\":\"\"},\"colorscale\":[[0.0,\"#0d0887\"],[0.1111111111111111,\"#46039f\"],[0.2222222222222222,\"#7201a8\"],[0.3333333333333333,\"#9c179e\"],[0.4444444444444444,\"#bd3786\"],[0.5555555555555556,\"#d8576b\"],[0.6666666666666666,\"#ed7953\"],[0.7777777777777778,\"#fb9f3a\"],[0.8888888888888888,\"#fdca26\"],[1.0,\"#f0f921\"]],\"type\":\"surface\"}],\"table\":[{\"cells\":{\"fill\":{\"color\":\"#EBF0F8\"},\"line\":{\"color\":\"white\"}},\"header\":{\"fill\":{\"color\":\"#C8D4E3\"},\"line\":{\"color\":\"white\"}},\"type\":\"table\"}]},\"layout\":{\"annotationdefaults\":{\"arrowcolor\":\"#2a3f5f\",\"arrowhead\":0,\"arrowwidth\":1},\"autotypenumbers\":\"strict\",\"coloraxis\":{\"colorbar\":{\"outlinewidth\":0,\"ticks\":\"\"}},\"colorscale\":{\"diverging\":[[0,\"#8e0152\"],[0.1,\"#c51b7d\"],[0.2,\"#de77ae\"],[0.3,\"#f1b6da\"],[0.4,\"#fde0ef\"],[0.5,\"#f7f7f7\"],[0.6,\"#e6f5d0\"],[0.7,\"#b8e186\"],[0.8,\"#7fbc41\"],[0.9,\"#4d9221\"],[1,\"#276419\"]],\"sequential\":[[0.0,\"#0d0887\"],[0.1111111111111111,\"#46039f\"],[0.2222222222222222,\"#7201a8\"],[0.3333333333333333,\"#9c179e\"],[0.4444444444444444,\"#bd3786\"],[0.5555555555555556,\"#d8576b\"],[0.6666666666666666,\"#ed7953\"],[0.7777777777777778,\"#fb9f3a\"],[0.8888888888888888,\"#fdca26\"],[1.0,\"#f0f921\"]],\"sequentialminus\":[[0.0,\"#0d0887\"],[0.1111111111111111,\"#46039f\"],[0.2222222222222222,\"#7201a8\"],[0.3333333333333333,\"#9c179e\"],[0.4444444444444444,\"#bd3786\"],[0.5555555555555556,\"#d8576b\"],[0.6666666666666666,\"#ed7953\"],[0.7777777777777778,\"#fb9f3a\"],[0.8888888888888888,\"#fdca26\"],[1.0,\"#f0f921\"]]},\"colorway\":[\"#636efa\",\"#EF553B\",\"#00cc96\",\"#ab63fa\",\"#FFA15A\",\"#19d3f3\",\"#FF6692\",\"#B6E880\",\"#FF97FF\",\"#FECB52\"],\"font\":{\"color\":\"#2a3f5f\"},\"geo\":{\"bgcolor\":\"white\",\"lakecolor\":\"white\",\"landcolor\":\"#E5ECF6\",\"showlakes\":true,\"showland\":true,\"subunitcolor\":\"white\"},\"hoverlabel\":{\"align\":\"left\"},\"hovermode\":\"closest\",\"mapbox\":{\"style\":\"light\"},\"paper_bgcolor\":\"white\",\"plot_bgcolor\":\"#E5ECF6\",\"polar\":{\"angularaxis\":{\"gridcolor\":\"white\",\"linecolor\":\"white\",\"ticks\":\"\"},\"bgcolor\":\"#E5ECF6\",\"radialaxis\":{\"gridcolor\":\"white\",\"linecolor\":\"white\",\"ticks\":\"\"}},\"scene\":{\"xaxis\":{\"backgroundcolor\":\"#E5ECF6\",\"gridcolor\":\"white\",\"gridwidth\":2,\"linecolor\":\"white\",\"showbackground\":true,\"ticks\":\"\",\"zerolinecolor\":\"white\"},\"yaxis\":{\"backgroundcolor\":\"#E5ECF6\",\"gridcolor\":\"white\",\"gridwidth\":2,\"linecolor\":\"white\",\"showbackground\":true,\"ticks\":\"\",\"zerolinecolor\":\"white\"},\"zaxis\":{\"backgroundcolor\":\"#E5ECF6\",\"gridcolor\":\"white\",\"gridwidth\":2,\"linecolor\":\"white\",\"showbackground\":true,\"ticks\":\"\",\"zerolinecolor\":\"white\"}},\"shapedefaults\":{\"line\":{\"color\":\"#2a3f5f\"}},\"ternary\":{\"aaxis\":{\"gridcolor\":\"white\",\"linecolor\":\"white\",\"ticks\":\"\"},\"baxis\":{\"gridcolor\":\"white\",\"linecolor\":\"white\",\"ticks\":\"\"},\"bgcolor\":\"#E5ECF6\",\"caxis\":{\"gridcolor\":\"white\",\"linecolor\":\"white\",\"ticks\":\"\"}},\"title\":{\"x\":0.05},\"xaxis\":{\"automargin\":true,\"gridcolor\":\"white\",\"linecolor\":\"white\",\"ticks\":\"\",\"title\":{\"standoff\":15},\"zerolinecolor\":\"white\",\"zerolinewidth\":2},\"yaxis\":{\"automargin\":true,\"gridcolor\":\"white\",\"linecolor\":\"white\",\"ticks\":\"\",\"title\":{\"standoff\":15},\"zerolinecolor\":\"white\",\"zerolinewidth\":2}}}},                        {\"responsive\": true}                    ).then(function(){\n",
              "                            \n",
              "var gd = document.getElementById('9cdac853-0464-408c-8acf-ac1781cba4ef');\n",
              "var x = new MutationObserver(function (mutations, observer) {{\n",
              "        var display = window.getComputedStyle(gd).display;\n",
              "        if (!display || display === 'none') {{\n",
              "            console.log([gd, 'removed!']);\n",
              "            Plotly.purge(gd);\n",
              "            observer.disconnect();\n",
              "        }}\n",
              "}});\n",
              "\n",
              "// Listen for the removal of the full notebook cells\n",
              "var notebookContainer = gd.closest('#notebook-container');\n",
              "if (notebookContainer) {{\n",
              "    x.observe(notebookContainer, {childList: true});\n",
              "}}\n",
              "\n",
              "// Listen for the clearing of the current output cell\n",
              "var outputEl = gd.closest('.output');\n",
              "if (outputEl) {{\n",
              "    x.observe(outputEl, {childList: true});\n",
              "}}\n",
              "\n",
              "                        })                };                            </script>        </div>\n",
              "</body>\n",
              "</html>"
            ]
          },
          "metadata": {}
        }
      ]
    },
    {
      "cell_type": "code",
      "source": [
        "def draw_projections(fig, vectors, surface_vector):\n",
        "  for i, vec in enumerate(vectors):\n",
        "    proj = projection_on_plane(vec, surface_vector[:,0])\n",
        "    x,y,z = get_coords(np.array([proj]).T)\n",
        "    fig.add_trace(go.Scatter3d(x=x*5, y=y*5,z=z*5, mode='lines', line=dict(\n",
        "                                                color=COLORS[i],\n",
        "                                                width=8)))\n",
        "    fig.add_trace(go.Scatter3d(x=x[1:]*5, y=y[1:]*5,z=z[1:]*5, mode='markers', marker={'size': 7,\n",
        "                        'opacity': 1,\n",
        "                        'color': COLORS[i],\n",
        "                        'symbol' : 'diamond'}  ))\n",
        "\n",
        "          # )\n",
        "\n",
        "  fig.show()\n",
        "  return fig\n"
      ],
      "metadata": {
        "id": "gtC-U-3fcx2I"
      },
      "execution_count": null,
      "outputs": []
    },
    {
      "cell_type": "code",
      "source": [
        "draw_projections(f, vectors, surface_vector)"
      ],
      "metadata": {
        "colab": {
          "base_uri": "https://localhost:8080/",
          "height": 1000
        },
        "id": "cKuK-mGheBXY",
        "outputId": "491c7f25-27b0-47d0-d0c4-87c8569b9a25"
      },
      "execution_count": null,
      "outputs": [
        {
          "output_type": "display_data",
          "data": {
            "text/html": [
              "<html>\n",
              "<head><meta charset=\"utf-8\" /></head>\n",
              "<body>\n",
              "    <div>            <script src=\"https://cdnjs.cloudflare.com/ajax/libs/mathjax/2.7.5/MathJax.js?config=TeX-AMS-MML_SVG\"></script><script type=\"text/javascript\">if (window.MathJax) {MathJax.Hub.Config({SVG: {font: \"STIX-Web\"}});}</script>                <script type=\"text/javascript\">window.PlotlyConfig = {MathJaxConfig: 'local'};</script>\n",
              "        <script src=\"https://cdn.plot.ly/plotly-2.8.3.min.js\"></script>                <div id=\"465fdb58-f6b4-4ae4-a0d3-dc7fb4fab181\" class=\"plotly-graph-div\" style=\"height:525px; width:100%;\"></div>            <script type=\"text/javascript\">                                    window.PLOTLYENV=window.PLOTLYENV || {};                                    if (document.getElementById(\"465fdb58-f6b4-4ae4-a0d3-dc7fb4fab181\")) {                    Plotly.newPlot(                        \"465fdb58-f6b4-4ae4-a0d3-dc7fb4fab181\",                        [{\"colorscale\":[[0,\"grey\"]],\"opacity\":0.5,\"showscale\":true,\"x\":[[-5.0,-3.888888888888889,-2.7777777777777777,-1.6666666666666665,-0.5555555555555554,0.5555555555555554,1.666666666666667,2.7777777777777786,3.8888888888888893,5.0],[-5.0,-3.888888888888889,-2.7777777777777777,-1.6666666666666665,-0.5555555555555554,0.5555555555555554,1.666666666666667,2.7777777777777786,3.8888888888888893,5.0],[-5.0,-3.888888888888889,-2.7777777777777777,-1.6666666666666665,-0.5555555555555554,0.5555555555555554,1.666666666666667,2.7777777777777786,3.8888888888888893,5.0],[-5.0,-3.888888888888889,-2.7777777777777777,-1.6666666666666665,-0.5555555555555554,0.5555555555555554,1.666666666666667,2.7777777777777786,3.8888888888888893,5.0],[-5.0,-3.888888888888889,-2.7777777777777777,-1.6666666666666665,-0.5555555555555554,0.5555555555555554,1.666666666666667,2.7777777777777786,3.8888888888888893,5.0],[-5.0,-3.888888888888889,-2.7777777777777777,-1.6666666666666665,-0.5555555555555554,0.5555555555555554,1.666666666666667,2.7777777777777786,3.8888888888888893,5.0],[-5.0,-3.888888888888889,-2.7777777777777777,-1.6666666666666665,-0.5555555555555554,0.5555555555555554,1.666666666666667,2.7777777777777786,3.8888888888888893,5.0],[-5.0,-3.888888888888889,-2.7777777777777777,-1.6666666666666665,-0.5555555555555554,0.5555555555555554,1.666666666666667,2.7777777777777786,3.8888888888888893,5.0],[-5.0,-3.888888888888889,-2.7777777777777777,-1.6666666666666665,-0.5555555555555554,0.5555555555555554,1.666666666666667,2.7777777777777786,3.8888888888888893,5.0],[-5.0,-3.888888888888889,-2.7777777777777777,-1.6666666666666665,-0.5555555555555554,0.5555555555555554,1.666666666666667,2.7777777777777786,3.8888888888888893,5.0]],\"y\":[[-5.0,-5.0,-5.0,-5.0,-5.0,-5.0,-5.0,-5.0,-5.0,-5.0],[-3.888888888888889,-3.888888888888889,-3.888888888888889,-3.888888888888889,-3.888888888888889,-3.888888888888889,-3.888888888888889,-3.888888888888889,-3.888888888888889,-3.888888888888889],[-2.7777777777777777,-2.7777777777777777,-2.7777777777777777,-2.7777777777777777,-2.7777777777777777,-2.7777777777777777,-2.7777777777777777,-2.7777777777777777,-2.7777777777777777,-2.7777777777777777],[-1.6666666666666665,-1.6666666666666665,-1.6666666666666665,-1.6666666666666665,-1.6666666666666665,-1.6666666666666665,-1.6666666666666665,-1.6666666666666665,-1.6666666666666665,-1.6666666666666665],[-0.5555555555555554,-0.5555555555555554,-0.5555555555555554,-0.5555555555555554,-0.5555555555555554,-0.5555555555555554,-0.5555555555555554,-0.5555555555555554,-0.5555555555555554,-0.5555555555555554],[0.5555555555555554,0.5555555555555554,0.5555555555555554,0.5555555555555554,0.5555555555555554,0.5555555555555554,0.5555555555555554,0.5555555555555554,0.5555555555555554,0.5555555555555554],[1.666666666666667,1.666666666666667,1.666666666666667,1.666666666666667,1.666666666666667,1.666666666666667,1.666666666666667,1.666666666666667,1.666666666666667,1.666666666666667],[2.7777777777777786,2.7777777777777786,2.7777777777777786,2.7777777777777786,2.7777777777777786,2.7777777777777786,2.7777777777777786,2.7777777777777786,2.7777777777777786,2.7777777777777786],[3.8888888888888893,3.8888888888888893,3.8888888888888893,3.8888888888888893,3.8888888888888893,3.8888888888888893,3.8888888888888893,3.8888888888888893,3.8888888888888893,3.8888888888888893],[5.0,5.0,5.0,5.0,5.0,5.0,5.0,5.0,5.0,5.0]],\"z\":[[6.498009819888821,5.829426904070703,5.160843988252587,4.492261072434469,3.8236781566163525,3.155095240798236,2.4865123249801186,1.8179294091620009,1.149346493343884,0.48076357752576715],[5.722590553509423,5.0540076376913055,4.385424721873188,3.716841806055071,3.048258890236954,2.3796759744188374,1.71109305860072,1.0425101427826025,0.3739272269644855,-0.2946556888536313],[4.947171287130024,4.278588371311907,3.610005455493789,2.9414225396756724,2.2728396238575552,1.6042567080394383,0.9356737922213209,0.2670908764032035,-0.40149203941491346,-1.0700749552330302],[4.171752020750625,3.5031691049325073,2.8345861891143906,2.1660032732962735,1.4974203574781564,0.8288374416600396,0.16025452584192218,-0.5083283899761952,-1.1769113057943121,-1.845494221612429],[3.396332754371226,2.727749838553109,2.059166922734992,1.390584006916875,0.7220010910987577,0.053418175280640794,-0.6151647405374765,-1.2837476563555938,-1.952330572173711,-2.6209134879918277],[2.6209134879918277,1.9523305721737105,1.2837476563555934,0.6151647405374763,-0.053418175280640794,-0.7220010910987577,-1.390584006916875,-2.0591669227349922,-2.7277498385531094,-3.396332754371226],[1.8454942216124284,1.1769113057943112,0.5083283899761942,-0.16025452584192293,-0.82883744166004,-1.4974203574781568,-2.1660032732962744,-2.8345861891143915,-3.503169104932508,-4.171752020750625],[1.0700749552330295,0.4014920394149123,-0.2670908764032047,-0.9356737922213219,-1.604256708039439,-2.272839623857556,-2.9414225396756732,-3.6100054554937904,-4.2785883713119075,-4.947171287130025],[0.2946556888536308,-0.37392722696448644,-1.0425101427826033,-1.7110930586007205,-2.379675974418838,-3.0482588902369545,-3.7168418060550716,-4.385424721873189,-5.054007637691306,-5.722590553509423],[-0.48076357752576715,-1.1493464933438844,-1.8179294091620015,-2.4865123249801186,-3.155095240798236,-3.8236781566163525,-4.49226107243447,-5.160843988252587,-5.829426904070704,-6.498009819888821]],\"type\":\"surface\"},{\"line\":{\"color\":\"grey\",\"width\":8},\"mode\":\"lines\",\"x\":[0.0,2.7593017997638625],\"y\":[0.0,3.2002250232106064],\"z\":[0.0,4.585655445405617],\"type\":\"scatter3d\"},{\"marker\":{\"color\":\"grey\",\"opacity\":1,\"size\":7,\"symbol\":\"diamond\"},\"mode\":\"markers\",\"x\":[2.7593017997638625],\"y\":[3.2002250232106064],\"z\":[4.585655445405617],\"type\":\"scatter3d\"},{\"line\":{\"color\":\"aliceblue\",\"width\":8},\"mode\":\"lines\",\"x\":[0.0,3.1029254571238445],\"y\":[0.0,2.2769176921790613],\"z\":[0.0,2.0063605798076845],\"type\":\"scatter3d\"},{\"line\":{\"color\":\"aliceblue\",\"width\":8},\"mode\":\"lines\",\"x\":[0.0,3.1029254571238445],\"y\":[0.0,2.2769176921790613],\"z\":[0.0,2.0063605798076845],\"type\":\"scatter3d\"},{\"marker\":{\"color\":\"aliceblue\",\"opacity\":1,\"size\":7,\"symbol\":\"diamond\"},\"mode\":\"markers\",\"x\":[3.1029254571238445],\"y\":[2.2769176921790613],\"z\":[2.0063605798076845],\"type\":\"scatter3d\"},{\"line\":{\"color\":\"darkkhaki\",\"width\":8},\"mode\":\"lines\",\"x\":[0.0,0.06189430103385796],\"y\":[0.0,2.2479737308942394],\"z\":[0.0,3.4360688057670914],\"type\":\"scatter3d\"},{\"marker\":{\"color\":\"darkkhaki\",\"opacity\":1,\"size\":7,\"symbol\":\"diamond\"},\"mode\":\"markers\",\"x\":[0.06189430103385796],\"y\":[2.2479737308942394],\"z\":[3.4360688057670914],\"type\":\"scatter3d\"},{\"line\":{\"color\":\"linen\",\"width\":8},\"mode\":\"lines\",\"x\":[0.0,2.6573581678323963],\"y\":[0.0,3.0445037035237927],\"z\":[0.0,0.256960682750228],\"type\":\"scatter3d\"},{\"marker\":{\"color\":\"linen\",\"opacity\":1,\"size\":7,\"symbol\":\"diamond\"},\"mode\":\"markers\",\"x\":[2.6573581678323963],\"y\":[3.0445037035237927],\"z\":[0.256960682750228],\"type\":\"scatter3d\"},{\"line\":{\"color\":\"darkmagenta\",\"width\":8},\"mode\":\"lines\",\"x\":[0.0,3.252321850851445],\"y\":[0.0,2.2160493596456403],\"z\":[0.0,4.678077089760015],\"type\":\"scatter3d\"},{\"marker\":{\"color\":\"darkmagenta\",\"opacity\":1,\"size\":7,\"symbol\":\"diamond\"},\"mode\":\"markers\",\"x\":[3.252321850851445],\"y\":[2.2160493596456403],\"z\":[4.678077089760015],\"type\":\"scatter3d\"},{\"line\":{\"color\":\"aliceblue\",\"width\":8},\"mode\":\"lines\",\"x\":[0.0,1.325359512799401],\"y\":[0.0,0.21530521618208925],\"z\":[0.0,-0.947758086318849],\"type\":\"scatter3d\"},{\"marker\":{\"color\":\"aliceblue\",\"opacity\":1,\"size\":7,\"symbol\":\"diamond\"},\"mode\":\"markers\",\"x\":[1.325359512799401],\"y\":[0.21530521618208925],\"z\":[-0.947758086318849],\"type\":\"scatter3d\"},{\"line\":{\"color\":\"darkkhaki\",\"width\":8},\"mode\":\"lines\",\"x\":[0.0,-1.5788824534785948],\"y\":[0.0,0.3450087026605031],\"z\":[0.0,0.7092786954323393],\"type\":\"scatter3d\"},{\"marker\":{\"color\":\"darkkhaki\",\"opacity\":1,\"size\":7,\"symbol\":\"diamond\"},\"mode\":\"markers\",\"x\":[-1.5788824534785948],\"y\":[0.3450087026605031],\"z\":[0.7092786954323393],\"type\":\"scatter3d\"},{\"line\":{\"color\":\"linen\",\"width\":8},\"mode\":\"lines\",\"x\":[0.0,1.3619996390557083],\"y\":[0.0,1.5421530805599704],\"z\":[0.0,-1.8957824103560688],\"type\":\"scatter3d\"},{\"marker\":{\"color\":\"linen\",\"opacity\":1,\"size\":7,\"symbol\":\"diamond\"},\"mode\":\"markers\",\"x\":[1.3619996390557083],\"y\":[1.5421530805599704],\"z\":[-1.8957824103560688],\"type\":\"scatter3d\"},{\"line\":{\"color\":\"darkmagenta\",\"width\":8},\"mode\":\"lines\",\"x\":[0.0,0.5899120307203315],\"y\":[0.0,-0.8718008092465035],\"z\":[0.0,0.253445434523733],\"type\":\"scatter3d\"},{\"marker\":{\"color\":\"darkmagenta\",\"opacity\":1,\"size\":7,\"symbol\":\"diamond\"},\"mode\":\"markers\",\"x\":[0.5899120307203315],\"y\":[-0.8718008092465035],\"z\":[0.253445434523733],\"type\":\"scatter3d\"}],                        {\"template\":{\"data\":{\"bar\":[{\"error_x\":{\"color\":\"#2a3f5f\"},\"error_y\":{\"color\":\"#2a3f5f\"},\"marker\":{\"line\":{\"color\":\"#E5ECF6\",\"width\":0.5},\"pattern\":{\"fillmode\":\"overlay\",\"size\":10,\"solidity\":0.2}},\"type\":\"bar\"}],\"barpolar\":[{\"marker\":{\"line\":{\"color\":\"#E5ECF6\",\"width\":0.5},\"pattern\":{\"fillmode\":\"overlay\",\"size\":10,\"solidity\":0.2}},\"type\":\"barpolar\"}],\"carpet\":[{\"aaxis\":{\"endlinecolor\":\"#2a3f5f\",\"gridcolor\":\"white\",\"linecolor\":\"white\",\"minorgridcolor\":\"white\",\"startlinecolor\":\"#2a3f5f\"},\"baxis\":{\"endlinecolor\":\"#2a3f5f\",\"gridcolor\":\"white\",\"linecolor\":\"white\",\"minorgridcolor\":\"white\",\"startlinecolor\":\"#2a3f5f\"},\"type\":\"carpet\"}],\"choropleth\":[{\"colorbar\":{\"outlinewidth\":0,\"ticks\":\"\"},\"type\":\"choropleth\"}],\"contour\":[{\"colorbar\":{\"outlinewidth\":0,\"ticks\":\"\"},\"colorscale\":[[0.0,\"#0d0887\"],[0.1111111111111111,\"#46039f\"],[0.2222222222222222,\"#7201a8\"],[0.3333333333333333,\"#9c179e\"],[0.4444444444444444,\"#bd3786\"],[0.5555555555555556,\"#d8576b\"],[0.6666666666666666,\"#ed7953\"],[0.7777777777777778,\"#fb9f3a\"],[0.8888888888888888,\"#fdca26\"],[1.0,\"#f0f921\"]],\"type\":\"contour\"}],\"contourcarpet\":[{\"colorbar\":{\"outlinewidth\":0,\"ticks\":\"\"},\"type\":\"contourcarpet\"}],\"heatmap\":[{\"colorbar\":{\"outlinewidth\":0,\"ticks\":\"\"},\"colorscale\":[[0.0,\"#0d0887\"],[0.1111111111111111,\"#46039f\"],[0.2222222222222222,\"#7201a8\"],[0.3333333333333333,\"#9c179e\"],[0.4444444444444444,\"#bd3786\"],[0.5555555555555556,\"#d8576b\"],[0.6666666666666666,\"#ed7953\"],[0.7777777777777778,\"#fb9f3a\"],[0.8888888888888888,\"#fdca26\"],[1.0,\"#f0f921\"]],\"type\":\"heatmap\"}],\"heatmapgl\":[{\"colorbar\":{\"outlinewidth\":0,\"ticks\":\"\"},\"colorscale\":[[0.0,\"#0d0887\"],[0.1111111111111111,\"#46039f\"],[0.2222222222222222,\"#7201a8\"],[0.3333333333333333,\"#9c179e\"],[0.4444444444444444,\"#bd3786\"],[0.5555555555555556,\"#d8576b\"],[0.6666666666666666,\"#ed7953\"],[0.7777777777777778,\"#fb9f3a\"],[0.8888888888888888,\"#fdca26\"],[1.0,\"#f0f921\"]],\"type\":\"heatmapgl\"}],\"histogram\":[{\"marker\":{\"pattern\":{\"fillmode\":\"overlay\",\"size\":10,\"solidity\":0.2}},\"type\":\"histogram\"}],\"histogram2d\":[{\"colorbar\":{\"outlinewidth\":0,\"ticks\":\"\"},\"colorscale\":[[0.0,\"#0d0887\"],[0.1111111111111111,\"#46039f\"],[0.2222222222222222,\"#7201a8\"],[0.3333333333333333,\"#9c179e\"],[0.4444444444444444,\"#bd3786\"],[0.5555555555555556,\"#d8576b\"],[0.6666666666666666,\"#ed7953\"],[0.7777777777777778,\"#fb9f3a\"],[0.8888888888888888,\"#fdca26\"],[1.0,\"#f0f921\"]],\"type\":\"histogram2d\"}],\"histogram2dcontour\":[{\"colorbar\":{\"outlinewidth\":0,\"ticks\":\"\"},\"colorscale\":[[0.0,\"#0d0887\"],[0.1111111111111111,\"#46039f\"],[0.2222222222222222,\"#7201a8\"],[0.3333333333333333,\"#9c179e\"],[0.4444444444444444,\"#bd3786\"],[0.5555555555555556,\"#d8576b\"],[0.6666666666666666,\"#ed7953\"],[0.7777777777777778,\"#fb9f3a\"],[0.8888888888888888,\"#fdca26\"],[1.0,\"#f0f921\"]],\"type\":\"histogram2dcontour\"}],\"mesh3d\":[{\"colorbar\":{\"outlinewidth\":0,\"ticks\":\"\"},\"type\":\"mesh3d\"}],\"parcoords\":[{\"line\":{\"colorbar\":{\"outlinewidth\":0,\"ticks\":\"\"}},\"type\":\"parcoords\"}],\"pie\":[{\"automargin\":true,\"type\":\"pie\"}],\"scatter\":[{\"marker\":{\"colorbar\":{\"outlinewidth\":0,\"ticks\":\"\"}},\"type\":\"scatter\"}],\"scatter3d\":[{\"line\":{\"colorbar\":{\"outlinewidth\":0,\"ticks\":\"\"}},\"marker\":{\"colorbar\":{\"outlinewidth\":0,\"ticks\":\"\"}},\"type\":\"scatter3d\"}],\"scattercarpet\":[{\"marker\":{\"colorbar\":{\"outlinewidth\":0,\"ticks\":\"\"}},\"type\":\"scattercarpet\"}],\"scattergeo\":[{\"marker\":{\"colorbar\":{\"outlinewidth\":0,\"ticks\":\"\"}},\"type\":\"scattergeo\"}],\"scattergl\":[{\"marker\":{\"colorbar\":{\"outlinewidth\":0,\"ticks\":\"\"}},\"type\":\"scattergl\"}],\"scattermapbox\":[{\"marker\":{\"colorbar\":{\"outlinewidth\":0,\"ticks\":\"\"}},\"type\":\"scattermapbox\"}],\"scatterpolar\":[{\"marker\":{\"colorbar\":{\"outlinewidth\":0,\"ticks\":\"\"}},\"type\":\"scatterpolar\"}],\"scatterpolargl\":[{\"marker\":{\"colorbar\":{\"outlinewidth\":0,\"ticks\":\"\"}},\"type\":\"scatterpolargl\"}],\"scatterternary\":[{\"marker\":{\"colorbar\":{\"outlinewidth\":0,\"ticks\":\"\"}},\"type\":\"scatterternary\"}],\"surface\":[{\"colorbar\":{\"outlinewidth\":0,\"ticks\":\"\"},\"colorscale\":[[0.0,\"#0d0887\"],[0.1111111111111111,\"#46039f\"],[0.2222222222222222,\"#7201a8\"],[0.3333333333333333,\"#9c179e\"],[0.4444444444444444,\"#bd3786\"],[0.5555555555555556,\"#d8576b\"],[0.6666666666666666,\"#ed7953\"],[0.7777777777777778,\"#fb9f3a\"],[0.8888888888888888,\"#fdca26\"],[1.0,\"#f0f921\"]],\"type\":\"surface\"}],\"table\":[{\"cells\":{\"fill\":{\"color\":\"#EBF0F8\"},\"line\":{\"color\":\"white\"}},\"header\":{\"fill\":{\"color\":\"#C8D4E3\"},\"line\":{\"color\":\"white\"}},\"type\":\"table\"}]},\"layout\":{\"annotationdefaults\":{\"arrowcolor\":\"#2a3f5f\",\"arrowhead\":0,\"arrowwidth\":1},\"autotypenumbers\":\"strict\",\"coloraxis\":{\"colorbar\":{\"outlinewidth\":0,\"ticks\":\"\"}},\"colorscale\":{\"diverging\":[[0,\"#8e0152\"],[0.1,\"#c51b7d\"],[0.2,\"#de77ae\"],[0.3,\"#f1b6da\"],[0.4,\"#fde0ef\"],[0.5,\"#f7f7f7\"],[0.6,\"#e6f5d0\"],[0.7,\"#b8e186\"],[0.8,\"#7fbc41\"],[0.9,\"#4d9221\"],[1,\"#276419\"]],\"sequential\":[[0.0,\"#0d0887\"],[0.1111111111111111,\"#46039f\"],[0.2222222222222222,\"#7201a8\"],[0.3333333333333333,\"#9c179e\"],[0.4444444444444444,\"#bd3786\"],[0.5555555555555556,\"#d8576b\"],[0.6666666666666666,\"#ed7953\"],[0.7777777777777778,\"#fb9f3a\"],[0.8888888888888888,\"#fdca26\"],[1.0,\"#f0f921\"]],\"sequentialminus\":[[0.0,\"#0d0887\"],[0.1111111111111111,\"#46039f\"],[0.2222222222222222,\"#7201a8\"],[0.3333333333333333,\"#9c179e\"],[0.4444444444444444,\"#bd3786\"],[0.5555555555555556,\"#d8576b\"],[0.6666666666666666,\"#ed7953\"],[0.7777777777777778,\"#fb9f3a\"],[0.8888888888888888,\"#fdca26\"],[1.0,\"#f0f921\"]]},\"colorway\":[\"#636efa\",\"#EF553B\",\"#00cc96\",\"#ab63fa\",\"#FFA15A\",\"#19d3f3\",\"#FF6692\",\"#B6E880\",\"#FF97FF\",\"#FECB52\"],\"font\":{\"color\":\"#2a3f5f\"},\"geo\":{\"bgcolor\":\"white\",\"lakecolor\":\"white\",\"landcolor\":\"#E5ECF6\",\"showlakes\":true,\"showland\":true,\"subunitcolor\":\"white\"},\"hoverlabel\":{\"align\":\"left\"},\"hovermode\":\"closest\",\"mapbox\":{\"style\":\"light\"},\"paper_bgcolor\":\"white\",\"plot_bgcolor\":\"#E5ECF6\",\"polar\":{\"angularaxis\":{\"gridcolor\":\"white\",\"linecolor\":\"white\",\"ticks\":\"\"},\"bgcolor\":\"#E5ECF6\",\"radialaxis\":{\"gridcolor\":\"white\",\"linecolor\":\"white\",\"ticks\":\"\"}},\"scene\":{\"xaxis\":{\"backgroundcolor\":\"#E5ECF6\",\"gridcolor\":\"white\",\"gridwidth\":2,\"linecolor\":\"white\",\"showbackground\":true,\"ticks\":\"\",\"zerolinecolor\":\"white\"},\"yaxis\":{\"backgroundcolor\":\"#E5ECF6\",\"gridcolor\":\"white\",\"gridwidth\":2,\"linecolor\":\"white\",\"showbackground\":true,\"ticks\":\"\",\"zerolinecolor\":\"white\"},\"zaxis\":{\"backgroundcolor\":\"#E5ECF6\",\"gridcolor\":\"white\",\"gridwidth\":2,\"linecolor\":\"white\",\"showbackground\":true,\"ticks\":\"\",\"zerolinecolor\":\"white\"}},\"shapedefaults\":{\"line\":{\"color\":\"#2a3f5f\"}},\"ternary\":{\"aaxis\":{\"gridcolor\":\"white\",\"linecolor\":\"white\",\"ticks\":\"\"},\"baxis\":{\"gridcolor\":\"white\",\"linecolor\":\"white\",\"ticks\":\"\"},\"bgcolor\":\"#E5ECF6\",\"caxis\":{\"gridcolor\":\"white\",\"linecolor\":\"white\",\"ticks\":\"\"}},\"title\":{\"x\":0.05},\"xaxis\":{\"automargin\":true,\"gridcolor\":\"white\",\"linecolor\":\"white\",\"ticks\":\"\",\"title\":{\"standoff\":15},\"zerolinecolor\":\"white\",\"zerolinewidth\":2},\"yaxis\":{\"automargin\":true,\"gridcolor\":\"white\",\"linecolor\":\"white\",\"ticks\":\"\",\"title\":{\"standoff\":15},\"zerolinecolor\":\"white\",\"zerolinewidth\":2}}}},                        {\"responsive\": true}                    ).then(function(){\n",
              "                            \n",
              "var gd = document.getElementById('465fdb58-f6b4-4ae4-a0d3-dc7fb4fab181');\n",
              "var x = new MutationObserver(function (mutations, observer) {{\n",
              "        var display = window.getComputedStyle(gd).display;\n",
              "        if (!display || display === 'none') {{\n",
              "            console.log([gd, 'removed!']);\n",
              "            Plotly.purge(gd);\n",
              "            observer.disconnect();\n",
              "        }}\n",
              "}});\n",
              "\n",
              "// Listen for the removal of the full notebook cells\n",
              "var notebookContainer = gd.closest('#notebook-container');\n",
              "if (notebookContainer) {{\n",
              "    x.observe(notebookContainer, {childList: true});\n",
              "}}\n",
              "\n",
              "// Listen for the clearing of the current output cell\n",
              "var outputEl = gd.closest('.output');\n",
              "if (outputEl) {{\n",
              "    x.observe(outputEl, {childList: true});\n",
              "}}\n",
              "\n",
              "                        })                };                            </script>        </div>\n",
              "</body>\n",
              "</html>"
            ]
          },
          "metadata": {}
        },
        {
          "output_type": "display_data",
          "data": {
            "text/html": [
              "<html>\n",
              "<head><meta charset=\"utf-8\" /></head>\n",
              "<body>\n",
              "    <div>            <script src=\"https://cdnjs.cloudflare.com/ajax/libs/mathjax/2.7.5/MathJax.js?config=TeX-AMS-MML_SVG\"></script><script type=\"text/javascript\">if (window.MathJax) {MathJax.Hub.Config({SVG: {font: \"STIX-Web\"}});}</script>                <script type=\"text/javascript\">window.PlotlyConfig = {MathJaxConfig: 'local'};</script>\n",
              "        <script src=\"https://cdn.plot.ly/plotly-2.8.3.min.js\"></script>                <div id=\"bc37ef22-bae2-44ce-bfd9-a69b72843773\" class=\"plotly-graph-div\" style=\"height:525px; width:100%;\"></div>            <script type=\"text/javascript\">                                    window.PLOTLYENV=window.PLOTLYENV || {};                                    if (document.getElementById(\"bc37ef22-bae2-44ce-bfd9-a69b72843773\")) {                    Plotly.newPlot(                        \"bc37ef22-bae2-44ce-bfd9-a69b72843773\",                        [{\"colorscale\":[[0,\"grey\"]],\"opacity\":0.5,\"showscale\":true,\"x\":[[-5.0,-3.888888888888889,-2.7777777777777777,-1.6666666666666665,-0.5555555555555554,0.5555555555555554,1.666666666666667,2.7777777777777786,3.8888888888888893,5.0],[-5.0,-3.888888888888889,-2.7777777777777777,-1.6666666666666665,-0.5555555555555554,0.5555555555555554,1.666666666666667,2.7777777777777786,3.8888888888888893,5.0],[-5.0,-3.888888888888889,-2.7777777777777777,-1.6666666666666665,-0.5555555555555554,0.5555555555555554,1.666666666666667,2.7777777777777786,3.8888888888888893,5.0],[-5.0,-3.888888888888889,-2.7777777777777777,-1.6666666666666665,-0.5555555555555554,0.5555555555555554,1.666666666666667,2.7777777777777786,3.8888888888888893,5.0],[-5.0,-3.888888888888889,-2.7777777777777777,-1.6666666666666665,-0.5555555555555554,0.5555555555555554,1.666666666666667,2.7777777777777786,3.8888888888888893,5.0],[-5.0,-3.888888888888889,-2.7777777777777777,-1.6666666666666665,-0.5555555555555554,0.5555555555555554,1.666666666666667,2.7777777777777786,3.8888888888888893,5.0],[-5.0,-3.888888888888889,-2.7777777777777777,-1.6666666666666665,-0.5555555555555554,0.5555555555555554,1.666666666666667,2.7777777777777786,3.8888888888888893,5.0],[-5.0,-3.888888888888889,-2.7777777777777777,-1.6666666666666665,-0.5555555555555554,0.5555555555555554,1.666666666666667,2.7777777777777786,3.8888888888888893,5.0],[-5.0,-3.888888888888889,-2.7777777777777777,-1.6666666666666665,-0.5555555555555554,0.5555555555555554,1.666666666666667,2.7777777777777786,3.8888888888888893,5.0],[-5.0,-3.888888888888889,-2.7777777777777777,-1.6666666666666665,-0.5555555555555554,0.5555555555555554,1.666666666666667,2.7777777777777786,3.8888888888888893,5.0]],\"y\":[[-5.0,-5.0,-5.0,-5.0,-5.0,-5.0,-5.0,-5.0,-5.0,-5.0],[-3.888888888888889,-3.888888888888889,-3.888888888888889,-3.888888888888889,-3.888888888888889,-3.888888888888889,-3.888888888888889,-3.888888888888889,-3.888888888888889,-3.888888888888889],[-2.7777777777777777,-2.7777777777777777,-2.7777777777777777,-2.7777777777777777,-2.7777777777777777,-2.7777777777777777,-2.7777777777777777,-2.7777777777777777,-2.7777777777777777,-2.7777777777777777],[-1.6666666666666665,-1.6666666666666665,-1.6666666666666665,-1.6666666666666665,-1.6666666666666665,-1.6666666666666665,-1.6666666666666665,-1.6666666666666665,-1.6666666666666665,-1.6666666666666665],[-0.5555555555555554,-0.5555555555555554,-0.5555555555555554,-0.5555555555555554,-0.5555555555555554,-0.5555555555555554,-0.5555555555555554,-0.5555555555555554,-0.5555555555555554,-0.5555555555555554],[0.5555555555555554,0.5555555555555554,0.5555555555555554,0.5555555555555554,0.5555555555555554,0.5555555555555554,0.5555555555555554,0.5555555555555554,0.5555555555555554,0.5555555555555554],[1.666666666666667,1.666666666666667,1.666666666666667,1.666666666666667,1.666666666666667,1.666666666666667,1.666666666666667,1.666666666666667,1.666666666666667,1.666666666666667],[2.7777777777777786,2.7777777777777786,2.7777777777777786,2.7777777777777786,2.7777777777777786,2.7777777777777786,2.7777777777777786,2.7777777777777786,2.7777777777777786,2.7777777777777786],[3.8888888888888893,3.8888888888888893,3.8888888888888893,3.8888888888888893,3.8888888888888893,3.8888888888888893,3.8888888888888893,3.8888888888888893,3.8888888888888893,3.8888888888888893],[5.0,5.0,5.0,5.0,5.0,5.0,5.0,5.0,5.0,5.0]],\"z\":[[6.498009819888821,5.829426904070703,5.160843988252587,4.492261072434469,3.8236781566163525,3.155095240798236,2.4865123249801186,1.8179294091620009,1.149346493343884,0.48076357752576715],[5.722590553509423,5.0540076376913055,4.385424721873188,3.716841806055071,3.048258890236954,2.3796759744188374,1.71109305860072,1.0425101427826025,0.3739272269644855,-0.2946556888536313],[4.947171287130024,4.278588371311907,3.610005455493789,2.9414225396756724,2.2728396238575552,1.6042567080394383,0.9356737922213209,0.2670908764032035,-0.40149203941491346,-1.0700749552330302],[4.171752020750625,3.5031691049325073,2.8345861891143906,2.1660032732962735,1.4974203574781564,0.8288374416600396,0.16025452584192218,-0.5083283899761952,-1.1769113057943121,-1.845494221612429],[3.396332754371226,2.727749838553109,2.059166922734992,1.390584006916875,0.7220010910987577,0.053418175280640794,-0.6151647405374765,-1.2837476563555938,-1.952330572173711,-2.6209134879918277],[2.6209134879918277,1.9523305721737105,1.2837476563555934,0.6151647405374763,-0.053418175280640794,-0.7220010910987577,-1.390584006916875,-2.0591669227349922,-2.7277498385531094,-3.396332754371226],[1.8454942216124284,1.1769113057943112,0.5083283899761942,-0.16025452584192293,-0.82883744166004,-1.4974203574781568,-2.1660032732962744,-2.8345861891143915,-3.503169104932508,-4.171752020750625],[1.0700749552330295,0.4014920394149123,-0.2670908764032047,-0.9356737922213219,-1.604256708039439,-2.272839623857556,-2.9414225396756732,-3.6100054554937904,-4.2785883713119075,-4.947171287130025],[0.2946556888536308,-0.37392722696448644,-1.0425101427826033,-1.7110930586007205,-2.379675974418838,-3.0482588902369545,-3.7168418060550716,-4.385424721873189,-5.054007637691306,-5.722590553509423],[-0.48076357752576715,-1.1493464933438844,-1.8179294091620015,-2.4865123249801186,-3.155095240798236,-3.8236781566163525,-4.49226107243447,-5.160843988252587,-5.829426904070704,-6.498009819888821]],\"type\":\"surface\"},{\"line\":{\"color\":\"grey\",\"width\":8},\"mode\":\"lines\",\"x\":[0.0,2.7593017997638625],\"y\":[0.0,3.2002250232106064],\"z\":[0.0,4.585655445405617],\"type\":\"scatter3d\"},{\"marker\":{\"color\":\"grey\",\"opacity\":1,\"size\":7,\"symbol\":\"diamond\"},\"mode\":\"markers\",\"x\":[2.7593017997638625],\"y\":[3.2002250232106064],\"z\":[4.585655445405617],\"type\":\"scatter3d\"},{\"line\":{\"color\":\"aliceblue\",\"width\":8},\"mode\":\"lines\",\"x\":[0.0,3.1029254571238445],\"y\":[0.0,2.2769176921790613],\"z\":[0.0,2.0063605798076845],\"type\":\"scatter3d\"},{\"line\":{\"color\":\"aliceblue\",\"width\":8},\"mode\":\"lines\",\"x\":[0.0,3.1029254571238445],\"y\":[0.0,2.2769176921790613],\"z\":[0.0,2.0063605798076845],\"type\":\"scatter3d\"},{\"marker\":{\"color\":\"aliceblue\",\"opacity\":1,\"size\":7,\"symbol\":\"diamond\"},\"mode\":\"markers\",\"x\":[3.1029254571238445],\"y\":[2.2769176921790613],\"z\":[2.0063605798076845],\"type\":\"scatter3d\"},{\"line\":{\"color\":\"darkkhaki\",\"width\":8},\"mode\":\"lines\",\"x\":[0.0,0.06189430103385796],\"y\":[0.0,2.2479737308942394],\"z\":[0.0,3.4360688057670914],\"type\":\"scatter3d\"},{\"marker\":{\"color\":\"darkkhaki\",\"opacity\":1,\"size\":7,\"symbol\":\"diamond\"},\"mode\":\"markers\",\"x\":[0.06189430103385796],\"y\":[2.2479737308942394],\"z\":[3.4360688057670914],\"type\":\"scatter3d\"},{\"line\":{\"color\":\"linen\",\"width\":8},\"mode\":\"lines\",\"x\":[0.0,2.6573581678323963],\"y\":[0.0,3.0445037035237927],\"z\":[0.0,0.256960682750228],\"type\":\"scatter3d\"},{\"marker\":{\"color\":\"linen\",\"opacity\":1,\"size\":7,\"symbol\":\"diamond\"},\"mode\":\"markers\",\"x\":[2.6573581678323963],\"y\":[3.0445037035237927],\"z\":[0.256960682750228],\"type\":\"scatter3d\"},{\"line\":{\"color\":\"darkmagenta\",\"width\":8},\"mode\":\"lines\",\"x\":[0.0,3.252321850851445],\"y\":[0.0,2.2160493596456403],\"z\":[0.0,4.678077089760015],\"type\":\"scatter3d\"},{\"marker\":{\"color\":\"darkmagenta\",\"opacity\":1,\"size\":7,\"symbol\":\"diamond\"},\"mode\":\"markers\",\"x\":[3.252321850851445],\"y\":[2.2160493596456403],\"z\":[4.678077089760015],\"type\":\"scatter3d\"},{\"line\":{\"color\":\"aliceblue\",\"width\":8},\"mode\":\"lines\",\"x\":[0.0,1.325359512799401],\"y\":[0.0,0.21530521618208925],\"z\":[0.0,-0.947758086318849],\"type\":\"scatter3d\"},{\"marker\":{\"color\":\"aliceblue\",\"opacity\":1,\"size\":7,\"symbol\":\"diamond\"},\"mode\":\"markers\",\"x\":[1.325359512799401],\"y\":[0.21530521618208925],\"z\":[-0.947758086318849],\"type\":\"scatter3d\"},{\"line\":{\"color\":\"darkkhaki\",\"width\":8},\"mode\":\"lines\",\"x\":[0.0,-1.5788824534785948],\"y\":[0.0,0.3450087026605031],\"z\":[0.0,0.7092786954323393],\"type\":\"scatter3d\"},{\"marker\":{\"color\":\"darkkhaki\",\"opacity\":1,\"size\":7,\"symbol\":\"diamond\"},\"mode\":\"markers\",\"x\":[-1.5788824534785948],\"y\":[0.3450087026605031],\"z\":[0.7092786954323393],\"type\":\"scatter3d\"},{\"line\":{\"color\":\"linen\",\"width\":8},\"mode\":\"lines\",\"x\":[0.0,1.3619996390557083],\"y\":[0.0,1.5421530805599704],\"z\":[0.0,-1.8957824103560688],\"type\":\"scatter3d\"},{\"marker\":{\"color\":\"linen\",\"opacity\":1,\"size\":7,\"symbol\":\"diamond\"},\"mode\":\"markers\",\"x\":[1.3619996390557083],\"y\":[1.5421530805599704],\"z\":[-1.8957824103560688],\"type\":\"scatter3d\"},{\"line\":{\"color\":\"darkmagenta\",\"width\":8},\"mode\":\"lines\",\"x\":[0.0,0.5899120307203315],\"y\":[0.0,-0.8718008092465035],\"z\":[0.0,0.253445434523733],\"type\":\"scatter3d\"},{\"marker\":{\"color\":\"darkmagenta\",\"opacity\":1,\"size\":7,\"symbol\":\"diamond\"},\"mode\":\"markers\",\"x\":[0.5899120307203315],\"y\":[-0.8718008092465035],\"z\":[0.253445434523733],\"type\":\"scatter3d\"}],                        {\"template\":{\"data\":{\"bar\":[{\"error_x\":{\"color\":\"#2a3f5f\"},\"error_y\":{\"color\":\"#2a3f5f\"},\"marker\":{\"line\":{\"color\":\"#E5ECF6\",\"width\":0.5},\"pattern\":{\"fillmode\":\"overlay\",\"size\":10,\"solidity\":0.2}},\"type\":\"bar\"}],\"barpolar\":[{\"marker\":{\"line\":{\"color\":\"#E5ECF6\",\"width\":0.5},\"pattern\":{\"fillmode\":\"overlay\",\"size\":10,\"solidity\":0.2}},\"type\":\"barpolar\"}],\"carpet\":[{\"aaxis\":{\"endlinecolor\":\"#2a3f5f\",\"gridcolor\":\"white\",\"linecolor\":\"white\",\"minorgridcolor\":\"white\",\"startlinecolor\":\"#2a3f5f\"},\"baxis\":{\"endlinecolor\":\"#2a3f5f\",\"gridcolor\":\"white\",\"linecolor\":\"white\",\"minorgridcolor\":\"white\",\"startlinecolor\":\"#2a3f5f\"},\"type\":\"carpet\"}],\"choropleth\":[{\"colorbar\":{\"outlinewidth\":0,\"ticks\":\"\"},\"type\":\"choropleth\"}],\"contour\":[{\"colorbar\":{\"outlinewidth\":0,\"ticks\":\"\"},\"colorscale\":[[0.0,\"#0d0887\"],[0.1111111111111111,\"#46039f\"],[0.2222222222222222,\"#7201a8\"],[0.3333333333333333,\"#9c179e\"],[0.4444444444444444,\"#bd3786\"],[0.5555555555555556,\"#d8576b\"],[0.6666666666666666,\"#ed7953\"],[0.7777777777777778,\"#fb9f3a\"],[0.8888888888888888,\"#fdca26\"],[1.0,\"#f0f921\"]],\"type\":\"contour\"}],\"contourcarpet\":[{\"colorbar\":{\"outlinewidth\":0,\"ticks\":\"\"},\"type\":\"contourcarpet\"}],\"heatmap\":[{\"colorbar\":{\"outlinewidth\":0,\"ticks\":\"\"},\"colorscale\":[[0.0,\"#0d0887\"],[0.1111111111111111,\"#46039f\"],[0.2222222222222222,\"#7201a8\"],[0.3333333333333333,\"#9c179e\"],[0.4444444444444444,\"#bd3786\"],[0.5555555555555556,\"#d8576b\"],[0.6666666666666666,\"#ed7953\"],[0.7777777777777778,\"#fb9f3a\"],[0.8888888888888888,\"#fdca26\"],[1.0,\"#f0f921\"]],\"type\":\"heatmap\"}],\"heatmapgl\":[{\"colorbar\":{\"outlinewidth\":0,\"ticks\":\"\"},\"colorscale\":[[0.0,\"#0d0887\"],[0.1111111111111111,\"#46039f\"],[0.2222222222222222,\"#7201a8\"],[0.3333333333333333,\"#9c179e\"],[0.4444444444444444,\"#bd3786\"],[0.5555555555555556,\"#d8576b\"],[0.6666666666666666,\"#ed7953\"],[0.7777777777777778,\"#fb9f3a\"],[0.8888888888888888,\"#fdca26\"],[1.0,\"#f0f921\"]],\"type\":\"heatmapgl\"}],\"histogram\":[{\"marker\":{\"pattern\":{\"fillmode\":\"overlay\",\"size\":10,\"solidity\":0.2}},\"type\":\"histogram\"}],\"histogram2d\":[{\"colorbar\":{\"outlinewidth\":0,\"ticks\":\"\"},\"colorscale\":[[0.0,\"#0d0887\"],[0.1111111111111111,\"#46039f\"],[0.2222222222222222,\"#7201a8\"],[0.3333333333333333,\"#9c179e\"],[0.4444444444444444,\"#bd3786\"],[0.5555555555555556,\"#d8576b\"],[0.6666666666666666,\"#ed7953\"],[0.7777777777777778,\"#fb9f3a\"],[0.8888888888888888,\"#fdca26\"],[1.0,\"#f0f921\"]],\"type\":\"histogram2d\"}],\"histogram2dcontour\":[{\"colorbar\":{\"outlinewidth\":0,\"ticks\":\"\"},\"colorscale\":[[0.0,\"#0d0887\"],[0.1111111111111111,\"#46039f\"],[0.2222222222222222,\"#7201a8\"],[0.3333333333333333,\"#9c179e\"],[0.4444444444444444,\"#bd3786\"],[0.5555555555555556,\"#d8576b\"],[0.6666666666666666,\"#ed7953\"],[0.7777777777777778,\"#fb9f3a\"],[0.8888888888888888,\"#fdca26\"],[1.0,\"#f0f921\"]],\"type\":\"histogram2dcontour\"}],\"mesh3d\":[{\"colorbar\":{\"outlinewidth\":0,\"ticks\":\"\"},\"type\":\"mesh3d\"}],\"parcoords\":[{\"line\":{\"colorbar\":{\"outlinewidth\":0,\"ticks\":\"\"}},\"type\":\"parcoords\"}],\"pie\":[{\"automargin\":true,\"type\":\"pie\"}],\"scatter\":[{\"marker\":{\"colorbar\":{\"outlinewidth\":0,\"ticks\":\"\"}},\"type\":\"scatter\"}],\"scatter3d\":[{\"line\":{\"colorbar\":{\"outlinewidth\":0,\"ticks\":\"\"}},\"marker\":{\"colorbar\":{\"outlinewidth\":0,\"ticks\":\"\"}},\"type\":\"scatter3d\"}],\"scattercarpet\":[{\"marker\":{\"colorbar\":{\"outlinewidth\":0,\"ticks\":\"\"}},\"type\":\"scattercarpet\"}],\"scattergeo\":[{\"marker\":{\"colorbar\":{\"outlinewidth\":0,\"ticks\":\"\"}},\"type\":\"scattergeo\"}],\"scattergl\":[{\"marker\":{\"colorbar\":{\"outlinewidth\":0,\"ticks\":\"\"}},\"type\":\"scattergl\"}],\"scattermapbox\":[{\"marker\":{\"colorbar\":{\"outlinewidth\":0,\"ticks\":\"\"}},\"type\":\"scattermapbox\"}],\"scatterpolar\":[{\"marker\":{\"colorbar\":{\"outlinewidth\":0,\"ticks\":\"\"}},\"type\":\"scatterpolar\"}],\"scatterpolargl\":[{\"marker\":{\"colorbar\":{\"outlinewidth\":0,\"ticks\":\"\"}},\"type\":\"scatterpolargl\"}],\"scatterternary\":[{\"marker\":{\"colorbar\":{\"outlinewidth\":0,\"ticks\":\"\"}},\"type\":\"scatterternary\"}],\"surface\":[{\"colorbar\":{\"outlinewidth\":0,\"ticks\":\"\"},\"colorscale\":[[0.0,\"#0d0887\"],[0.1111111111111111,\"#46039f\"],[0.2222222222222222,\"#7201a8\"],[0.3333333333333333,\"#9c179e\"],[0.4444444444444444,\"#bd3786\"],[0.5555555555555556,\"#d8576b\"],[0.6666666666666666,\"#ed7953\"],[0.7777777777777778,\"#fb9f3a\"],[0.8888888888888888,\"#fdca26\"],[1.0,\"#f0f921\"]],\"type\":\"surface\"}],\"table\":[{\"cells\":{\"fill\":{\"color\":\"#EBF0F8\"},\"line\":{\"color\":\"white\"}},\"header\":{\"fill\":{\"color\":\"#C8D4E3\"},\"line\":{\"color\":\"white\"}},\"type\":\"table\"}]},\"layout\":{\"annotationdefaults\":{\"arrowcolor\":\"#2a3f5f\",\"arrowhead\":0,\"arrowwidth\":1},\"autotypenumbers\":\"strict\",\"coloraxis\":{\"colorbar\":{\"outlinewidth\":0,\"ticks\":\"\"}},\"colorscale\":{\"diverging\":[[0,\"#8e0152\"],[0.1,\"#c51b7d\"],[0.2,\"#de77ae\"],[0.3,\"#f1b6da\"],[0.4,\"#fde0ef\"],[0.5,\"#f7f7f7\"],[0.6,\"#e6f5d0\"],[0.7,\"#b8e186\"],[0.8,\"#7fbc41\"],[0.9,\"#4d9221\"],[1,\"#276419\"]],\"sequential\":[[0.0,\"#0d0887\"],[0.1111111111111111,\"#46039f\"],[0.2222222222222222,\"#7201a8\"],[0.3333333333333333,\"#9c179e\"],[0.4444444444444444,\"#bd3786\"],[0.5555555555555556,\"#d8576b\"],[0.6666666666666666,\"#ed7953\"],[0.7777777777777778,\"#fb9f3a\"],[0.8888888888888888,\"#fdca26\"],[1.0,\"#f0f921\"]],\"sequentialminus\":[[0.0,\"#0d0887\"],[0.1111111111111111,\"#46039f\"],[0.2222222222222222,\"#7201a8\"],[0.3333333333333333,\"#9c179e\"],[0.4444444444444444,\"#bd3786\"],[0.5555555555555556,\"#d8576b\"],[0.6666666666666666,\"#ed7953\"],[0.7777777777777778,\"#fb9f3a\"],[0.8888888888888888,\"#fdca26\"],[1.0,\"#f0f921\"]]},\"colorway\":[\"#636efa\",\"#EF553B\",\"#00cc96\",\"#ab63fa\",\"#FFA15A\",\"#19d3f3\",\"#FF6692\",\"#B6E880\",\"#FF97FF\",\"#FECB52\"],\"font\":{\"color\":\"#2a3f5f\"},\"geo\":{\"bgcolor\":\"white\",\"lakecolor\":\"white\",\"landcolor\":\"#E5ECF6\",\"showlakes\":true,\"showland\":true,\"subunitcolor\":\"white\"},\"hoverlabel\":{\"align\":\"left\"},\"hovermode\":\"closest\",\"mapbox\":{\"style\":\"light\"},\"paper_bgcolor\":\"white\",\"plot_bgcolor\":\"#E5ECF6\",\"polar\":{\"angularaxis\":{\"gridcolor\":\"white\",\"linecolor\":\"white\",\"ticks\":\"\"},\"bgcolor\":\"#E5ECF6\",\"radialaxis\":{\"gridcolor\":\"white\",\"linecolor\":\"white\",\"ticks\":\"\"}},\"scene\":{\"xaxis\":{\"backgroundcolor\":\"#E5ECF6\",\"gridcolor\":\"white\",\"gridwidth\":2,\"linecolor\":\"white\",\"showbackground\":true,\"ticks\":\"\",\"zerolinecolor\":\"white\"},\"yaxis\":{\"backgroundcolor\":\"#E5ECF6\",\"gridcolor\":\"white\",\"gridwidth\":2,\"linecolor\":\"white\",\"showbackground\":true,\"ticks\":\"\",\"zerolinecolor\":\"white\"},\"zaxis\":{\"backgroundcolor\":\"#E5ECF6\",\"gridcolor\":\"white\",\"gridwidth\":2,\"linecolor\":\"white\",\"showbackground\":true,\"ticks\":\"\",\"zerolinecolor\":\"white\"}},\"shapedefaults\":{\"line\":{\"color\":\"#2a3f5f\"}},\"ternary\":{\"aaxis\":{\"gridcolor\":\"white\",\"linecolor\":\"white\",\"ticks\":\"\"},\"baxis\":{\"gridcolor\":\"white\",\"linecolor\":\"white\",\"ticks\":\"\"},\"bgcolor\":\"#E5ECF6\",\"caxis\":{\"gridcolor\":\"white\",\"linecolor\":\"white\",\"ticks\":\"\"}},\"title\":{\"x\":0.05},\"xaxis\":{\"automargin\":true,\"gridcolor\":\"white\",\"linecolor\":\"white\",\"ticks\":\"\",\"title\":{\"standoff\":15},\"zerolinecolor\":\"white\",\"zerolinewidth\":2},\"yaxis\":{\"automargin\":true,\"gridcolor\":\"white\",\"linecolor\":\"white\",\"ticks\":\"\",\"title\":{\"standoff\":15},\"zerolinecolor\":\"white\",\"zerolinewidth\":2}}}},                        {\"responsive\": true}                    ).then(function(){\n",
              "                            \n",
              "var gd = document.getElementById('bc37ef22-bae2-44ce-bfd9-a69b72843773');\n",
              "var x = new MutationObserver(function (mutations, observer) {{\n",
              "        var display = window.getComputedStyle(gd).display;\n",
              "        if (!display || display === 'none') {{\n",
              "            console.log([gd, 'removed!']);\n",
              "            Plotly.purge(gd);\n",
              "            observer.disconnect();\n",
              "        }}\n",
              "}});\n",
              "\n",
              "// Listen for the removal of the full notebook cells\n",
              "var notebookContainer = gd.closest('#notebook-container');\n",
              "if (notebookContainer) {{\n",
              "    x.observe(notebookContainer, {childList: true});\n",
              "}}\n",
              "\n",
              "// Listen for the clearing of the current output cell\n",
              "var outputEl = gd.closest('.output');\n",
              "if (outputEl) {{\n",
              "    x.observe(outputEl, {childList: true});\n",
              "}}\n",
              "\n",
              "                        })                };                            </script>        </div>\n",
              "</body>\n",
              "</html>"
            ]
          },
          "metadata": {}
        }
      ]
    },
    {
      "cell_type": "markdown",
      "source": [
        "**TASK 3**"
      ],
      "metadata": {
        "id": "ZqaWvG1vel8p"
      }
    },
    {
      "cell_type": "code",
      "source": [],
      "metadata": {
        "id": "TgsqCsSXekom"
      },
      "execution_count": null,
      "outputs": []
    },
    {
      "cell_type": "code",
      "source": [
        "from sklearn.datasets import make_blobs\n",
        "X, y = make_blobs(n_samples=100, centers=2, n_features=3,\n",
        "                  random_state=0)"
      ],
      "metadata": {
        "id": "1KMjUIYYvgrE"
      },
      "execution_count": null,
      "outputs": []
    },
    {
      "cell_type": "code",
      "source": [
        "# z = lambda x,y: (-svc.intercept_[0]-svc.coef_[0][0]*x-svc.coef_[0][1]*y) / svc.coef_[0][2]\n",
        "def surface_func (w, b, xx,yy ):\n",
        "   z = lambda xx, yy: (-b - w[0] * xx - w[1] * yy) /w[2]\n",
        "   return z(xx,yy)\n",
        "\n",
        "\n",
        "\n",
        "\n",
        "\n",
        "\n",
        "def draw_3d (w, b, X, colors):\n",
        "  tmp = np.linspace(-2,2,10)\n",
        "  xx,yy = np.meshgrid(tmp,tmp)\n",
        "  fig = go.Figure([go.Scatter3d(x=X[:,0], y=X[:,1], z=X[:,2], mode=\"markers\", showlegend=False,\n",
        "                                marker=dict(color=colors)\n",
        "                        ),\n",
        "           go.Surface(x=xx, y=yy, z=surface_func (w, b, xx,yy ), opacity=.5, showscale=False,\n",
        "                      surfacecolor=np.zeros(xx.shape), colorscale=[[0, 'blue']])])\n",
        "\n",
        "  fig.update_layout(\n",
        "    scene = dict(zaxis = dict(nticks=4, range=[-2,5.9])))\n",
        "  fig.show()"
      ],
      "metadata": {
        "id": "-hNidWyJnMk1"
      },
      "execution_count": null,
      "outputs": []
    },
    {
      "cell_type": "code",
      "source": [
        "def random_coloring(w, b, X):\n",
        "\n",
        "  return [f'rgb({np.random.randint(0,256)}, {np.random.randint(0,256)}, {np.random.randint(0,256)})' for _ in range(X.shape[0])]\n",
        "\n"
      ],
      "metadata": {
        "id": "y_x8LbN3fCeN"
      },
      "execution_count": null,
      "outputs": []
    },
    {
      "cell_type": "code",
      "source": [
        "w =  np.array([[0.85486757],\n",
        "        [0.27359117],\n",
        "        [0.54506031]]) #np.random.random((n,1))\n",
        "b =   0.023607449804923242 #np.random.random((1,))[0]\n",
        "\n"
      ],
      "metadata": {
        "id": "C6m4JA7I2VN5"
      },
      "execution_count": null,
      "outputs": []
    },
    {
      "cell_type": "code",
      "source": [
        "colors = random_coloring(w, b, X)"
      ],
      "metadata": {
        "id": "B2nqwVozArdF"
      },
      "execution_count": null,
      "outputs": []
    },
    {
      "cell_type": "code",
      "source": [
        "draw_3d (w, b, X, colors)"
      ],
      "metadata": {
        "colab": {
          "base_uri": "https://localhost:8080/",
          "height": 542
        },
        "id": "ykdN3iXlfduf",
        "outputId": "3f13034e-6e23-4690-ed1c-0a5d924ff0d1"
      },
      "execution_count": null,
      "outputs": [
        {
          "output_type": "display_data",
          "data": {
            "text/html": [
              "<html>\n",
              "<head><meta charset=\"utf-8\" /></head>\n",
              "<body>\n",
              "    <div>            <script src=\"https://cdnjs.cloudflare.com/ajax/libs/mathjax/2.7.5/MathJax.js?config=TeX-AMS-MML_SVG\"></script><script type=\"text/javascript\">if (window.MathJax) {MathJax.Hub.Config({SVG: {font: \"STIX-Web\"}});}</script>                <script type=\"text/javascript\">window.PlotlyConfig = {MathJaxConfig: 'local'};</script>\n",
              "        <script src=\"https://cdn.plot.ly/plotly-2.8.3.min.js\"></script>                <div id=\"67505543-a9be-4782-8a41-7781c103b1c5\" class=\"plotly-graph-div\" style=\"height:525px; width:100%;\"></div>            <script type=\"text/javascript\">                                    window.PLOTLYENV=window.PLOTLYENV || {};                                    if (document.getElementById(\"67505543-a9be-4782-8a41-7781c103b1c5\")) {                    Plotly.newPlot(                        \"67505543-a9be-4782-8a41-7781c103b1c5\",                        [{\"marker\":{\"color\":[\"rgb(38, 13, 55)\",\"rgb(66, 91, 99)\",\"rgb(122, 87, 206)\",\"rgb(254, 217, 62)\",\"rgb(205, 167, 43)\",\"rgb(91, 88, 194)\",\"rgb(230, 199, 172)\",\"rgb(172, 68, 118)\",\"rgb(53, 76, 60)\",\"rgb(203, 141, 237)\",\"rgb(243, 245, 54)\",\"rgb(79, 232, 52)\",\"rgb(78, 216, 61)\",\"rgb(141, 124, 56)\",\"rgb(38, 207, 205)\",\"rgb(81, 98, 165)\",\"rgb(103, 79, 26)\",\"rgb(130, 70, 133)\",\"rgb(185, 254, 9)\",\"rgb(252, 27, 52)\",\"rgb(89, 128, 95)\",\"rgb(67, 56, 34)\",\"rgb(136, 110, 139)\",\"rgb(47, 239, 173)\",\"rgb(52, 33, 233)\",\"rgb(221, 202, 21)\",\"rgb(115, 145, 49)\",\"rgb(241, 70, 147)\",\"rgb(161, 126, 133)\",\"rgb(2, 199, 157)\",\"rgb(158, 222, 246)\",\"rgb(111, 73, 173)\",\"rgb(70, 90, 195)\",\"rgb(116, 137, 225)\",\"rgb(152, 40, 46)\",\"rgb(205, 78, 126)\",\"rgb(115, 208, 133)\",\"rgb(36, 161, 138)\",\"rgb(79, 63, 67)\",\"rgb(105, 229, 35)\",\"rgb(221, 106, 108)\",\"rgb(196, 47, 191)\",\"rgb(242, 73, 143)\",\"rgb(2, 184, 201)\",\"rgb(132, 91, 241)\",\"rgb(195, 247, 111)\",\"rgb(109, 30, 149)\",\"rgb(249, 129, 247)\",\"rgb(60, 202, 100)\",\"rgb(179, 189, 48)\",\"rgb(221, 196, 199)\",\"rgb(4, 234, 204)\",\"rgb(153, 55, 77)\",\"rgb(84, 235, 34)\",\"rgb(169, 216, 78)\",\"rgb(111, 185, 29)\",\"rgb(238, 117, 6)\",\"rgb(119, 103, 108)\",\"rgb(101, 64, 58)\",\"rgb(0, 117, 24)\",\"rgb(129, 192, 37)\",\"rgb(90, 4, 135)\",\"rgb(154, 147, 10)\",\"rgb(217, 229, 51)\",\"rgb(129, 58, 147)\",\"rgb(72, 66, 33)\",\"rgb(211, 83, 229)\",\"rgb(143, 41, 32)\",\"rgb(39, 183, 34)\",\"rgb(64, 35, 178)\",\"rgb(142, 86, 88)\",\"rgb(97, 77, 166)\",\"rgb(184, 30, 170)\",\"rgb(64, 217, 235)\",\"rgb(209, 41, 50)\",\"rgb(116, 186, 15)\",\"rgb(248, 199, 190)\",\"rgb(83, 162, 252)\",\"rgb(58, 60, 138)\",\"rgb(245, 132, 95)\",\"rgb(214, 108, 82)\",\"rgb(190, 247, 224)\",\"rgb(22, 5, 242)\",\"rgb(66, 157, 171)\",\"rgb(93, 71, 92)\",\"rgb(82, 210, 148)\",\"rgb(232, 94, 184)\",\"rgb(33, 39, 61)\",\"rgb(92, 135, 61)\",\"rgb(231, 116, 180)\",\"rgb(168, 51, 68)\",\"rgb(169, 39, 56)\",\"rgb(91, 133, 253)\",\"rgb(182, 92, 29)\",\"rgb(64, 179, 215)\",\"rgb(212, 151, 3)\",\"rgb(127, 166, 95)\",\"rgb(60, 32, 36)\",\"rgb(99, 51, 144)\",\"rgb(22, 168, 212)\"]},\"mode\":\"markers\",\"showlegend\":false,\"x\":[1.5065074944133876,2.024299582044444,1.2877569826258632,2.1156707630897955,0.9860857469825982,2.9198912641957877,0.8554065082772941,0.5381957769353087,1.363172576405757,0.29145998760618186,0.3908473056392493,-0.29421491993923854,-1.004526389677432,0.5411165268248577,0.5436697486844528,3.359414853410437,-0.7500125237851818,1.7373078036934886,1.9263584960720843,1.8470844668636976,-1.3257394922864898,1.9529091150302078,1.4806173396912303,-0.5687606678645771,-1.1723213650755957,2.9621565212972563,0.6739673279711595,1.8078425680305288,1.7420266363394838,2.3026559752335256,1.5924128035939429,0.8583808417104413,0.14983153988748066,0.7082667075951147,1.3526956097021245,1.3722767912081404,0.6647175464191224,0.9867700992673155,1.3837319147876055,1.2787419762862764,1.2893377801973964,0.4598436151935028,0.303809630770544,1.216391312880958,0.9080284732218639,0.20561381215354568,1.5874818244727251,0.2081138821877363,-1.03861614590857,0.301937417889119,2.093286366642348,2.4406782553446726,0.15963275073224814,0.7890862285206615,1.0396168232587164,-0.6376277690114565,0.30034759097257413,0.761713959259616,2.4645222723420948,-0.7300001120785176,0.2602266343857078,1.6298886739868557,1.3868685804848675,0.7261173287156888,-0.6852747373971451,-0.2585187718839759,0.9480878502078401,1.415661779811032,0.4043437765757428,1.8770965655006822,1.1312175042434114,1.8823147368218804,1.3782594419911967,1.028215474342634,2.0856934522902386,0.9609256541382686,0.4166365414771491,-0.40886319179737973,0.21748545594108648,0.5730931315733154,3.2460247025341027,-0.6539282684195495,0.8806432460764962,1.6527033734929948,0.8212599854556608,-0.20671967949051373,1.309944405920762,0.5998727805362085,2.89921210502688,1.296710005578067,0.4312445632019938,3.0608996092186267,0.6582844823620104,-0.13657918184652784,0.7963452427341442,1.3914054372871254,2.2065607592742156,0.43406768529184264,1.5377951860355288,2.049995224721057],\"y\":[-2.57215737936886,-2.606835521585329,-2.179312595608925,3.0689615070947376,-1.837790184920377,3.8901683466886428,-2.4828490137146826,3.050991967398464,3.792982189879517,3.4329901782665084,-2.1232180516724135,5.273184035606401,3.955875178122237,6.153051055927731,-2.9018553066399244,5.248266814438804,4.481213469702142,4.425462343941218,4.152430119150692,-1.4393527718367145,-0.9016725621947179,4.660153724622792,-1.9263530424847806,-1.0058391367691468,-1.1006452824438044,-1.637444670454378,3.255234362381297,-1.2096857980306033,-2.5271193606114704,3.6092194677170246,-2.25250139168549,-2.694997510963103,4.205334803022958,5.106243723244785,3.2043865368641953,3.210725818717884,4.359952669678135,6.089657821354225,3.5338712530030736,3.6694652337674265,3.449691588146665,-2.0249364639142104,3.9442341659078486,-0.6700734013192142,6.017130049097757,0.009473041023892348,-0.22505778365690698,-1.9824365167392486,-1.338125416428077,4.335617885722741,2.987879916936869,-2.819760922945354,-1.2469794141786672,5.836566541806848,-1.8462324303670006,4.091047047234421,-1.7648257429579124,-0.3900126506192101,6.199676503478973,6.25456272268018,-1.924175827550703,5.168223526307896,4.447830898609268,-0.755113462008238,-0.9165246341147002,-0.745705911511912,4.7321191979788075,4.470460822820919,-2.0697654892386232,4.76944976717885,4.681949847050563,3.4425616423936876,6.186938024504644,5.032877889625927,-1.2099614012970559,-1.3703974752565298,0.7770126844620364,0.13122666639628267,-0.8605209311899911,5.526232397830817,2.8494216528496255,4.7665695829741646,-1.1477522776668236,4.8803781440633305,4.91786669779447,-1.474738933960931,5.797866400605996,-1.8359169822690276,5.784302118882814,-4.299496769648556,-2.4713502691401557,-0.19037606378551342,-0.42724441733479224,-0.8453094949402784,3.2330347059378477,-1.643007952256272,5.506167176232801,-1.045422539448443,-3.1438600575327396,-0.4472854211850843],\"z\":[4.129027551015824,1.7704136089220204,2.5269288861455217,2.457609162610427,3.0152824276019063,1.3078127099921202,2.571900485633736,2.832757877264788,0.8746353373104658,1.4764178566684625,2.8653149650635763,0.882144116318718,2.211616490536858,2.7275622784453133,2.274263858500232,1.1424452959887192,1.6534865852246161,2.4991307541783034,1.95204866963932,1.6924467425029548,1.3158246057263752,2.761840689624826,3.2879381491806416,2.3420942915200564,3.594790296363368,3.9380549730489225,0.6352495842539028,3.704210223442099,1.3731111645555112,1.905632981105207,1.5345183059380674,3.4411589218648766,1.3917892350707706,3.002519489206626,2.3535056956389337,0.5640099287272724,0.8901176806495215,2.1821796141364977,2.5945167127246953,1.69252635544574,-0.49772229440120075,4.847414315150108,1.2421212393884238,2.266856668032976,1.310512699384438,3.2042259502254025,2.2897947016915436,2.9353614203581797,3.4417732851673284,1.4194214430539969,1.593682916618169,3.184933130682306,2.819731871690165,3.524626291333163,3.6094210124033093,1.1598009602392023,1.4938213523505912,3.0156072290479785,3.2340470925925286,1.5456153396812244,2.785001683746167,1.313102501026436,3.5095410283958532,3.741386415296854,1.7290230035490939,4.412366805824492,2.121784743816046,2.690298958324984,3.3339323075945484,0.5190238351556542,1.1674817738027652,3.9653324745319116,0.7075084602904316,2.1842504321902885,3.838741085113942,3.1500632975333986,1.8578664386115755,2.799718216204553,2.4571624739445697,2.263542499509738,2.101026038734324,1.1479691570496358,5.177191212023975,1.846968765854883,2.977474192999405,2.1783192649418095,1.850109257667077,1.241878455003146,3.922826481859448,4.873794569583817,2.507832568130574,2.548700423390679,3.5731459920557205,2.1144725971592817,3.109719248364015,0.8871977935516284,1.6679407040249257,1.377085246888498,2.8935561369341873,2.10451800212892],\"type\":\"scatter3d\"},{\"colorscale\":[[0,\"blue\"]],\"opacity\":0.5,\"showscale\":false,\"surfacecolor\":[[0.0,0.0,0.0,0.0,0.0,0.0,0.0,0.0,0.0,0.0],[0.0,0.0,0.0,0.0,0.0,0.0,0.0,0.0,0.0,0.0],[0.0,0.0,0.0,0.0,0.0,0.0,0.0,0.0,0.0,0.0],[0.0,0.0,0.0,0.0,0.0,0.0,0.0,0.0,0.0,0.0],[0.0,0.0,0.0,0.0,0.0,0.0,0.0,0.0,0.0,0.0],[0.0,0.0,0.0,0.0,0.0,0.0,0.0,0.0,0.0,0.0],[0.0,0.0,0.0,0.0,0.0,0.0,0.0,0.0,0.0,0.0],[0.0,0.0,0.0,0.0,0.0,0.0,0.0,0.0,0.0,0.0],[0.0,0.0,0.0,0.0,0.0,0.0,0.0,0.0,0.0,0.0],[0.0,0.0,0.0,0.0,0.0,0.0,0.0,0.0,0.0,0.0]],\"x\":[[-2.0,-1.5555555555555556,-1.1111111111111112,-0.6666666666666667,-0.22222222222222232,0.22222222222222232,0.6666666666666665,1.1111111111111107,1.5555555555555554,2.0],[-2.0,-1.5555555555555556,-1.1111111111111112,-0.6666666666666667,-0.22222222222222232,0.22222222222222232,0.6666666666666665,1.1111111111111107,1.5555555555555554,2.0],[-2.0,-1.5555555555555556,-1.1111111111111112,-0.6666666666666667,-0.22222222222222232,0.22222222222222232,0.6666666666666665,1.1111111111111107,1.5555555555555554,2.0],[-2.0,-1.5555555555555556,-1.1111111111111112,-0.6666666666666667,-0.22222222222222232,0.22222222222222232,0.6666666666666665,1.1111111111111107,1.5555555555555554,2.0],[-2.0,-1.5555555555555556,-1.1111111111111112,-0.6666666666666667,-0.22222222222222232,0.22222222222222232,0.6666666666666665,1.1111111111111107,1.5555555555555554,2.0],[-2.0,-1.5555555555555556,-1.1111111111111112,-0.6666666666666667,-0.22222222222222232,0.22222222222222232,0.6666666666666665,1.1111111111111107,1.5555555555555554,2.0],[-2.0,-1.5555555555555556,-1.1111111111111112,-0.6666666666666667,-0.22222222222222232,0.22222222222222232,0.6666666666666665,1.1111111111111107,1.5555555555555554,2.0],[-2.0,-1.5555555555555556,-1.1111111111111112,-0.6666666666666667,-0.22222222222222232,0.22222222222222232,0.6666666666666665,1.1111111111111107,1.5555555555555554,2.0],[-2.0,-1.5555555555555556,-1.1111111111111112,-0.6666666666666667,-0.22222222222222232,0.22222222222222232,0.6666666666666665,1.1111111111111107,1.5555555555555554,2.0],[-2.0,-1.5555555555555556,-1.1111111111111112,-0.6666666666666667,-0.22222222222222232,0.22222222222222232,0.6666666666666665,1.1111111111111107,1.5555555555555554,2.0]],\"y\":[[-2.0,-2.0,-2.0,-2.0,-2.0,-2.0,-2.0,-2.0,-2.0,-2.0],[-1.5555555555555556,-1.5555555555555556,-1.5555555555555556,-1.5555555555555556,-1.5555555555555556,-1.5555555555555556,-1.5555555555555556,-1.5555555555555556,-1.5555555555555556,-1.5555555555555556],[-1.1111111111111112,-1.1111111111111112,-1.1111111111111112,-1.1111111111111112,-1.1111111111111112,-1.1111111111111112,-1.1111111111111112,-1.1111111111111112,-1.1111111111111112,-1.1111111111111112],[-0.6666666666666667,-0.6666666666666667,-0.6666666666666667,-0.6666666666666667,-0.6666666666666667,-0.6666666666666667,-0.6666666666666667,-0.6666666666666667,-0.6666666666666667,-0.6666666666666667],[-0.22222222222222232,-0.22222222222222232,-0.22222222222222232,-0.22222222222222232,-0.22222222222222232,-0.22222222222222232,-0.22222222222222232,-0.22222222222222232,-0.22222222222222232,-0.22222222222222232],[0.22222222222222232,0.22222222222222232,0.22222222222222232,0.22222222222222232,0.22222222222222232,0.22222222222222232,0.22222222222222232,0.22222222222222232,0.22222222222222232,0.22222222222222232],[0.6666666666666665,0.6666666666666665,0.6666666666666665,0.6666666666666665,0.6666666666666665,0.6666666666666665,0.6666666666666665,0.6666666666666665,0.6666666666666665,0.6666666666666665],[1.1111111111111107,1.1111111111111107,1.1111111111111107,1.1111111111111107,1.1111111111111107,1.1111111111111107,1.1111111111111107,1.1111111111111107,1.1111111111111107,1.1111111111111107],[1.5555555555555554,1.5555555555555554,1.5555555555555554,1.5555555555555554,1.5555555555555554,1.5555555555555554,1.5555555555555554,1.5555555555555554,1.5555555555555554,1.5555555555555554],[2.0,2.0,2.0,2.0,2.0,2.0,2.0,2.0,2.0,2.0]],\"z\":[[4.097363152703371,3.400300579531932,2.7032380063604933,2.0061754331890547,1.3091128600176154,0.6120502868461759,-0.08501228632526278,-0.7820748594967013,-1.4791374326681408,-2.17620000583958],[3.874275774435899,3.17721320126446,2.4801506280930212,1.7830880549215824,1.0860254817501431,0.38896290857870386,-0.3080996645927348,-1.0051622377641736,-1.702224810935613,-2.399287384107052],[3.6511883961684273,2.9541258229969882,2.257063249825549,1.5600006766541101,0.8629381034826713,0.1658755303112319,-0.5311870428602068,-1.2282496160316452,-1.9253121892030847,-2.6223747623745237],[3.4281010179009552,2.731038444729516,2.033975871558077,1.3369132983866383,0.6398507252151994,-0.0572118479562401,-0.7542744211276788,-1.4513369942991174,-2.1483995674705567,-2.845462140641996],[3.205013639633483,2.5079510664620437,1.8108884932906053,1.1138259201191663,0.41676334694772726,-0.28029922622371206,-0.9773617993951508,-1.6744243725665893,-2.371486945738029,-3.0685495189094683],[2.981926261366011,2.284863688194572,1.587801115023133,0.8907385418516942,0.19367596868025513,-0.5033866044911842,-1.200449177662623,-1.8975117508340613,-2.594574324005501,-3.29163689717694],[2.758838883098539,2.0617763099271,1.3647137367556612,0.6676511635842223,-0.029411409587216754,-0.726473982758656,-1.4235365559300948,-2.1205991291015334,-2.817661702272973,-3.514724275444412],[2.5357515048310675,1.8386889316596282,1.1416263584881894,0.4445637853167504,-0.25249878785468866,-0.949561361026128,-1.6466239341975668,-2.343686507369005,-3.0407490805404445,-3.7378116537118844],[2.3126641265635954,1.6156015533921562,0.9185389802207173,0.22147640704927837,-0.4755861661221607,-1.1726487392936003,-1.8697113124650389,-2.5667738856364775,-3.263836458807917,-3.960899031979356],[2.089576748296123,1.392514175124684,0.6954516019532452,-0.0016109712181937676,-0.6986735443896328,-1.3957361175610723,-2.0927986907325105,-2.7898612639039495,-3.486923837075389,-4.1839864102468285]],\"type\":\"surface\"}],                        {\"template\":{\"data\":{\"bar\":[{\"error_x\":{\"color\":\"#2a3f5f\"},\"error_y\":{\"color\":\"#2a3f5f\"},\"marker\":{\"line\":{\"color\":\"#E5ECF6\",\"width\":0.5},\"pattern\":{\"fillmode\":\"overlay\",\"size\":10,\"solidity\":0.2}},\"type\":\"bar\"}],\"barpolar\":[{\"marker\":{\"line\":{\"color\":\"#E5ECF6\",\"width\":0.5},\"pattern\":{\"fillmode\":\"overlay\",\"size\":10,\"solidity\":0.2}},\"type\":\"barpolar\"}],\"carpet\":[{\"aaxis\":{\"endlinecolor\":\"#2a3f5f\",\"gridcolor\":\"white\",\"linecolor\":\"white\",\"minorgridcolor\":\"white\",\"startlinecolor\":\"#2a3f5f\"},\"baxis\":{\"endlinecolor\":\"#2a3f5f\",\"gridcolor\":\"white\",\"linecolor\":\"white\",\"minorgridcolor\":\"white\",\"startlinecolor\":\"#2a3f5f\"},\"type\":\"carpet\"}],\"choropleth\":[{\"colorbar\":{\"outlinewidth\":0,\"ticks\":\"\"},\"type\":\"choropleth\"}],\"contour\":[{\"colorbar\":{\"outlinewidth\":0,\"ticks\":\"\"},\"colorscale\":[[0.0,\"#0d0887\"],[0.1111111111111111,\"#46039f\"],[0.2222222222222222,\"#7201a8\"],[0.3333333333333333,\"#9c179e\"],[0.4444444444444444,\"#bd3786\"],[0.5555555555555556,\"#d8576b\"],[0.6666666666666666,\"#ed7953\"],[0.7777777777777778,\"#fb9f3a\"],[0.8888888888888888,\"#fdca26\"],[1.0,\"#f0f921\"]],\"type\":\"contour\"}],\"contourcarpet\":[{\"colorbar\":{\"outlinewidth\":0,\"ticks\":\"\"},\"type\":\"contourcarpet\"}],\"heatmap\":[{\"colorbar\":{\"outlinewidth\":0,\"ticks\":\"\"},\"colorscale\":[[0.0,\"#0d0887\"],[0.1111111111111111,\"#46039f\"],[0.2222222222222222,\"#7201a8\"],[0.3333333333333333,\"#9c179e\"],[0.4444444444444444,\"#bd3786\"],[0.5555555555555556,\"#d8576b\"],[0.6666666666666666,\"#ed7953\"],[0.7777777777777778,\"#fb9f3a\"],[0.8888888888888888,\"#fdca26\"],[1.0,\"#f0f921\"]],\"type\":\"heatmap\"}],\"heatmapgl\":[{\"colorbar\":{\"outlinewidth\":0,\"ticks\":\"\"},\"colorscale\":[[0.0,\"#0d0887\"],[0.1111111111111111,\"#46039f\"],[0.2222222222222222,\"#7201a8\"],[0.3333333333333333,\"#9c179e\"],[0.4444444444444444,\"#bd3786\"],[0.5555555555555556,\"#d8576b\"],[0.6666666666666666,\"#ed7953\"],[0.7777777777777778,\"#fb9f3a\"],[0.8888888888888888,\"#fdca26\"],[1.0,\"#f0f921\"]],\"type\":\"heatmapgl\"}],\"histogram\":[{\"marker\":{\"pattern\":{\"fillmode\":\"overlay\",\"size\":10,\"solidity\":0.2}},\"type\":\"histogram\"}],\"histogram2d\":[{\"colorbar\":{\"outlinewidth\":0,\"ticks\":\"\"},\"colorscale\":[[0.0,\"#0d0887\"],[0.1111111111111111,\"#46039f\"],[0.2222222222222222,\"#7201a8\"],[0.3333333333333333,\"#9c179e\"],[0.4444444444444444,\"#bd3786\"],[0.5555555555555556,\"#d8576b\"],[0.6666666666666666,\"#ed7953\"],[0.7777777777777778,\"#fb9f3a\"],[0.8888888888888888,\"#fdca26\"],[1.0,\"#f0f921\"]],\"type\":\"histogram2d\"}],\"histogram2dcontour\":[{\"colorbar\":{\"outlinewidth\":0,\"ticks\":\"\"},\"colorscale\":[[0.0,\"#0d0887\"],[0.1111111111111111,\"#46039f\"],[0.2222222222222222,\"#7201a8\"],[0.3333333333333333,\"#9c179e\"],[0.4444444444444444,\"#bd3786\"],[0.5555555555555556,\"#d8576b\"],[0.6666666666666666,\"#ed7953\"],[0.7777777777777778,\"#fb9f3a\"],[0.8888888888888888,\"#fdca26\"],[1.0,\"#f0f921\"]],\"type\":\"histogram2dcontour\"}],\"mesh3d\":[{\"colorbar\":{\"outlinewidth\":0,\"ticks\":\"\"},\"type\":\"mesh3d\"}],\"parcoords\":[{\"line\":{\"colorbar\":{\"outlinewidth\":0,\"ticks\":\"\"}},\"type\":\"parcoords\"}],\"pie\":[{\"automargin\":true,\"type\":\"pie\"}],\"scatter\":[{\"marker\":{\"colorbar\":{\"outlinewidth\":0,\"ticks\":\"\"}},\"type\":\"scatter\"}],\"scatter3d\":[{\"line\":{\"colorbar\":{\"outlinewidth\":0,\"ticks\":\"\"}},\"marker\":{\"colorbar\":{\"outlinewidth\":0,\"ticks\":\"\"}},\"type\":\"scatter3d\"}],\"scattercarpet\":[{\"marker\":{\"colorbar\":{\"outlinewidth\":0,\"ticks\":\"\"}},\"type\":\"scattercarpet\"}],\"scattergeo\":[{\"marker\":{\"colorbar\":{\"outlinewidth\":0,\"ticks\":\"\"}},\"type\":\"scattergeo\"}],\"scattergl\":[{\"marker\":{\"colorbar\":{\"outlinewidth\":0,\"ticks\":\"\"}},\"type\":\"scattergl\"}],\"scattermapbox\":[{\"marker\":{\"colorbar\":{\"outlinewidth\":0,\"ticks\":\"\"}},\"type\":\"scattermapbox\"}],\"scatterpolar\":[{\"marker\":{\"colorbar\":{\"outlinewidth\":0,\"ticks\":\"\"}},\"type\":\"scatterpolar\"}],\"scatterpolargl\":[{\"marker\":{\"colorbar\":{\"outlinewidth\":0,\"ticks\":\"\"}},\"type\":\"scatterpolargl\"}],\"scatterternary\":[{\"marker\":{\"colorbar\":{\"outlinewidth\":0,\"ticks\":\"\"}},\"type\":\"scatterternary\"}],\"surface\":[{\"colorbar\":{\"outlinewidth\":0,\"ticks\":\"\"},\"colorscale\":[[0.0,\"#0d0887\"],[0.1111111111111111,\"#46039f\"],[0.2222222222222222,\"#7201a8\"],[0.3333333333333333,\"#9c179e\"],[0.4444444444444444,\"#bd3786\"],[0.5555555555555556,\"#d8576b\"],[0.6666666666666666,\"#ed7953\"],[0.7777777777777778,\"#fb9f3a\"],[0.8888888888888888,\"#fdca26\"],[1.0,\"#f0f921\"]],\"type\":\"surface\"}],\"table\":[{\"cells\":{\"fill\":{\"color\":\"#EBF0F8\"},\"line\":{\"color\":\"white\"}},\"header\":{\"fill\":{\"color\":\"#C8D4E3\"},\"line\":{\"color\":\"white\"}},\"type\":\"table\"}]},\"layout\":{\"annotationdefaults\":{\"arrowcolor\":\"#2a3f5f\",\"arrowhead\":0,\"arrowwidth\":1},\"autotypenumbers\":\"strict\",\"coloraxis\":{\"colorbar\":{\"outlinewidth\":0,\"ticks\":\"\"}},\"colorscale\":{\"diverging\":[[0,\"#8e0152\"],[0.1,\"#c51b7d\"],[0.2,\"#de77ae\"],[0.3,\"#f1b6da\"],[0.4,\"#fde0ef\"],[0.5,\"#f7f7f7\"],[0.6,\"#e6f5d0\"],[0.7,\"#b8e186\"],[0.8,\"#7fbc41\"],[0.9,\"#4d9221\"],[1,\"#276419\"]],\"sequential\":[[0.0,\"#0d0887\"],[0.1111111111111111,\"#46039f\"],[0.2222222222222222,\"#7201a8\"],[0.3333333333333333,\"#9c179e\"],[0.4444444444444444,\"#bd3786\"],[0.5555555555555556,\"#d8576b\"],[0.6666666666666666,\"#ed7953\"],[0.7777777777777778,\"#fb9f3a\"],[0.8888888888888888,\"#fdca26\"],[1.0,\"#f0f921\"]],\"sequentialminus\":[[0.0,\"#0d0887\"],[0.1111111111111111,\"#46039f\"],[0.2222222222222222,\"#7201a8\"],[0.3333333333333333,\"#9c179e\"],[0.4444444444444444,\"#bd3786\"],[0.5555555555555556,\"#d8576b\"],[0.6666666666666666,\"#ed7953\"],[0.7777777777777778,\"#fb9f3a\"],[0.8888888888888888,\"#fdca26\"],[1.0,\"#f0f921\"]]},\"colorway\":[\"#636efa\",\"#EF553B\",\"#00cc96\",\"#ab63fa\",\"#FFA15A\",\"#19d3f3\",\"#FF6692\",\"#B6E880\",\"#FF97FF\",\"#FECB52\"],\"font\":{\"color\":\"#2a3f5f\"},\"geo\":{\"bgcolor\":\"white\",\"lakecolor\":\"white\",\"landcolor\":\"#E5ECF6\",\"showlakes\":true,\"showland\":true,\"subunitcolor\":\"white\"},\"hoverlabel\":{\"align\":\"left\"},\"hovermode\":\"closest\",\"mapbox\":{\"style\":\"light\"},\"paper_bgcolor\":\"white\",\"plot_bgcolor\":\"#E5ECF6\",\"polar\":{\"angularaxis\":{\"gridcolor\":\"white\",\"linecolor\":\"white\",\"ticks\":\"\"},\"bgcolor\":\"#E5ECF6\",\"radialaxis\":{\"gridcolor\":\"white\",\"linecolor\":\"white\",\"ticks\":\"\"}},\"scene\":{\"xaxis\":{\"backgroundcolor\":\"#E5ECF6\",\"gridcolor\":\"white\",\"gridwidth\":2,\"linecolor\":\"white\",\"showbackground\":true,\"ticks\":\"\",\"zerolinecolor\":\"white\"},\"yaxis\":{\"backgroundcolor\":\"#E5ECF6\",\"gridcolor\":\"white\",\"gridwidth\":2,\"linecolor\":\"white\",\"showbackground\":true,\"ticks\":\"\",\"zerolinecolor\":\"white\"},\"zaxis\":{\"backgroundcolor\":\"#E5ECF6\",\"gridcolor\":\"white\",\"gridwidth\":2,\"linecolor\":\"white\",\"showbackground\":true,\"ticks\":\"\",\"zerolinecolor\":\"white\"}},\"shapedefaults\":{\"line\":{\"color\":\"#2a3f5f\"}},\"ternary\":{\"aaxis\":{\"gridcolor\":\"white\",\"linecolor\":\"white\",\"ticks\":\"\"},\"baxis\":{\"gridcolor\":\"white\",\"linecolor\":\"white\",\"ticks\":\"\"},\"bgcolor\":\"#E5ECF6\",\"caxis\":{\"gridcolor\":\"white\",\"linecolor\":\"white\",\"ticks\":\"\"}},\"title\":{\"x\":0.05},\"xaxis\":{\"automargin\":true,\"gridcolor\":\"white\",\"linecolor\":\"white\",\"ticks\":\"\",\"title\":{\"standoff\":15},\"zerolinecolor\":\"white\",\"zerolinewidth\":2},\"yaxis\":{\"automargin\":true,\"gridcolor\":\"white\",\"linecolor\":\"white\",\"ticks\":\"\",\"title\":{\"standoff\":15},\"zerolinecolor\":\"white\",\"zerolinewidth\":2}}},\"scene\":{\"zaxis\":{\"nticks\":4,\"range\":[-2,5.9]}}},                        {\"responsive\": true}                    ).then(function(){\n",
              "                            \n",
              "var gd = document.getElementById('67505543-a9be-4782-8a41-7781c103b1c5');\n",
              "var x = new MutationObserver(function (mutations, observer) {{\n",
              "        var display = window.getComputedStyle(gd).display;\n",
              "        if (!display || display === 'none') {{\n",
              "            console.log([gd, 'removed!']);\n",
              "            Plotly.purge(gd);\n",
              "            observer.disconnect();\n",
              "        }}\n",
              "}});\n",
              "\n",
              "// Listen for the removal of the full notebook cells\n",
              "var notebookContainer = gd.closest('#notebook-container');\n",
              "if (notebookContainer) {{\n",
              "    x.observe(notebookContainer, {childList: true});\n",
              "}}\n",
              "\n",
              "// Listen for the clearing of the current output cell\n",
              "var outputEl = gd.closest('.output');\n",
              "if (outputEl) {{\n",
              "    x.observe(outputEl, {childList: true});\n",
              "}}\n",
              "\n",
              "                        })                };                            </script>        </div>\n",
              "</body>\n",
              "</html>"
            ]
          },
          "metadata": {}
        }
      ]
    },
    {
      "cell_type": "code",
      "source": [
        "def coloring(w, b, X):\n",
        "  #'rgb(150, 208, 252)',\n",
        "#  'rgb(160, 17, 53)',\n",
        "\n",
        "  color_1 = 'rgb(150, 208, 252)'  #f'rgb({np.random.randint(0,256)}, {np.random.randint(0,256)}, {np.random.randint(0,256)})'\n",
        "  color_2 = 'rgb(160, 17, 53)' #f'rgb({np.random.randint(0,256)}, {np.random.randint(0,256)}, {np.random.randint(0,256)})'\n",
        "  colors = []\n",
        "  for i in range(X.shape[0]):\n",
        "    if (X[i, :] @ w + b) < 0.0:\n",
        "      colors.append(color_1)\n",
        "    if (X[i, :] @ w + b)  >= 0.0:\n",
        "      colors.append(color_2)\n",
        "  return colors"
      ],
      "metadata": {
        "id": "evg9Tbvhf5XI"
      },
      "execution_count": null,
      "outputs": []
    },
    {
      "cell_type": "code",
      "source": [
        "colors = coloring(w, b, X)"
      ],
      "metadata": {
        "id": "wKvhdNF82ag7"
      },
      "execution_count": null,
      "outputs": []
    },
    {
      "cell_type": "code",
      "source": [
        "draw_3d (w, b, X, colors)"
      ],
      "metadata": {
        "colab": {
          "base_uri": "https://localhost:8080/",
          "height": 542
        },
        "id": "B8akLV-H2YZK",
        "outputId": "5ea59671-8e71-469c-8fe6-3b2c215aaeac"
      },
      "execution_count": null,
      "outputs": [
        {
          "output_type": "display_data",
          "data": {
            "text/html": [
              "<html>\n",
              "<head><meta charset=\"utf-8\" /></head>\n",
              "<body>\n",
              "    <div>            <script src=\"https://cdnjs.cloudflare.com/ajax/libs/mathjax/2.7.5/MathJax.js?config=TeX-AMS-MML_SVG\"></script><script type=\"text/javascript\">if (window.MathJax) {MathJax.Hub.Config({SVG: {font: \"STIX-Web\"}});}</script>                <script type=\"text/javascript\">window.PlotlyConfig = {MathJaxConfig: 'local'};</script>\n",
              "        <script src=\"https://cdn.plot.ly/plotly-2.8.3.min.js\"></script>                <div id=\"6c30ae40-15e3-453c-9775-c9a04db34fa6\" class=\"plotly-graph-div\" style=\"height:525px; width:100%;\"></div>            <script type=\"text/javascript\">                                    window.PLOTLYENV=window.PLOTLYENV || {};                                    if (document.getElementById(\"6c30ae40-15e3-453c-9775-c9a04db34fa6\")) {                    Plotly.newPlot(                        \"6c30ae40-15e3-453c-9775-c9a04db34fa6\",                        [{\"marker\":{\"color\":[\"rgb(160, 17, 53)\",\"rgb(160, 17, 53)\",\"rgb(160, 17, 53)\",\"rgb(160, 17, 53)\",\"rgb(160, 17, 53)\",\"rgb(160, 17, 53)\",\"rgb(160, 17, 53)\",\"rgb(160, 17, 53)\",\"rgb(160, 17, 53)\",\"rgb(160, 17, 53)\",\"rgb(160, 17, 53)\",\"rgb(160, 17, 53)\",\"rgb(160, 17, 53)\",\"rgb(160, 17, 53)\",\"rgb(160, 17, 53)\",\"rgb(160, 17, 53)\",\"rgb(160, 17, 53)\",\"rgb(160, 17, 53)\",\"rgb(160, 17, 53)\",\"rgb(160, 17, 53)\",\"rgb(150, 208, 252)\",\"rgb(160, 17, 53)\",\"rgb(160, 17, 53)\",\"rgb(160, 17, 53)\",\"rgb(160, 17, 53)\",\"rgb(160, 17, 53)\",\"rgb(160, 17, 53)\",\"rgb(160, 17, 53)\",\"rgb(160, 17, 53)\",\"rgb(160, 17, 53)\",\"rgb(160, 17, 53)\",\"rgb(160, 17, 53)\",\"rgb(160, 17, 53)\",\"rgb(160, 17, 53)\",\"rgb(160, 17, 53)\",\"rgb(160, 17, 53)\",\"rgb(160, 17, 53)\",\"rgb(160, 17, 53)\",\"rgb(160, 17, 53)\",\"rgb(160, 17, 53)\",\"rgb(160, 17, 53)\",\"rgb(160, 17, 53)\",\"rgb(160, 17, 53)\",\"rgb(160, 17, 53)\",\"rgb(160, 17, 53)\",\"rgb(160, 17, 53)\",\"rgb(160, 17, 53)\",\"rgb(160, 17, 53)\",\"rgb(160, 17, 53)\",\"rgb(160, 17, 53)\",\"rgb(160, 17, 53)\",\"rgb(160, 17, 53)\",\"rgb(160, 17, 53)\",\"rgb(160, 17, 53)\",\"rgb(160, 17, 53)\",\"rgb(160, 17, 53)\",\"rgb(160, 17, 53)\",\"rgb(160, 17, 53)\",\"rgb(160, 17, 53)\",\"rgb(160, 17, 53)\",\"rgb(160, 17, 53)\",\"rgb(160, 17, 53)\",\"rgb(160, 17, 53)\",\"rgb(160, 17, 53)\",\"rgb(160, 17, 53)\",\"rgb(160, 17, 53)\",\"rgb(160, 17, 53)\",\"rgb(160, 17, 53)\",\"rgb(160, 17, 53)\",\"rgb(160, 17, 53)\",\"rgb(160, 17, 53)\",\"rgb(160, 17, 53)\",\"rgb(160, 17, 53)\",\"rgb(160, 17, 53)\",\"rgb(160, 17, 53)\",\"rgb(160, 17, 53)\",\"rgb(160, 17, 53)\",\"rgb(160, 17, 53)\",\"rgb(160, 17, 53)\",\"rgb(160, 17, 53)\",\"rgb(160, 17, 53)\",\"rgb(160, 17, 53)\",\"rgb(160, 17, 53)\",\"rgb(160, 17, 53)\",\"rgb(160, 17, 53)\",\"rgb(160, 17, 53)\",\"rgb(160, 17, 53)\",\"rgb(160, 17, 53)\",\"rgb(160, 17, 53)\",\"rgb(160, 17, 53)\",\"rgb(160, 17, 53)\",\"rgb(160, 17, 53)\",\"rgb(160, 17, 53)\",\"rgb(160, 17, 53)\",\"rgb(160, 17, 53)\",\"rgb(160, 17, 53)\",\"rgb(160, 17, 53)\",\"rgb(160, 17, 53)\",\"rgb(160, 17, 53)\",\"rgb(160, 17, 53)\"]},\"mode\":\"markers\",\"showlegend\":false,\"x\":[1.5065074944133876,2.024299582044444,1.2877569826258632,2.1156707630897955,0.9860857469825982,2.9198912641957877,0.8554065082772941,0.5381957769353087,1.363172576405757,0.29145998760618186,0.3908473056392493,-0.29421491993923854,-1.004526389677432,0.5411165268248577,0.5436697486844528,3.359414853410437,-0.7500125237851818,1.7373078036934886,1.9263584960720843,1.8470844668636976,-1.3257394922864898,1.9529091150302078,1.4806173396912303,-0.5687606678645771,-1.1723213650755957,2.9621565212972563,0.6739673279711595,1.8078425680305288,1.7420266363394838,2.3026559752335256,1.5924128035939429,0.8583808417104413,0.14983153988748066,0.7082667075951147,1.3526956097021245,1.3722767912081404,0.6647175464191224,0.9867700992673155,1.3837319147876055,1.2787419762862764,1.2893377801973964,0.4598436151935028,0.303809630770544,1.216391312880958,0.9080284732218639,0.20561381215354568,1.5874818244727251,0.2081138821877363,-1.03861614590857,0.301937417889119,2.093286366642348,2.4406782553446726,0.15963275073224814,0.7890862285206615,1.0396168232587164,-0.6376277690114565,0.30034759097257413,0.761713959259616,2.4645222723420948,-0.7300001120785176,0.2602266343857078,1.6298886739868557,1.3868685804848675,0.7261173287156888,-0.6852747373971451,-0.2585187718839759,0.9480878502078401,1.415661779811032,0.4043437765757428,1.8770965655006822,1.1312175042434114,1.8823147368218804,1.3782594419911967,1.028215474342634,2.0856934522902386,0.9609256541382686,0.4166365414771491,-0.40886319179737973,0.21748545594108648,0.5730931315733154,3.2460247025341027,-0.6539282684195495,0.8806432460764962,1.6527033734929948,0.8212599854556608,-0.20671967949051373,1.309944405920762,0.5998727805362085,2.89921210502688,1.296710005578067,0.4312445632019938,3.0608996092186267,0.6582844823620104,-0.13657918184652784,0.7963452427341442,1.3914054372871254,2.2065607592742156,0.43406768529184264,1.5377951860355288,2.049995224721057],\"y\":[-2.57215737936886,-2.606835521585329,-2.179312595608925,3.0689615070947376,-1.837790184920377,3.8901683466886428,-2.4828490137146826,3.050991967398464,3.792982189879517,3.4329901782665084,-2.1232180516724135,5.273184035606401,3.955875178122237,6.153051055927731,-2.9018553066399244,5.248266814438804,4.481213469702142,4.425462343941218,4.152430119150692,-1.4393527718367145,-0.9016725621947179,4.660153724622792,-1.9263530424847806,-1.0058391367691468,-1.1006452824438044,-1.637444670454378,3.255234362381297,-1.2096857980306033,-2.5271193606114704,3.6092194677170246,-2.25250139168549,-2.694997510963103,4.205334803022958,5.106243723244785,3.2043865368641953,3.210725818717884,4.359952669678135,6.089657821354225,3.5338712530030736,3.6694652337674265,3.449691588146665,-2.0249364639142104,3.9442341659078486,-0.6700734013192142,6.017130049097757,0.009473041023892348,-0.22505778365690698,-1.9824365167392486,-1.338125416428077,4.335617885722741,2.987879916936869,-2.819760922945354,-1.2469794141786672,5.836566541806848,-1.8462324303670006,4.091047047234421,-1.7648257429579124,-0.3900126506192101,6.199676503478973,6.25456272268018,-1.924175827550703,5.168223526307896,4.447830898609268,-0.755113462008238,-0.9165246341147002,-0.745705911511912,4.7321191979788075,4.470460822820919,-2.0697654892386232,4.76944976717885,4.681949847050563,3.4425616423936876,6.186938024504644,5.032877889625927,-1.2099614012970559,-1.3703974752565298,0.7770126844620364,0.13122666639628267,-0.8605209311899911,5.526232397830817,2.8494216528496255,4.7665695829741646,-1.1477522776668236,4.8803781440633305,4.91786669779447,-1.474738933960931,5.797866400605996,-1.8359169822690276,5.784302118882814,-4.299496769648556,-2.4713502691401557,-0.19037606378551342,-0.42724441733479224,-0.8453094949402784,3.2330347059378477,-1.643007952256272,5.506167176232801,-1.045422539448443,-3.1438600575327396,-0.4472854211850843],\"z\":[4.129027551015824,1.7704136089220204,2.5269288861455217,2.457609162610427,3.0152824276019063,1.3078127099921202,2.571900485633736,2.832757877264788,0.8746353373104658,1.4764178566684625,2.8653149650635763,0.882144116318718,2.211616490536858,2.7275622784453133,2.274263858500232,1.1424452959887192,1.6534865852246161,2.4991307541783034,1.95204866963932,1.6924467425029548,1.3158246057263752,2.761840689624826,3.2879381491806416,2.3420942915200564,3.594790296363368,3.9380549730489225,0.6352495842539028,3.704210223442099,1.3731111645555112,1.905632981105207,1.5345183059380674,3.4411589218648766,1.3917892350707706,3.002519489206626,2.3535056956389337,0.5640099287272724,0.8901176806495215,2.1821796141364977,2.5945167127246953,1.69252635544574,-0.49772229440120075,4.847414315150108,1.2421212393884238,2.266856668032976,1.310512699384438,3.2042259502254025,2.2897947016915436,2.9353614203581797,3.4417732851673284,1.4194214430539969,1.593682916618169,3.184933130682306,2.819731871690165,3.524626291333163,3.6094210124033093,1.1598009602392023,1.4938213523505912,3.0156072290479785,3.2340470925925286,1.5456153396812244,2.785001683746167,1.313102501026436,3.5095410283958532,3.741386415296854,1.7290230035490939,4.412366805824492,2.121784743816046,2.690298958324984,3.3339323075945484,0.5190238351556542,1.1674817738027652,3.9653324745319116,0.7075084602904316,2.1842504321902885,3.838741085113942,3.1500632975333986,1.8578664386115755,2.799718216204553,2.4571624739445697,2.263542499509738,2.101026038734324,1.1479691570496358,5.177191212023975,1.846968765854883,2.977474192999405,2.1783192649418095,1.850109257667077,1.241878455003146,3.922826481859448,4.873794569583817,2.507832568130574,2.548700423390679,3.5731459920557205,2.1144725971592817,3.109719248364015,0.8871977935516284,1.6679407040249257,1.377085246888498,2.8935561369341873,2.10451800212892],\"type\":\"scatter3d\"},{\"colorscale\":[[0,\"blue\"]],\"opacity\":0.5,\"showscale\":false,\"surfacecolor\":[[0.0,0.0,0.0,0.0,0.0,0.0,0.0,0.0,0.0,0.0],[0.0,0.0,0.0,0.0,0.0,0.0,0.0,0.0,0.0,0.0],[0.0,0.0,0.0,0.0,0.0,0.0,0.0,0.0,0.0,0.0],[0.0,0.0,0.0,0.0,0.0,0.0,0.0,0.0,0.0,0.0],[0.0,0.0,0.0,0.0,0.0,0.0,0.0,0.0,0.0,0.0],[0.0,0.0,0.0,0.0,0.0,0.0,0.0,0.0,0.0,0.0],[0.0,0.0,0.0,0.0,0.0,0.0,0.0,0.0,0.0,0.0],[0.0,0.0,0.0,0.0,0.0,0.0,0.0,0.0,0.0,0.0],[0.0,0.0,0.0,0.0,0.0,0.0,0.0,0.0,0.0,0.0],[0.0,0.0,0.0,0.0,0.0,0.0,0.0,0.0,0.0,0.0]],\"x\":[[-2.0,-1.5555555555555556,-1.1111111111111112,-0.6666666666666667,-0.22222222222222232,0.22222222222222232,0.6666666666666665,1.1111111111111107,1.5555555555555554,2.0],[-2.0,-1.5555555555555556,-1.1111111111111112,-0.6666666666666667,-0.22222222222222232,0.22222222222222232,0.6666666666666665,1.1111111111111107,1.5555555555555554,2.0],[-2.0,-1.5555555555555556,-1.1111111111111112,-0.6666666666666667,-0.22222222222222232,0.22222222222222232,0.6666666666666665,1.1111111111111107,1.5555555555555554,2.0],[-2.0,-1.5555555555555556,-1.1111111111111112,-0.6666666666666667,-0.22222222222222232,0.22222222222222232,0.6666666666666665,1.1111111111111107,1.5555555555555554,2.0],[-2.0,-1.5555555555555556,-1.1111111111111112,-0.6666666666666667,-0.22222222222222232,0.22222222222222232,0.6666666666666665,1.1111111111111107,1.5555555555555554,2.0],[-2.0,-1.5555555555555556,-1.1111111111111112,-0.6666666666666667,-0.22222222222222232,0.22222222222222232,0.6666666666666665,1.1111111111111107,1.5555555555555554,2.0],[-2.0,-1.5555555555555556,-1.1111111111111112,-0.6666666666666667,-0.22222222222222232,0.22222222222222232,0.6666666666666665,1.1111111111111107,1.5555555555555554,2.0],[-2.0,-1.5555555555555556,-1.1111111111111112,-0.6666666666666667,-0.22222222222222232,0.22222222222222232,0.6666666666666665,1.1111111111111107,1.5555555555555554,2.0],[-2.0,-1.5555555555555556,-1.1111111111111112,-0.6666666666666667,-0.22222222222222232,0.22222222222222232,0.6666666666666665,1.1111111111111107,1.5555555555555554,2.0],[-2.0,-1.5555555555555556,-1.1111111111111112,-0.6666666666666667,-0.22222222222222232,0.22222222222222232,0.6666666666666665,1.1111111111111107,1.5555555555555554,2.0]],\"y\":[[-2.0,-2.0,-2.0,-2.0,-2.0,-2.0,-2.0,-2.0,-2.0,-2.0],[-1.5555555555555556,-1.5555555555555556,-1.5555555555555556,-1.5555555555555556,-1.5555555555555556,-1.5555555555555556,-1.5555555555555556,-1.5555555555555556,-1.5555555555555556,-1.5555555555555556],[-1.1111111111111112,-1.1111111111111112,-1.1111111111111112,-1.1111111111111112,-1.1111111111111112,-1.1111111111111112,-1.1111111111111112,-1.1111111111111112,-1.1111111111111112,-1.1111111111111112],[-0.6666666666666667,-0.6666666666666667,-0.6666666666666667,-0.6666666666666667,-0.6666666666666667,-0.6666666666666667,-0.6666666666666667,-0.6666666666666667,-0.6666666666666667,-0.6666666666666667],[-0.22222222222222232,-0.22222222222222232,-0.22222222222222232,-0.22222222222222232,-0.22222222222222232,-0.22222222222222232,-0.22222222222222232,-0.22222222222222232,-0.22222222222222232,-0.22222222222222232],[0.22222222222222232,0.22222222222222232,0.22222222222222232,0.22222222222222232,0.22222222222222232,0.22222222222222232,0.22222222222222232,0.22222222222222232,0.22222222222222232,0.22222222222222232],[0.6666666666666665,0.6666666666666665,0.6666666666666665,0.6666666666666665,0.6666666666666665,0.6666666666666665,0.6666666666666665,0.6666666666666665,0.6666666666666665,0.6666666666666665],[1.1111111111111107,1.1111111111111107,1.1111111111111107,1.1111111111111107,1.1111111111111107,1.1111111111111107,1.1111111111111107,1.1111111111111107,1.1111111111111107,1.1111111111111107],[1.5555555555555554,1.5555555555555554,1.5555555555555554,1.5555555555555554,1.5555555555555554,1.5555555555555554,1.5555555555555554,1.5555555555555554,1.5555555555555554,1.5555555555555554],[2.0,2.0,2.0,2.0,2.0,2.0,2.0,2.0,2.0,2.0]],\"z\":[[4.097363152703371,3.400300579531932,2.7032380063604933,2.0061754331890547,1.3091128600176154,0.6120502868461759,-0.08501228632526278,-0.7820748594967013,-1.4791374326681408,-2.17620000583958],[3.874275774435899,3.17721320126446,2.4801506280930212,1.7830880549215824,1.0860254817501431,0.38896290857870386,-0.3080996645927348,-1.0051622377641736,-1.702224810935613,-2.399287384107052],[3.6511883961684273,2.9541258229969882,2.257063249825549,1.5600006766541101,0.8629381034826713,0.1658755303112319,-0.5311870428602068,-1.2282496160316452,-1.9253121892030847,-2.6223747623745237],[3.4281010179009552,2.731038444729516,2.033975871558077,1.3369132983866383,0.6398507252151994,-0.0572118479562401,-0.7542744211276788,-1.4513369942991174,-2.1483995674705567,-2.845462140641996],[3.205013639633483,2.5079510664620437,1.8108884932906053,1.1138259201191663,0.41676334694772726,-0.28029922622371206,-0.9773617993951508,-1.6744243725665893,-2.371486945738029,-3.0685495189094683],[2.981926261366011,2.284863688194572,1.587801115023133,0.8907385418516942,0.19367596868025513,-0.5033866044911842,-1.200449177662623,-1.8975117508340613,-2.594574324005501,-3.29163689717694],[2.758838883098539,2.0617763099271,1.3647137367556612,0.6676511635842223,-0.029411409587216754,-0.726473982758656,-1.4235365559300948,-2.1205991291015334,-2.817661702272973,-3.514724275444412],[2.5357515048310675,1.8386889316596282,1.1416263584881894,0.4445637853167504,-0.25249878785468866,-0.949561361026128,-1.6466239341975668,-2.343686507369005,-3.0407490805404445,-3.7378116537118844],[2.3126641265635954,1.6156015533921562,0.9185389802207173,0.22147640704927837,-0.4755861661221607,-1.1726487392936003,-1.8697113124650389,-2.5667738856364775,-3.263836458807917,-3.960899031979356],[2.089576748296123,1.392514175124684,0.6954516019532452,-0.0016109712181937676,-0.6986735443896328,-1.3957361175610723,-2.0927986907325105,-2.7898612639039495,-3.486923837075389,-4.1839864102468285]],\"type\":\"surface\"}],                        {\"template\":{\"data\":{\"bar\":[{\"error_x\":{\"color\":\"#2a3f5f\"},\"error_y\":{\"color\":\"#2a3f5f\"},\"marker\":{\"line\":{\"color\":\"#E5ECF6\",\"width\":0.5},\"pattern\":{\"fillmode\":\"overlay\",\"size\":10,\"solidity\":0.2}},\"type\":\"bar\"}],\"barpolar\":[{\"marker\":{\"line\":{\"color\":\"#E5ECF6\",\"width\":0.5},\"pattern\":{\"fillmode\":\"overlay\",\"size\":10,\"solidity\":0.2}},\"type\":\"barpolar\"}],\"carpet\":[{\"aaxis\":{\"endlinecolor\":\"#2a3f5f\",\"gridcolor\":\"white\",\"linecolor\":\"white\",\"minorgridcolor\":\"white\",\"startlinecolor\":\"#2a3f5f\"},\"baxis\":{\"endlinecolor\":\"#2a3f5f\",\"gridcolor\":\"white\",\"linecolor\":\"white\",\"minorgridcolor\":\"white\",\"startlinecolor\":\"#2a3f5f\"},\"type\":\"carpet\"}],\"choropleth\":[{\"colorbar\":{\"outlinewidth\":0,\"ticks\":\"\"},\"type\":\"choropleth\"}],\"contour\":[{\"colorbar\":{\"outlinewidth\":0,\"ticks\":\"\"},\"colorscale\":[[0.0,\"#0d0887\"],[0.1111111111111111,\"#46039f\"],[0.2222222222222222,\"#7201a8\"],[0.3333333333333333,\"#9c179e\"],[0.4444444444444444,\"#bd3786\"],[0.5555555555555556,\"#d8576b\"],[0.6666666666666666,\"#ed7953\"],[0.7777777777777778,\"#fb9f3a\"],[0.8888888888888888,\"#fdca26\"],[1.0,\"#f0f921\"]],\"type\":\"contour\"}],\"contourcarpet\":[{\"colorbar\":{\"outlinewidth\":0,\"ticks\":\"\"},\"type\":\"contourcarpet\"}],\"heatmap\":[{\"colorbar\":{\"outlinewidth\":0,\"ticks\":\"\"},\"colorscale\":[[0.0,\"#0d0887\"],[0.1111111111111111,\"#46039f\"],[0.2222222222222222,\"#7201a8\"],[0.3333333333333333,\"#9c179e\"],[0.4444444444444444,\"#bd3786\"],[0.5555555555555556,\"#d8576b\"],[0.6666666666666666,\"#ed7953\"],[0.7777777777777778,\"#fb9f3a\"],[0.8888888888888888,\"#fdca26\"],[1.0,\"#f0f921\"]],\"type\":\"heatmap\"}],\"heatmapgl\":[{\"colorbar\":{\"outlinewidth\":0,\"ticks\":\"\"},\"colorscale\":[[0.0,\"#0d0887\"],[0.1111111111111111,\"#46039f\"],[0.2222222222222222,\"#7201a8\"],[0.3333333333333333,\"#9c179e\"],[0.4444444444444444,\"#bd3786\"],[0.5555555555555556,\"#d8576b\"],[0.6666666666666666,\"#ed7953\"],[0.7777777777777778,\"#fb9f3a\"],[0.8888888888888888,\"#fdca26\"],[1.0,\"#f0f921\"]],\"type\":\"heatmapgl\"}],\"histogram\":[{\"marker\":{\"pattern\":{\"fillmode\":\"overlay\",\"size\":10,\"solidity\":0.2}},\"type\":\"histogram\"}],\"histogram2d\":[{\"colorbar\":{\"outlinewidth\":0,\"ticks\":\"\"},\"colorscale\":[[0.0,\"#0d0887\"],[0.1111111111111111,\"#46039f\"],[0.2222222222222222,\"#7201a8\"],[0.3333333333333333,\"#9c179e\"],[0.4444444444444444,\"#bd3786\"],[0.5555555555555556,\"#d8576b\"],[0.6666666666666666,\"#ed7953\"],[0.7777777777777778,\"#fb9f3a\"],[0.8888888888888888,\"#fdca26\"],[1.0,\"#f0f921\"]],\"type\":\"histogram2d\"}],\"histogram2dcontour\":[{\"colorbar\":{\"outlinewidth\":0,\"ticks\":\"\"},\"colorscale\":[[0.0,\"#0d0887\"],[0.1111111111111111,\"#46039f\"],[0.2222222222222222,\"#7201a8\"],[0.3333333333333333,\"#9c179e\"],[0.4444444444444444,\"#bd3786\"],[0.5555555555555556,\"#d8576b\"],[0.6666666666666666,\"#ed7953\"],[0.7777777777777778,\"#fb9f3a\"],[0.8888888888888888,\"#fdca26\"],[1.0,\"#f0f921\"]],\"type\":\"histogram2dcontour\"}],\"mesh3d\":[{\"colorbar\":{\"outlinewidth\":0,\"ticks\":\"\"},\"type\":\"mesh3d\"}],\"parcoords\":[{\"line\":{\"colorbar\":{\"outlinewidth\":0,\"ticks\":\"\"}},\"type\":\"parcoords\"}],\"pie\":[{\"automargin\":true,\"type\":\"pie\"}],\"scatter\":[{\"marker\":{\"colorbar\":{\"outlinewidth\":0,\"ticks\":\"\"}},\"type\":\"scatter\"}],\"scatter3d\":[{\"line\":{\"colorbar\":{\"outlinewidth\":0,\"ticks\":\"\"}},\"marker\":{\"colorbar\":{\"outlinewidth\":0,\"ticks\":\"\"}},\"type\":\"scatter3d\"}],\"scattercarpet\":[{\"marker\":{\"colorbar\":{\"outlinewidth\":0,\"ticks\":\"\"}},\"type\":\"scattercarpet\"}],\"scattergeo\":[{\"marker\":{\"colorbar\":{\"outlinewidth\":0,\"ticks\":\"\"}},\"type\":\"scattergeo\"}],\"scattergl\":[{\"marker\":{\"colorbar\":{\"outlinewidth\":0,\"ticks\":\"\"}},\"type\":\"scattergl\"}],\"scattermapbox\":[{\"marker\":{\"colorbar\":{\"outlinewidth\":0,\"ticks\":\"\"}},\"type\":\"scattermapbox\"}],\"scatterpolar\":[{\"marker\":{\"colorbar\":{\"outlinewidth\":0,\"ticks\":\"\"}},\"type\":\"scatterpolar\"}],\"scatterpolargl\":[{\"marker\":{\"colorbar\":{\"outlinewidth\":0,\"ticks\":\"\"}},\"type\":\"scatterpolargl\"}],\"scatterternary\":[{\"marker\":{\"colorbar\":{\"outlinewidth\":0,\"ticks\":\"\"}},\"type\":\"scatterternary\"}],\"surface\":[{\"colorbar\":{\"outlinewidth\":0,\"ticks\":\"\"},\"colorscale\":[[0.0,\"#0d0887\"],[0.1111111111111111,\"#46039f\"],[0.2222222222222222,\"#7201a8\"],[0.3333333333333333,\"#9c179e\"],[0.4444444444444444,\"#bd3786\"],[0.5555555555555556,\"#d8576b\"],[0.6666666666666666,\"#ed7953\"],[0.7777777777777778,\"#fb9f3a\"],[0.8888888888888888,\"#fdca26\"],[1.0,\"#f0f921\"]],\"type\":\"surface\"}],\"table\":[{\"cells\":{\"fill\":{\"color\":\"#EBF0F8\"},\"line\":{\"color\":\"white\"}},\"header\":{\"fill\":{\"color\":\"#C8D4E3\"},\"line\":{\"color\":\"white\"}},\"type\":\"table\"}]},\"layout\":{\"annotationdefaults\":{\"arrowcolor\":\"#2a3f5f\",\"arrowhead\":0,\"arrowwidth\":1},\"autotypenumbers\":\"strict\",\"coloraxis\":{\"colorbar\":{\"outlinewidth\":0,\"ticks\":\"\"}},\"colorscale\":{\"diverging\":[[0,\"#8e0152\"],[0.1,\"#c51b7d\"],[0.2,\"#de77ae\"],[0.3,\"#f1b6da\"],[0.4,\"#fde0ef\"],[0.5,\"#f7f7f7\"],[0.6,\"#e6f5d0\"],[0.7,\"#b8e186\"],[0.8,\"#7fbc41\"],[0.9,\"#4d9221\"],[1,\"#276419\"]],\"sequential\":[[0.0,\"#0d0887\"],[0.1111111111111111,\"#46039f\"],[0.2222222222222222,\"#7201a8\"],[0.3333333333333333,\"#9c179e\"],[0.4444444444444444,\"#bd3786\"],[0.5555555555555556,\"#d8576b\"],[0.6666666666666666,\"#ed7953\"],[0.7777777777777778,\"#fb9f3a\"],[0.8888888888888888,\"#fdca26\"],[1.0,\"#f0f921\"]],\"sequentialminus\":[[0.0,\"#0d0887\"],[0.1111111111111111,\"#46039f\"],[0.2222222222222222,\"#7201a8\"],[0.3333333333333333,\"#9c179e\"],[0.4444444444444444,\"#bd3786\"],[0.5555555555555556,\"#d8576b\"],[0.6666666666666666,\"#ed7953\"],[0.7777777777777778,\"#fb9f3a\"],[0.8888888888888888,\"#fdca26\"],[1.0,\"#f0f921\"]]},\"colorway\":[\"#636efa\",\"#EF553B\",\"#00cc96\",\"#ab63fa\",\"#FFA15A\",\"#19d3f3\",\"#FF6692\",\"#B6E880\",\"#FF97FF\",\"#FECB52\"],\"font\":{\"color\":\"#2a3f5f\"},\"geo\":{\"bgcolor\":\"white\",\"lakecolor\":\"white\",\"landcolor\":\"#E5ECF6\",\"showlakes\":true,\"showland\":true,\"subunitcolor\":\"white\"},\"hoverlabel\":{\"align\":\"left\"},\"hovermode\":\"closest\",\"mapbox\":{\"style\":\"light\"},\"paper_bgcolor\":\"white\",\"plot_bgcolor\":\"#E5ECF6\",\"polar\":{\"angularaxis\":{\"gridcolor\":\"white\",\"linecolor\":\"white\",\"ticks\":\"\"},\"bgcolor\":\"#E5ECF6\",\"radialaxis\":{\"gridcolor\":\"white\",\"linecolor\":\"white\",\"ticks\":\"\"}},\"scene\":{\"xaxis\":{\"backgroundcolor\":\"#E5ECF6\",\"gridcolor\":\"white\",\"gridwidth\":2,\"linecolor\":\"white\",\"showbackground\":true,\"ticks\":\"\",\"zerolinecolor\":\"white\"},\"yaxis\":{\"backgroundcolor\":\"#E5ECF6\",\"gridcolor\":\"white\",\"gridwidth\":2,\"linecolor\":\"white\",\"showbackground\":true,\"ticks\":\"\",\"zerolinecolor\":\"white\"},\"zaxis\":{\"backgroundcolor\":\"#E5ECF6\",\"gridcolor\":\"white\",\"gridwidth\":2,\"linecolor\":\"white\",\"showbackground\":true,\"ticks\":\"\",\"zerolinecolor\":\"white\"}},\"shapedefaults\":{\"line\":{\"color\":\"#2a3f5f\"}},\"ternary\":{\"aaxis\":{\"gridcolor\":\"white\",\"linecolor\":\"white\",\"ticks\":\"\"},\"baxis\":{\"gridcolor\":\"white\",\"linecolor\":\"white\",\"ticks\":\"\"},\"bgcolor\":\"#E5ECF6\",\"caxis\":{\"gridcolor\":\"white\",\"linecolor\":\"white\",\"ticks\":\"\"}},\"title\":{\"x\":0.05},\"xaxis\":{\"automargin\":true,\"gridcolor\":\"white\",\"linecolor\":\"white\",\"ticks\":\"\",\"title\":{\"standoff\":15},\"zerolinecolor\":\"white\",\"zerolinewidth\":2},\"yaxis\":{\"automargin\":true,\"gridcolor\":\"white\",\"linecolor\":\"white\",\"ticks\":\"\",\"title\":{\"standoff\":15},\"zerolinecolor\":\"white\",\"zerolinewidth\":2}}},\"scene\":{\"zaxis\":{\"nticks\":4,\"range\":[-2,5.9]}}},                        {\"responsive\": true}                    ).then(function(){\n",
              "                            \n",
              "var gd = document.getElementById('6c30ae40-15e3-453c-9775-c9a04db34fa6');\n",
              "var x = new MutationObserver(function (mutations, observer) {{\n",
              "        var display = window.getComputedStyle(gd).display;\n",
              "        if (!display || display === 'none') {{\n",
              "            console.log([gd, 'removed!']);\n",
              "            Plotly.purge(gd);\n",
              "            observer.disconnect();\n",
              "        }}\n",
              "}});\n",
              "\n",
              "// Listen for the removal of the full notebook cells\n",
              "var notebookContainer = gd.closest('#notebook-container');\n",
              "if (notebookContainer) {{\n",
              "    x.observe(notebookContainer, {childList: true});\n",
              "}}\n",
              "\n",
              "// Listen for the clearing of the current output cell\n",
              "var outputEl = gd.closest('.output');\n",
              "if (outputEl) {{\n",
              "    x.observe(outputEl, {childList: true});\n",
              "}}\n",
              "\n",
              "                        })                };                            </script>        </div>\n",
              "</body>\n",
              "</html>"
            ]
          },
          "metadata": {}
        }
      ]
    },
    {
      "cell_type": "code",
      "source": [
        "from IPython.display import clear_output"
      ],
      "metadata": {
        "id": "DwvPVJxbhS8T"
      },
      "execution_count": null,
      "outputs": []
    },
    {
      "cell_type": "code",
      "source": [
        "def gradients (y_Hat, X, y):\n",
        "   m = X.shape[0]\n",
        "   dw = (X.T @ (y_hat - y)) /m\n",
        "   db = np.sum(y_hat - y) / m\n",
        "   return dw, db\n",
        "\n",
        "def loss(y_hat, y):\n",
        "    l = -np.mean(y * np.log( y_hat)+ (1-y) * np.log((1- y_hat)))\n",
        "    return l\n",
        "\n",
        "def  sigmoid(w,X, b):\n",
        "\n",
        "    linear  =  X @ w + b\n",
        "    # print(linear)\n",
        "    sigm = 1.0 /(1.0 + np.exp(-linear))\n",
        "    return sigm\n",
        "\n",
        "def normalize(X):\n",
        "\n",
        "\n",
        "    m, n = X.shape\n",
        "\n",
        "    # Normalizing all the n features of X.\n",
        "    for i in range(n):\n",
        "        X = (X - X.mean(axis=0))/X.std(axis=0)\n",
        "\n",
        "    return X"
      ],
      "metadata": {
        "id": "nzWY8pW5doyL"
      },
      "execution_count": null,
      "outputs": []
    },
    {
      "cell_type": "code",
      "source": [],
      "metadata": {
        "id": "7484H79Iz8Gq"
      },
      "execution_count": null,
      "outputs": []
    },
    {
      "cell_type": "code",
      "source": [
        "\n",
        "lr = 0.01\n",
        "epochs = 500\n",
        "m, n = X.shape\n",
        "\n",
        "\n",
        "\n",
        "# Reshaping y.\n",
        "y = y.reshape(m,1)\n",
        "\n",
        "# Normalizing the inputs.\n",
        "x = normalize(X)\n",
        "\n",
        "# Empty list to store losses.\n",
        "losses = []\n",
        "\n",
        "# Training loop.\n",
        "for epoch in range(epochs):\n",
        "\n",
        "\n",
        "\n",
        "    # prediction.\n",
        "    y_hat = sigmoid(w, X,  b)\n",
        "\n",
        "    # Calculating loss and appending it in the list.\n",
        "    l = loss(y_hat, y)\n",
        "    losses.append(l)\n",
        "\n",
        "    # Getting the gradients of loss w.r.t parameters.\n",
        "    dw, db = gradients (y_hat, X, y)\n",
        "\n",
        "    # Updating the parameters.\n",
        "    w -= lr*dw\n",
        "    b -= lr*db\n",
        "\n",
        "    clear_output(wait = True)\n",
        "\n",
        "    plt.plot(losses)\n",
        "    plt.show()\n",
        "\n",
        "\n"
      ],
      "metadata": {
        "colab": {
          "base_uri": "https://localhost:8080/",
          "height": 265
        },
        "id": "5c68yf_2gdY3",
        "outputId": "c0ff9ad6-d013-4899-8b62-2fde1c4d6a1e"
      },
      "execution_count": null,
      "outputs": [
        {
          "output_type": "display_data",
          "data": {
            "text/plain": [
              "<Figure size 432x288 with 1 Axes>"
            ],
            "image/png": "[encoded data removed]"
          },
          "metadata": {
            "needs_background": "light"
          }
        }
      ]
    },
    {
      "cell_type": "code",
      "source": [
        "colors_trained = coloring(w, b, X)\n"
      ],
      "metadata": {
        "id": "13okHYx53xCN"
      },
      "execution_count": null,
      "outputs": []
    },
    {
      "cell_type": "code",
      "source": [
        "draw_3d (w, b, X, colors_trained)"
      ],
      "metadata": {
        "colab": {
          "base_uri": "https://localhost:8080/",
          "height": 542
        },
        "id": "pb0L3AtIlUwl",
        "outputId": "f5b94c9f-39e8-42ba-d4be-6e14d02c47fc"
      },
      "execution_count": null,
      "outputs": [
        {
          "output_type": "display_data",
          "data": {
            "text/html": [
              "<html>\n",
              "<head><meta charset=\"utf-8\" /></head>\n",
              "<body>\n",
              "    <div>            <script src=\"https://cdnjs.cloudflare.com/ajax/libs/mathjax/2.7.5/MathJax.js?config=TeX-AMS-MML_SVG\"></script><script type=\"text/javascript\">if (window.MathJax) {MathJax.Hub.Config({SVG: {font: \"STIX-Web\"}});}</script>                <script type=\"text/javascript\">window.PlotlyConfig = {MathJaxConfig: 'local'};</script>\n",
              "        <script src=\"https://cdn.plot.ly/plotly-2.8.3.min.js\"></script>                <div id=\"4cb5d004-5e51-44a5-a839-1e742ddaf1d7\" class=\"plotly-graph-div\" style=\"height:525px; width:100%;\"></div>            <script type=\"text/javascript\">                                    window.PLOTLYENV=window.PLOTLYENV || {};                                    if (document.getElementById(\"4cb5d004-5e51-44a5-a839-1e742ddaf1d7\")) {                    Plotly.newPlot(                        \"4cb5d004-5e51-44a5-a839-1e742ddaf1d7\",                        [{\"marker\":{\"color\":[\"rgb(160, 17, 53)\",\"rgb(160, 17, 53)\",\"rgb(160, 17, 53)\",\"rgb(150, 208, 252)\",\"rgb(160, 17, 53)\",\"rgb(150, 208, 252)\",\"rgb(160, 17, 53)\",\"rgb(150, 208, 252)\",\"rgb(150, 208, 252)\",\"rgb(150, 208, 252)\",\"rgb(160, 17, 53)\",\"rgb(150, 208, 252)\",\"rgb(150, 208, 252)\",\"rgb(150, 208, 252)\",\"rgb(160, 17, 53)\",\"rgb(150, 208, 252)\",\"rgb(150, 208, 252)\",\"rgb(150, 208, 252)\",\"rgb(150, 208, 252)\",\"rgb(160, 17, 53)\",\"rgb(160, 17, 53)\",\"rgb(150, 208, 252)\",\"rgb(160, 17, 53)\",\"rgb(160, 17, 53)\",\"rgb(160, 17, 53)\",\"rgb(160, 17, 53)\",\"rgb(150, 208, 252)\",\"rgb(160, 17, 53)\",\"rgb(160, 17, 53)\",\"rgb(150, 208, 252)\",\"rgb(160, 17, 53)\",\"rgb(160, 17, 53)\",\"rgb(150, 208, 252)\",\"rgb(150, 208, 252)\",\"rgb(150, 208, 252)\",\"rgb(150, 208, 252)\",\"rgb(150, 208, 252)\",\"rgb(150, 208, 252)\",\"rgb(150, 208, 252)\",\"rgb(150, 208, 252)\",\"rgb(150, 208, 252)\",\"rgb(160, 17, 53)\",\"rgb(150, 208, 252)\",\"rgb(160, 17, 53)\",\"rgb(150, 208, 252)\",\"rgb(160, 17, 53)\",\"rgb(160, 17, 53)\",\"rgb(160, 17, 53)\",\"rgb(160, 17, 53)\",\"rgb(150, 208, 252)\",\"rgb(150, 208, 252)\",\"rgb(160, 17, 53)\",\"rgb(160, 17, 53)\",\"rgb(150, 208, 252)\",\"rgb(160, 17, 53)\",\"rgb(150, 208, 252)\",\"rgb(160, 17, 53)\",\"rgb(160, 17, 53)\",\"rgb(150, 208, 252)\",\"rgb(150, 208, 252)\",\"rgb(160, 17, 53)\",\"rgb(150, 208, 252)\",\"rgb(150, 208, 252)\",\"rgb(160, 17, 53)\",\"rgb(160, 17, 53)\",\"rgb(160, 17, 53)\",\"rgb(150, 208, 252)\",\"rgb(150, 208, 252)\",\"rgb(160, 17, 53)\",\"rgb(150, 208, 252)\",\"rgb(150, 208, 252)\",\"rgb(150, 208, 252)\",\"rgb(150, 208, 252)\",\"rgb(150, 208, 252)\",\"rgb(160, 17, 53)\",\"rgb(160, 17, 53)\",\"rgb(160, 17, 53)\",\"rgb(160, 17, 53)\",\"rgb(160, 17, 53)\",\"rgb(150, 208, 252)\",\"rgb(150, 208, 252)\",\"rgb(150, 208, 252)\",\"rgb(160, 17, 53)\",\"rgb(150, 208, 252)\",\"rgb(150, 208, 252)\",\"rgb(160, 17, 53)\",\"rgb(150, 208, 252)\",\"rgb(160, 17, 53)\",\"rgb(150, 208, 252)\",\"rgb(160, 17, 53)\",\"rgb(160, 17, 53)\",\"rgb(160, 17, 53)\",\"rgb(160, 17, 53)\",\"rgb(160, 17, 53)\",\"rgb(150, 208, 252)\",\"rgb(160, 17, 53)\",\"rgb(150, 208, 252)\",\"rgb(160, 17, 53)\",\"rgb(160, 17, 53)\",\"rgb(160, 17, 53)\"]},\"mode\":\"markers\",\"showlegend\":false,\"x\":[1.5065074944133876,2.024299582044444,1.2877569826258632,2.1156707630897955,0.9860857469825982,2.9198912641957877,0.8554065082772941,0.5381957769353087,1.363172576405757,0.29145998760618186,0.3908473056392493,-0.29421491993923854,-1.004526389677432,0.5411165268248577,0.5436697486844528,3.359414853410437,-0.7500125237851818,1.7373078036934886,1.9263584960720843,1.8470844668636976,-1.3257394922864898,1.9529091150302078,1.4806173396912303,-0.5687606678645771,-1.1723213650755957,2.9621565212972563,0.6739673279711595,1.8078425680305288,1.7420266363394838,2.3026559752335256,1.5924128035939429,0.8583808417104413,0.14983153988748066,0.7082667075951147,1.3526956097021245,1.3722767912081404,0.6647175464191224,0.9867700992673155,1.3837319147876055,1.2787419762862764,1.2893377801973964,0.4598436151935028,0.303809630770544,1.216391312880958,0.9080284732218639,0.20561381215354568,1.5874818244727251,0.2081138821877363,-1.03861614590857,0.301937417889119,2.093286366642348,2.4406782553446726,0.15963275073224814,0.7890862285206615,1.0396168232587164,-0.6376277690114565,0.30034759097257413,0.761713959259616,2.4645222723420948,-0.7300001120785176,0.2602266343857078,1.6298886739868557,1.3868685804848675,0.7261173287156888,-0.6852747373971451,-0.2585187718839759,0.9480878502078401,1.415661779811032,0.4043437765757428,1.8770965655006822,1.1312175042434114,1.8823147368218804,1.3782594419911967,1.028215474342634,2.0856934522902386,0.9609256541382686,0.4166365414771491,-0.40886319179737973,0.21748545594108648,0.5730931315733154,3.2460247025341027,-0.6539282684195495,0.8806432460764962,1.6527033734929948,0.8212599854556608,-0.20671967949051373,1.309944405920762,0.5998727805362085,2.89921210502688,1.296710005578067,0.4312445632019938,3.0608996092186267,0.6582844823620104,-0.13657918184652784,0.7963452427341442,1.3914054372871254,2.2065607592742156,0.43406768529184264,1.5377951860355288,2.049995224721057],\"y\":[-2.57215737936886,-2.606835521585329,-2.179312595608925,3.0689615070947376,-1.837790184920377,3.8901683466886428,-2.4828490137146826,3.050991967398464,3.792982189879517,3.4329901782665084,-2.1232180516724135,5.273184035606401,3.955875178122237,6.153051055927731,-2.9018553066399244,5.248266814438804,4.481213469702142,4.425462343941218,4.152430119150692,-1.4393527718367145,-0.9016725621947179,4.660153724622792,-1.9263530424847806,-1.0058391367691468,-1.1006452824438044,-1.637444670454378,3.255234362381297,-1.2096857980306033,-2.5271193606114704,3.6092194677170246,-2.25250139168549,-2.694997510963103,4.205334803022958,5.106243723244785,3.2043865368641953,3.210725818717884,4.359952669678135,6.089657821354225,3.5338712530030736,3.6694652337674265,3.449691588146665,-2.0249364639142104,3.9442341659078486,-0.6700734013192142,6.017130049097757,0.009473041023892348,-0.22505778365690698,-1.9824365167392486,-1.338125416428077,4.335617885722741,2.987879916936869,-2.819760922945354,-1.2469794141786672,5.836566541806848,-1.8462324303670006,4.091047047234421,-1.7648257429579124,-0.3900126506192101,6.199676503478973,6.25456272268018,-1.924175827550703,5.168223526307896,4.447830898609268,-0.755113462008238,-0.9165246341147002,-0.745705911511912,4.7321191979788075,4.470460822820919,-2.0697654892386232,4.76944976717885,4.681949847050563,3.4425616423936876,6.186938024504644,5.032877889625927,-1.2099614012970559,-1.3703974752565298,0.7770126844620364,0.13122666639628267,-0.8605209311899911,5.526232397830817,2.8494216528496255,4.7665695829741646,-1.1477522776668236,4.8803781440633305,4.91786669779447,-1.474738933960931,5.797866400605996,-1.8359169822690276,5.784302118882814,-4.299496769648556,-2.4713502691401557,-0.19037606378551342,-0.42724441733479224,-0.8453094949402784,3.2330347059378477,-1.643007952256272,5.506167176232801,-1.045422539448443,-3.1438600575327396,-0.4472854211850843],\"z\":[4.129027551015824,1.7704136089220204,2.5269288861455217,2.457609162610427,3.0152824276019063,1.3078127099921202,2.571900485633736,2.832757877264788,0.8746353373104658,1.4764178566684625,2.8653149650635763,0.882144116318718,2.211616490536858,2.7275622784453133,2.274263858500232,1.1424452959887192,1.6534865852246161,2.4991307541783034,1.95204866963932,1.6924467425029548,1.3158246057263752,2.761840689624826,3.2879381491806416,2.3420942915200564,3.594790296363368,3.9380549730489225,0.6352495842539028,3.704210223442099,1.3731111645555112,1.905632981105207,1.5345183059380674,3.4411589218648766,1.3917892350707706,3.002519489206626,2.3535056956389337,0.5640099287272724,0.8901176806495215,2.1821796141364977,2.5945167127246953,1.69252635544574,-0.49772229440120075,4.847414315150108,1.2421212393884238,2.266856668032976,1.310512699384438,3.2042259502254025,2.2897947016915436,2.9353614203581797,3.4417732851673284,1.4194214430539969,1.593682916618169,3.184933130682306,2.819731871690165,3.524626291333163,3.6094210124033093,1.1598009602392023,1.4938213523505912,3.0156072290479785,3.2340470925925286,1.5456153396812244,2.785001683746167,1.313102501026436,3.5095410283958532,3.741386415296854,1.7290230035490939,4.412366805824492,2.121784743816046,2.690298958324984,3.3339323075945484,0.5190238351556542,1.1674817738027652,3.9653324745319116,0.7075084602904316,2.1842504321902885,3.838741085113942,3.1500632975333986,1.8578664386115755,2.799718216204553,2.4571624739445697,2.263542499509738,2.101026038734324,1.1479691570496358,5.177191212023975,1.846968765854883,2.977474192999405,2.1783192649418095,1.850109257667077,1.241878455003146,3.922826481859448,4.873794569583817,2.507832568130574,2.548700423390679,3.5731459920557205,2.1144725971592817,3.109719248364015,0.8871977935516284,1.6679407040249257,1.377085246888498,2.8935561369341873,2.10451800212892],\"type\":\"scatter3d\"},{\"colorscale\":[[0,\"blue\"]],\"opacity\":0.5,\"showscale\":false,\"surfacecolor\":[[0.0,0.0,0.0,0.0,0.0,0.0,0.0,0.0,0.0,0.0],[0.0,0.0,0.0,0.0,0.0,0.0,0.0,0.0,0.0,0.0],[0.0,0.0,0.0,0.0,0.0,0.0,0.0,0.0,0.0,0.0],[0.0,0.0,0.0,0.0,0.0,0.0,0.0,0.0,0.0,0.0],[0.0,0.0,0.0,0.0,0.0,0.0,0.0,0.0,0.0,0.0],[0.0,0.0,0.0,0.0,0.0,0.0,0.0,0.0,0.0,0.0],[0.0,0.0,0.0,0.0,0.0,0.0,0.0,0.0,0.0,0.0],[0.0,0.0,0.0,0.0,0.0,0.0,0.0,0.0,0.0,0.0],[0.0,0.0,0.0,0.0,0.0,0.0,0.0,0.0,0.0,0.0],[0.0,0.0,0.0,0.0,0.0,0.0,0.0,0.0,0.0,0.0]],\"x\":[[-2.0,-1.5555555555555556,-1.1111111111111112,-0.6666666666666667,-0.22222222222222232,0.22222222222222232,0.6666666666666665,1.1111111111111107,1.5555555555555554,2.0],[-2.0,-1.5555555555555556,-1.1111111111111112,-0.6666666666666667,-0.22222222222222232,0.22222222222222232,0.6666666666666665,1.1111111111111107,1.5555555555555554,2.0],[-2.0,-1.5555555555555556,-1.1111111111111112,-0.6666666666666667,-0.22222222222222232,0.22222222222222232,0.6666666666666665,1.1111111111111107,1.5555555555555554,2.0],[-2.0,-1.5555555555555556,-1.1111111111111112,-0.6666666666666667,-0.22222222222222232,0.22222222222222232,0.6666666666666665,1.1111111111111107,1.5555555555555554,2.0],[-2.0,-1.5555555555555556,-1.1111111111111112,-0.6666666666666667,-0.22222222222222232,0.22222222222222232,0.6666666666666665,1.1111111111111107,1.5555555555555554,2.0],[-2.0,-1.5555555555555556,-1.1111111111111112,-0.6666666666666667,-0.22222222222222232,0.22222222222222232,0.6666666666666665,1.1111111111111107,1.5555555555555554,2.0],[-2.0,-1.5555555555555556,-1.1111111111111112,-0.6666666666666667,-0.22222222222222232,0.22222222222222232,0.6666666666666665,1.1111111111111107,1.5555555555555554,2.0],[-2.0,-1.5555555555555556,-1.1111111111111112,-0.6666666666666667,-0.22222222222222232,0.22222222222222232,0.6666666666666665,1.1111111111111107,1.5555555555555554,2.0],[-2.0,-1.5555555555555556,-1.1111111111111112,-0.6666666666666667,-0.22222222222222232,0.22222222222222232,0.6666666666666665,1.1111111111111107,1.5555555555555554,2.0],[-2.0,-1.5555555555555556,-1.1111111111111112,-0.6666666666666667,-0.22222222222222232,0.22222222222222232,0.6666666666666665,1.1111111111111107,1.5555555555555554,2.0]],\"y\":[[-2.0,-2.0,-2.0,-2.0,-2.0,-2.0,-2.0,-2.0,-2.0,-2.0],[-1.5555555555555556,-1.5555555555555556,-1.5555555555555556,-1.5555555555555556,-1.5555555555555556,-1.5555555555555556,-1.5555555555555556,-1.5555555555555556,-1.5555555555555556,-1.5555555555555556],[-1.1111111111111112,-1.1111111111111112,-1.1111111111111112,-1.1111111111111112,-1.1111111111111112,-1.1111111111111112,-1.1111111111111112,-1.1111111111111112,-1.1111111111111112,-1.1111111111111112],[-0.6666666666666667,-0.6666666666666667,-0.6666666666666667,-0.6666666666666667,-0.6666666666666667,-0.6666666666666667,-0.6666666666666667,-0.6666666666666667,-0.6666666666666667,-0.6666666666666667],[-0.22222222222222232,-0.22222222222222232,-0.22222222222222232,-0.22222222222222232,-0.22222222222222232,-0.22222222222222232,-0.22222222222222232,-0.22222222222222232,-0.22222222222222232,-0.22222222222222232],[0.22222222222222232,0.22222222222222232,0.22222222222222232,0.22222222222222232,0.22222222222222232,0.22222222222222232,0.22222222222222232,0.22222222222222232,0.22222222222222232,0.22222222222222232],[0.6666666666666665,0.6666666666666665,0.6666666666666665,0.6666666666666665,0.6666666666666665,0.6666666666666665,0.6666666666666665,0.6666666666666665,0.6666666666666665,0.6666666666666665],[1.1111111111111107,1.1111111111111107,1.1111111111111107,1.1111111111111107,1.1111111111111107,1.1111111111111107,1.1111111111111107,1.1111111111111107,1.1111111111111107,1.1111111111111107],[1.5555555555555554,1.5555555555555554,1.5555555555555554,1.5555555555555554,1.5555555555555554,1.5555555555555554,1.5555555555555554,1.5555555555555554,1.5555555555555554,1.5555555555555554],[2.0,2.0,2.0,2.0,2.0,2.0,2.0,2.0,2.0,2.0]],\"z\":[[-3.4290316259757536,-3.817538455082767,-4.20604528418978,-4.594552113296793,-4.983058942403806,-5.371565771510818,-5.760072600617831,-6.148579429724845,-6.537086258831857,-6.9255930879388705],[-2.255490010199933,-2.6439968393069453,-3.0325036684139586,-3.4210104975209714,-3.8095173266279843,-4.1980241557349975,-4.58653098484201,-4.975037813949022,-5.363544643056036,-5.752051472163049],[-1.0819483944241108,-1.4704552235311237,-1.8589620526381367,-2.24746888174515,-2.635975710852162,-3.024482539959176,-3.4129893690661883,-3.8014961981732007,-4.1900030272802145,-4.578509856387227],[0.09159322135171057,-0.29691360775530223,-0.6854204368623152,-1.0739272659693284,-1.462434095076341,-1.850940924183354,-2.239447753290367,-2.6279545823973796,-3.0164614115043924,-3.404968240611406],[1.2651348371275322,0.8766280080205194,0.4881211789135064,0.0996143498064935,-0.28889247930051937,-0.6773993084075325,-1.065906137514545,-1.454412966621558,-1.8429197957285712,-2.231426624835584],[2.4386764529033544,2.0501696237963416,1.6616627946893283,1.2731559655823155,0.8846491364753027,0.49614230736828957,0.10763547826127678,-0.2808713508457359,-0.6693781799527491,-1.057885009059762],[3.612218068679175,3.2237112395721628,2.835204410465149,2.4466975813581366,2.058190752251124,1.6696839231441105,1.281177094037098,0.8926702649300851,0.504163435823072,0.1156566067160589],[4.785759684454996,4.3972528553479835,4.008746026240971,3.6202391971339574,3.231732368026945,2.8432255389199317,2.454718709812919,2.0662118807059064,1.6777050515988932,1.28919822249188],[5.959301300230818,5.570794471123805,5.182287642016792,4.793780812909779,4.405273983802767,4.016767154695754,3.628260325588741,3.239753496481728,2.8512466673747148,2.462739838267702],[7.13284291600664,6.744336086899628,6.355829257792615,5.967322428685602,5.578815599578589,5.190308770471576,4.801801941364563,4.41329511225755,4.024788283150538,3.636281454043524]],\"type\":\"surface\"}],                        {\"template\":{\"data\":{\"bar\":[{\"error_x\":{\"color\":\"#2a3f5f\"},\"error_y\":{\"color\":\"#2a3f5f\"},\"marker\":{\"line\":{\"color\":\"#E5ECF6\",\"width\":0.5},\"pattern\":{\"fillmode\":\"overlay\",\"size\":10,\"solidity\":0.2}},\"type\":\"bar\"}],\"barpolar\":[{\"marker\":{\"line\":{\"color\":\"#E5ECF6\",\"width\":0.5},\"pattern\":{\"fillmode\":\"overlay\",\"size\":10,\"solidity\":0.2}},\"type\":\"barpolar\"}],\"carpet\":[{\"aaxis\":{\"endlinecolor\":\"#2a3f5f\",\"gridcolor\":\"white\",\"linecolor\":\"white\",\"minorgridcolor\":\"white\",\"startlinecolor\":\"#2a3f5f\"},\"baxis\":{\"endlinecolor\":\"#2a3f5f\",\"gridcolor\":\"white\",\"linecolor\":\"white\",\"minorgridcolor\":\"white\",\"startlinecolor\":\"#2a3f5f\"},\"type\":\"carpet\"}],\"choropleth\":[{\"colorbar\":{\"outlinewidth\":0,\"ticks\":\"\"},\"type\":\"choropleth\"}],\"contour\":[{\"colorbar\":{\"outlinewidth\":0,\"ticks\":\"\"},\"colorscale\":[[0.0,\"#0d0887\"],[0.1111111111111111,\"#46039f\"],[0.2222222222222222,\"#7201a8\"],[0.3333333333333333,\"#9c179e\"],[0.4444444444444444,\"#bd3786\"],[0.5555555555555556,\"#d8576b\"],[0.6666666666666666,\"#ed7953\"],[0.7777777777777778,\"#fb9f3a\"],[0.8888888888888888,\"#fdca26\"],[1.0,\"#f0f921\"]],\"type\":\"contour\"}],\"contourcarpet\":[{\"colorbar\":{\"outlinewidth\":0,\"ticks\":\"\"},\"type\":\"contourcarpet\"}],\"heatmap\":[{\"colorbar\":{\"outlinewidth\":0,\"ticks\":\"\"},\"colorscale\":[[0.0,\"#0d0887\"],[0.1111111111111111,\"#46039f\"],[0.2222222222222222,\"#7201a8\"],[0.3333333333333333,\"#9c179e\"],[0.4444444444444444,\"#bd3786\"],[0.5555555555555556,\"#d8576b\"],[0.6666666666666666,\"#ed7953\"],[0.7777777777777778,\"#fb9f3a\"],[0.8888888888888888,\"#fdca26\"],[1.0,\"#f0f921\"]],\"type\":\"heatmap\"}],\"heatmapgl\":[{\"colorbar\":{\"outlinewidth\":0,\"ticks\":\"\"},\"colorscale\":[[0.0,\"#0d0887\"],[0.1111111111111111,\"#46039f\"],[0.2222222222222222,\"#7201a8\"],[0.3333333333333333,\"#9c179e\"],[0.4444444444444444,\"#bd3786\"],[0.5555555555555556,\"#d8576b\"],[0.6666666666666666,\"#ed7953\"],[0.7777777777777778,\"#fb9f3a\"],[0.8888888888888888,\"#fdca26\"],[1.0,\"#f0f921\"]],\"type\":\"heatmapgl\"}],\"histogram\":[{\"marker\":{\"pattern\":{\"fillmode\":\"overlay\",\"size\":10,\"solidity\":0.2}},\"type\":\"histogram\"}],\"histogram2d\":[{\"colorbar\":{\"outlinewidth\":0,\"ticks\":\"\"},\"colorscale\":[[0.0,\"#0d0887\"],[0.1111111111111111,\"#46039f\"],[0.2222222222222222,\"#7201a8\"],[0.3333333333333333,\"#9c179e\"],[0.4444444444444444,\"#bd3786\"],[0.5555555555555556,\"#d8576b\"],[0.6666666666666666,\"#ed7953\"],[0.7777777777777778,\"#fb9f3a\"],[0.8888888888888888,\"#fdca26\"],[1.0,\"#f0f921\"]],\"type\":\"histogram2d\"}],\"histogram2dcontour\":[{\"colorbar\":{\"outlinewidth\":0,\"ticks\":\"\"},\"colorscale\":[[0.0,\"#0d0887\"],[0.1111111111111111,\"#46039f\"],[0.2222222222222222,\"#7201a8\"],[0.3333333333333333,\"#9c179e\"],[0.4444444444444444,\"#bd3786\"],[0.5555555555555556,\"#d8576b\"],[0.6666666666666666,\"#ed7953\"],[0.7777777777777778,\"#fb9f3a\"],[0.8888888888888888,\"#fdca26\"],[1.0,\"#f0f921\"]],\"type\":\"histogram2dcontour\"}],\"mesh3d\":[{\"colorbar\":{\"outlinewidth\":0,\"ticks\":\"\"},\"type\":\"mesh3d\"}],\"parcoords\":[{\"line\":{\"colorbar\":{\"outlinewidth\":0,\"ticks\":\"\"}},\"type\":\"parcoords\"}],\"pie\":[{\"automargin\":true,\"type\":\"pie\"}],\"scatter\":[{\"marker\":{\"colorbar\":{\"outlinewidth\":0,\"ticks\":\"\"}},\"type\":\"scatter\"}],\"scatter3d\":[{\"line\":{\"colorbar\":{\"outlinewidth\":0,\"ticks\":\"\"}},\"marker\":{\"colorbar\":{\"outlinewidth\":0,\"ticks\":\"\"}},\"type\":\"scatter3d\"}],\"scattercarpet\":[{\"marker\":{\"colorbar\":{\"outlinewidth\":0,\"ticks\":\"\"}},\"type\":\"scattercarpet\"}],\"scattergeo\":[{\"marker\":{\"colorbar\":{\"outlinewidth\":0,\"ticks\":\"\"}},\"type\":\"scattergeo\"}],\"scattergl\":[{\"marker\":{\"colorbar\":{\"outlinewidth\":0,\"ticks\":\"\"}},\"type\":\"scattergl\"}],\"scattermapbox\":[{\"marker\":{\"colorbar\":{\"outlinewidth\":0,\"ticks\":\"\"}},\"type\":\"scattermapbox\"}],\"scatterpolar\":[{\"marker\":{\"colorbar\":{\"outlinewidth\":0,\"ticks\":\"\"}},\"type\":\"scatterpolar\"}],\"scatterpolargl\":[{\"marker\":{\"colorbar\":{\"outlinewidth\":0,\"ticks\":\"\"}},\"type\":\"scatterpolargl\"}],\"scatterternary\":[{\"marker\":{\"colorbar\":{\"outlinewidth\":0,\"ticks\":\"\"}},\"type\":\"scatterternary\"}],\"surface\":[{\"colorbar\":{\"outlinewidth\":0,\"ticks\":\"\"},\"colorscale\":[[0.0,\"#0d0887\"],[0.1111111111111111,\"#46039f\"],[0.2222222222222222,\"#7201a8\"],[0.3333333333333333,\"#9c179e\"],[0.4444444444444444,\"#bd3786\"],[0.5555555555555556,\"#d8576b\"],[0.6666666666666666,\"#ed7953\"],[0.7777777777777778,\"#fb9f3a\"],[0.8888888888888888,\"#fdca26\"],[1.0,\"#f0f921\"]],\"type\":\"surface\"}],\"table\":[{\"cells\":{\"fill\":{\"color\":\"#EBF0F8\"},\"line\":{\"color\":\"white\"}},\"header\":{\"fill\":{\"color\":\"#C8D4E3\"},\"line\":{\"color\":\"white\"}},\"type\":\"table\"}]},\"layout\":{\"annotationdefaults\":{\"arrowcolor\":\"#2a3f5f\",\"arrowhead\":0,\"arrowwidth\":1},\"autotypenumbers\":\"strict\",\"coloraxis\":{\"colorbar\":{\"outlinewidth\":0,\"ticks\":\"\"}},\"colorscale\":{\"diverging\":[[0,\"#8e0152\"],[0.1,\"#c51b7d\"],[0.2,\"#de77ae\"],[0.3,\"#f1b6da\"],[0.4,\"#fde0ef\"],[0.5,\"#f7f7f7\"],[0.6,\"#e6f5d0\"],[0.7,\"#b8e186\"],[0.8,\"#7fbc41\"],[0.9,\"#4d9221\"],[1,\"#276419\"]],\"sequential\":[[0.0,\"#0d0887\"],[0.1111111111111111,\"#46039f\"],[0.2222222222222222,\"#7201a8\"],[0.3333333333333333,\"#9c179e\"],[0.4444444444444444,\"#bd3786\"],[0.5555555555555556,\"#d8576b\"],[0.6666666666666666,\"#ed7953\"],[0.7777777777777778,\"#fb9f3a\"],[0.8888888888888888,\"#fdca26\"],[1.0,\"#f0f921\"]],\"sequentialminus\":[[0.0,\"#0d0887\"],[0.1111111111111111,\"#46039f\"],[0.2222222222222222,\"#7201a8\"],[0.3333333333333333,\"#9c179e\"],[0.4444444444444444,\"#bd3786\"],[0.5555555555555556,\"#d8576b\"],[0.6666666666666666,\"#ed7953\"],[0.7777777777777778,\"#fb9f3a\"],[0.8888888888888888,\"#fdca26\"],[1.0,\"#f0f921\"]]},\"colorway\":[\"#636efa\",\"#EF553B\",\"#00cc96\",\"#ab63fa\",\"#FFA15A\",\"#19d3f3\",\"#FF6692\",\"#B6E880\",\"#FF97FF\",\"#FECB52\"],\"font\":{\"color\":\"#2a3f5f\"},\"geo\":{\"bgcolor\":\"white\",\"lakecolor\":\"white\",\"landcolor\":\"#E5ECF6\",\"showlakes\":true,\"showland\":true,\"subunitcolor\":\"white\"},\"hoverlabel\":{\"align\":\"left\"},\"hovermode\":\"closest\",\"mapbox\":{\"style\":\"light\"},\"paper_bgcolor\":\"white\",\"plot_bgcolor\":\"#E5ECF6\",\"polar\":{\"angularaxis\":{\"gridcolor\":\"white\",\"linecolor\":\"white\",\"ticks\":\"\"},\"bgcolor\":\"#E5ECF6\",\"radialaxis\":{\"gridcolor\":\"white\",\"linecolor\":\"white\",\"ticks\":\"\"}},\"scene\":{\"xaxis\":{\"backgroundcolor\":\"#E5ECF6\",\"gridcolor\":\"white\",\"gridwidth\":2,\"linecolor\":\"white\",\"showbackground\":true,\"ticks\":\"\",\"zerolinecolor\":\"white\"},\"yaxis\":{\"backgroundcolor\":\"#E5ECF6\",\"gridcolor\":\"white\",\"gridwidth\":2,\"linecolor\":\"white\",\"showbackground\":true,\"ticks\":\"\",\"zerolinecolor\":\"white\"},\"zaxis\":{\"backgroundcolor\":\"#E5ECF6\",\"gridcolor\":\"white\",\"gridwidth\":2,\"linecolor\":\"white\",\"showbackground\":true,\"ticks\":\"\",\"zerolinecolor\":\"white\"}},\"shapedefaults\":{\"line\":{\"color\":\"#2a3f5f\"}},\"ternary\":{\"aaxis\":{\"gridcolor\":\"white\",\"linecolor\":\"white\",\"ticks\":\"\"},\"baxis\":{\"gridcolor\":\"white\",\"linecolor\":\"white\",\"ticks\":\"\"},\"bgcolor\":\"#E5ECF6\",\"caxis\":{\"gridcolor\":\"white\",\"linecolor\":\"white\",\"ticks\":\"\"}},\"title\":{\"x\":0.05},\"xaxis\":{\"automargin\":true,\"gridcolor\":\"white\",\"linecolor\":\"white\",\"ticks\":\"\",\"title\":{\"standoff\":15},\"zerolinecolor\":\"white\",\"zerolinewidth\":2},\"yaxis\":{\"automargin\":true,\"gridcolor\":\"white\",\"linecolor\":\"white\",\"ticks\":\"\",\"title\":{\"standoff\":15},\"zerolinecolor\":\"white\",\"zerolinewidth\":2}}},\"scene\":{\"zaxis\":{\"nticks\":4,\"range\":[-2,5.9]}}},                        {\"responsive\": true}                    ).then(function(){\n",
              "                            \n",
              "var gd = document.getElementById('4cb5d004-5e51-44a5-a839-1e742ddaf1d7');\n",
              "var x = new MutationObserver(function (mutations, observer) {{\n",
              "        var display = window.getComputedStyle(gd).display;\n",
              "        if (!display || display === 'none') {{\n",
              "            console.log([gd, 'removed!']);\n",
              "            Plotly.purge(gd);\n",
              "            observer.disconnect();\n",
              "        }}\n",
              "}});\n",
              "\n",
              "// Listen for the removal of the full notebook cells\n",
              "var notebookContainer = gd.closest('#notebook-container');\n",
              "if (notebookContainer) {{\n",
              "    x.observe(notebookContainer, {childList: true});\n",
              "}}\n",
              "\n",
              "// Listen for the clearing of the current output cell\n",
              "var outputEl = gd.closest('.output');\n",
              "if (outputEl) {{\n",
              "    x.observe(outputEl, {childList: true});\n",
              "}}\n",
              "\n",
              "                        })                };                            </script>        </div>\n",
              "</body>\n",
              "</html>"
            ]
          },
          "metadata": {}
        }
      ]
    },
    {
      "cell_type": "code",
      "source": [
        "w"
      ],
      "metadata": {
        "colab": {
          "base_uri": "https://localhost:8080/"
        },
        "id": "kOsfMbvsl2hR",
        "outputId": "45ee2c26-641b-4d33-9dc9-cd1b7381e708"
      },
      "execution_count": null,
      "outputs": [
        {
          "output_type": "execute_result",
          "data": {
            "text/plain": [
              "array([[ 0.41888549],\n",
              "       [-1.2653048 ],\n",
              "       [ 0.47919706]])"
            ]
          },
          "metadata": {},
          "execution_count": 84
        }
      ]
    },
    {
      "cell_type": "code",
      "source": [
        "b"
      ],
      "metadata": {
        "colab": {
          "base_uri": "https://localhost:8080/"
        },
        "id": "FcNXWMIMl3p9",
        "outputId": "6c7e140e-2509-4b80-ebd1-5e7ee148aa68"
      },
      "execution_count": null,
      "outputs": [
        {
          "output_type": "execute_result",
          "data": {
            "text/plain": [
              "-0.04965675368701184"
            ]
          },
          "metadata": {},
          "execution_count": 85
        }
      ]
    },
    {
      "cell_type": "code",
      "source": [
        "import numpy as np\n",
        "from sklearn.svm import SVC\n",
        "svc = SVC(kernel='linear')\n",
        "svc.fit(X,y)"
      ],
      "metadata": {
        "id": "AA3GLR2bhphr"
      },
      "execution_count": null,
      "outputs": []
    },
    {
      "cell_type": "code",
      "source": [
        "svc = SVC(kernel='linear')\n",
        "svc.fit(X,y)\n"
      ],
      "metadata": {
        "colab": {
          "base_uri": "https://localhost:8080/"
        },
        "id": "ylogJRC3lDOQ",
        "outputId": "6d462084-ca4f-4d8f-c326-3ff577c9f40a"
      },
      "execution_count": null,
      "outputs": [
        {
          "output_type": "stream",
          "name": "stderr",
          "text": [
            "/usr/local/lib/python3.7/dist-packages/sklearn/utils/validation.py:993: DataConversionWarning:\n",
            "\n",
            "A column-vector y was passed when a 1d array was expected. Please change the shape of y to (n_samples, ), for example using ravel().\n",
            "\n"
          ]
        },
        {
          "output_type": "execute_result",
          "data": {
            "text/plain": [
              "SVC(kernel='linear')"
            ]
          },
          "metadata": {},
          "execution_count": 87
        }
      ]
    },
    {
      "cell_type": "code",
      "source": [
        "svc.coef_[0]"
      ],
      "metadata": {
        "colab": {
          "base_uri": "https://localhost:8080/"
        },
        "id": "O85jHUpAmm1T",
        "outputId": "77004403-5f2c-4aac-87e8-fa38e2d140ff"
      },
      "execution_count": null,
      "outputs": [
        {
          "output_type": "execute_result",
          "data": {
            "text/plain": [
              "array([-0.10128499, -0.83799293, -0.08422382])"
            ]
          },
          "metadata": {},
          "execution_count": 88
        }
      ]
    },
    {
      "cell_type": "code",
      "source": [
        "svc.intercept_[0]"
      ],
      "metadata": {
        "colab": {
          "base_uri": "https://localhost:8080/"
        },
        "id": "mdP5ty4phDq7",
        "outputId": "cb9e8461-3df0-40c6-cd81-ba86664d803f"
      },
      "execution_count": null,
      "outputs": [
        {
          "output_type": "execute_result",
          "data": {
            "text/plain": [
              "1.8498273786120119"
            ]
          },
          "metadata": {},
          "execution_count": 89
        }
      ]
    },
    {
      "cell_type": "code",
      "source": [
        "colors_trained_svc = coloring(svc.coef_[0], svc.intercept_[0], X)"
      ],
      "metadata": {
        "id": "msGlMCslht8G"
      },
      "execution_count": null,
      "outputs": []
    },
    {
      "cell_type": "code",
      "source": [
        "draw_3d (svc.coef_[0], svc.intercept_[0], X, colors_trained)"
      ],
      "metadata": {
        "colab": {
          "base_uri": "https://localhost:8080/",
          "height": 542
        },
        "id": "TX5WqM87hzwI",
        "outputId": "395f0747-4fdf-440d-8748-ac8a1379211f"
      },
      "execution_count": null,
      "outputs": [
        {
          "output_type": "display_data",
          "data": {
            "text/html": [
              "<html>\n",
              "<head><meta charset=\"utf-8\" /></head>\n",
              "<body>\n",
              "    <div>            <script src=\"https://cdnjs.cloudflare.com/ajax/libs/mathjax/2.7.5/MathJax.js?config=TeX-AMS-MML_SVG\"></script><script type=\"text/javascript\">if (window.MathJax) {MathJax.Hub.Config({SVG: {font: \"STIX-Web\"}});}</script>                <script type=\"text/javascript\">window.PlotlyConfig = {MathJaxConfig: 'local'};</script>\n",
              "        <script src=\"https://cdn.plot.ly/plotly-2.8.3.min.js\"></script>                <div id=\"9b433d08-f40f-49e2-b9a7-9eca5834c2dd\" class=\"plotly-graph-div\" style=\"height:525px; width:100%;\"></div>            <script type=\"text/javascript\">                                    window.PLOTLYENV=window.PLOTLYENV || {};                                    if (document.getElementById(\"9b433d08-f40f-49e2-b9a7-9eca5834c2dd\")) {                    Plotly.newPlot(                        \"9b433d08-f40f-49e2-b9a7-9eca5834c2dd\",                        [{\"marker\":{\"color\":[\"rgb(160, 17, 53)\",\"rgb(160, 17, 53)\",\"rgb(160, 17, 53)\",\"rgb(150, 208, 252)\",\"rgb(160, 17, 53)\",\"rgb(150, 208, 252)\",\"rgb(160, 17, 53)\",\"rgb(150, 208, 252)\",\"rgb(150, 208, 252)\",\"rgb(150, 208, 252)\",\"rgb(160, 17, 53)\",\"rgb(150, 208, 252)\",\"rgb(150, 208, 252)\",\"rgb(150, 208, 252)\",\"rgb(160, 17, 53)\",\"rgb(150, 208, 252)\",\"rgb(150, 208, 252)\",\"rgb(150, 208, 252)\",\"rgb(150, 208, 252)\",\"rgb(160, 17, 53)\",\"rgb(160, 17, 53)\",\"rgb(150, 208, 252)\",\"rgb(160, 17, 53)\",\"rgb(160, 17, 53)\",\"rgb(160, 17, 53)\",\"rgb(160, 17, 53)\",\"rgb(150, 208, 252)\",\"rgb(160, 17, 53)\",\"rgb(160, 17, 53)\",\"rgb(150, 208, 252)\",\"rgb(160, 17, 53)\",\"rgb(160, 17, 53)\",\"rgb(150, 208, 252)\",\"rgb(150, 208, 252)\",\"rgb(150, 208, 252)\",\"rgb(150, 208, 252)\",\"rgb(150, 208, 252)\",\"rgb(150, 208, 252)\",\"rgb(150, 208, 252)\",\"rgb(150, 208, 252)\",\"rgb(150, 208, 252)\",\"rgb(160, 17, 53)\",\"rgb(150, 208, 252)\",\"rgb(160, 17, 53)\",\"rgb(150, 208, 252)\",\"rgb(160, 17, 53)\",\"rgb(160, 17, 53)\",\"rgb(160, 17, 53)\",\"rgb(160, 17, 53)\",\"rgb(150, 208, 252)\",\"rgb(150, 208, 252)\",\"rgb(160, 17, 53)\",\"rgb(160, 17, 53)\",\"rgb(150, 208, 252)\",\"rgb(160, 17, 53)\",\"rgb(150, 208, 252)\",\"rgb(160, 17, 53)\",\"rgb(160, 17, 53)\",\"rgb(150, 208, 252)\",\"rgb(150, 208, 252)\",\"rgb(160, 17, 53)\",\"rgb(150, 208, 252)\",\"rgb(150, 208, 252)\",\"rgb(160, 17, 53)\",\"rgb(160, 17, 53)\",\"rgb(160, 17, 53)\",\"rgb(150, 208, 252)\",\"rgb(150, 208, 252)\",\"rgb(160, 17, 53)\",\"rgb(150, 208, 252)\",\"rgb(150, 208, 252)\",\"rgb(150, 208, 252)\",\"rgb(150, 208, 252)\",\"rgb(150, 208, 252)\",\"rgb(160, 17, 53)\",\"rgb(160, 17, 53)\",\"rgb(160, 17, 53)\",\"rgb(160, 17, 53)\",\"rgb(160, 17, 53)\",\"rgb(150, 208, 252)\",\"rgb(150, 208, 252)\",\"rgb(150, 208, 252)\",\"rgb(160, 17, 53)\",\"rgb(150, 208, 252)\",\"rgb(150, 208, 252)\",\"rgb(160, 17, 53)\",\"rgb(150, 208, 252)\",\"rgb(160, 17, 53)\",\"rgb(150, 208, 252)\",\"rgb(160, 17, 53)\",\"rgb(160, 17, 53)\",\"rgb(160, 17, 53)\",\"rgb(160, 17, 53)\",\"rgb(160, 17, 53)\",\"rgb(150, 208, 252)\",\"rgb(160, 17, 53)\",\"rgb(150, 208, 252)\",\"rgb(160, 17, 53)\",\"rgb(160, 17, 53)\",\"rgb(160, 17, 53)\"]},\"mode\":\"markers\",\"showlegend\":false,\"x\":[1.5065074944133876,2.024299582044444,1.2877569826258632,2.1156707630897955,0.9860857469825982,2.9198912641957877,0.8554065082772941,0.5381957769353087,1.363172576405757,0.29145998760618186,0.3908473056392493,-0.29421491993923854,-1.004526389677432,0.5411165268248577,0.5436697486844528,3.359414853410437,-0.7500125237851818,1.7373078036934886,1.9263584960720843,1.8470844668636976,-1.3257394922864898,1.9529091150302078,1.4806173396912303,-0.5687606678645771,-1.1723213650755957,2.9621565212972563,0.6739673279711595,1.8078425680305288,1.7420266363394838,2.3026559752335256,1.5924128035939429,0.8583808417104413,0.14983153988748066,0.7082667075951147,1.3526956097021245,1.3722767912081404,0.6647175464191224,0.9867700992673155,1.3837319147876055,1.2787419762862764,1.2893377801973964,0.4598436151935028,0.303809630770544,1.216391312880958,0.9080284732218639,0.20561381215354568,1.5874818244727251,0.2081138821877363,-1.03861614590857,0.301937417889119,2.093286366642348,2.4406782553446726,0.15963275073224814,0.7890862285206615,1.0396168232587164,-0.6376277690114565,0.30034759097257413,0.761713959259616,2.4645222723420948,-0.7300001120785176,0.2602266343857078,1.6298886739868557,1.3868685804848675,0.7261173287156888,-0.6852747373971451,-0.2585187718839759,0.9480878502078401,1.415661779811032,0.4043437765757428,1.8770965655006822,1.1312175042434114,1.8823147368218804,1.3782594419911967,1.028215474342634,2.0856934522902386,0.9609256541382686,0.4166365414771491,-0.40886319179737973,0.21748545594108648,0.5730931315733154,3.2460247025341027,-0.6539282684195495,0.8806432460764962,1.6527033734929948,0.8212599854556608,-0.20671967949051373,1.309944405920762,0.5998727805362085,2.89921210502688,1.296710005578067,0.4312445632019938,3.0608996092186267,0.6582844823620104,-0.13657918184652784,0.7963452427341442,1.3914054372871254,2.2065607592742156,0.43406768529184264,1.5377951860355288,2.049995224721057],\"y\":[-2.57215737936886,-2.606835521585329,-2.179312595608925,3.0689615070947376,-1.837790184920377,3.8901683466886428,-2.4828490137146826,3.050991967398464,3.792982189879517,3.4329901782665084,-2.1232180516724135,5.273184035606401,3.955875178122237,6.153051055927731,-2.9018553066399244,5.248266814438804,4.481213469702142,4.425462343941218,4.152430119150692,-1.4393527718367145,-0.9016725621947179,4.660153724622792,-1.9263530424847806,-1.0058391367691468,-1.1006452824438044,-1.637444670454378,3.255234362381297,-1.2096857980306033,-2.5271193606114704,3.6092194677170246,-2.25250139168549,-2.694997510963103,4.205334803022958,5.106243723244785,3.2043865368641953,3.210725818717884,4.359952669678135,6.089657821354225,3.5338712530030736,3.6694652337674265,3.449691588146665,-2.0249364639142104,3.9442341659078486,-0.6700734013192142,6.017130049097757,0.009473041023892348,-0.22505778365690698,-1.9824365167392486,-1.338125416428077,4.335617885722741,2.987879916936869,-2.819760922945354,-1.2469794141786672,5.836566541806848,-1.8462324303670006,4.091047047234421,-1.7648257429579124,-0.3900126506192101,6.199676503478973,6.25456272268018,-1.924175827550703,5.168223526307896,4.447830898609268,-0.755113462008238,-0.9165246341147002,-0.745705911511912,4.7321191979788075,4.470460822820919,-2.0697654892386232,4.76944976717885,4.681949847050563,3.4425616423936876,6.186938024504644,5.032877889625927,-1.2099614012970559,-1.3703974752565298,0.7770126844620364,0.13122666639628267,-0.8605209311899911,5.526232397830817,2.8494216528496255,4.7665695829741646,-1.1477522776668236,4.8803781440633305,4.91786669779447,-1.474738933960931,5.797866400605996,-1.8359169822690276,5.784302118882814,-4.299496769648556,-2.4713502691401557,-0.19037606378551342,-0.42724441733479224,-0.8453094949402784,3.2330347059378477,-1.643007952256272,5.506167176232801,-1.045422539448443,-3.1438600575327396,-0.4472854211850843],\"z\":[4.129027551015824,1.7704136089220204,2.5269288861455217,2.457609162610427,3.0152824276019063,1.3078127099921202,2.571900485633736,2.832757877264788,0.8746353373104658,1.4764178566684625,2.8653149650635763,0.882144116318718,2.211616490536858,2.7275622784453133,2.274263858500232,1.1424452959887192,1.6534865852246161,2.4991307541783034,1.95204866963932,1.6924467425029548,1.3158246057263752,2.761840689624826,3.2879381491806416,2.3420942915200564,3.594790296363368,3.9380549730489225,0.6352495842539028,3.704210223442099,1.3731111645555112,1.905632981105207,1.5345183059380674,3.4411589218648766,1.3917892350707706,3.002519489206626,2.3535056956389337,0.5640099287272724,0.8901176806495215,2.1821796141364977,2.5945167127246953,1.69252635544574,-0.49772229440120075,4.847414315150108,1.2421212393884238,2.266856668032976,1.310512699384438,3.2042259502254025,2.2897947016915436,2.9353614203581797,3.4417732851673284,1.4194214430539969,1.593682916618169,3.184933130682306,2.819731871690165,3.524626291333163,3.6094210124033093,1.1598009602392023,1.4938213523505912,3.0156072290479785,3.2340470925925286,1.5456153396812244,2.785001683746167,1.313102501026436,3.5095410283958532,3.741386415296854,1.7290230035490939,4.412366805824492,2.121784743816046,2.690298958324984,3.3339323075945484,0.5190238351556542,1.1674817738027652,3.9653324745319116,0.7075084602904316,2.1842504321902885,3.838741085113942,3.1500632975333986,1.8578664386115755,2.799718216204553,2.4571624739445697,2.263542499509738,2.101026038734324,1.1479691570496358,5.177191212023975,1.846968765854883,2.977474192999405,2.1783192649418095,1.850109257667077,1.241878455003146,3.922826481859448,4.873794569583817,2.507832568130574,2.548700423390679,3.5731459920557205,2.1144725971592817,3.109719248364015,0.8871977935516284,1.6679407040249257,1.377085246888498,2.8935561369341873,2.10451800212892],\"type\":\"scatter3d\"},{\"colorscale\":[[0,\"blue\"]],\"opacity\":0.5,\"showscale\":false,\"surfacecolor\":[[0.0,0.0,0.0,0.0,0.0,0.0,0.0,0.0,0.0,0.0],[0.0,0.0,0.0,0.0,0.0,0.0,0.0,0.0,0.0,0.0],[0.0,0.0,0.0,0.0,0.0,0.0,0.0,0.0,0.0,0.0],[0.0,0.0,0.0,0.0,0.0,0.0,0.0,0.0,0.0,0.0],[0.0,0.0,0.0,0.0,0.0,0.0,0.0,0.0,0.0,0.0],[0.0,0.0,0.0,0.0,0.0,0.0,0.0,0.0,0.0,0.0],[0.0,0.0,0.0,0.0,0.0,0.0,0.0,0.0,0.0,0.0],[0.0,0.0,0.0,0.0,0.0,0.0,0.0,0.0,0.0,0.0],[0.0,0.0,0.0,0.0,0.0,0.0,0.0,0.0,0.0,0.0],[0.0,0.0,0.0,0.0,0.0,0.0,0.0,0.0,0.0,0.0]],\"x\":[[-2.0,-1.5555555555555556,-1.1111111111111112,-0.6666666666666667,-0.22222222222222232,0.22222222222222232,0.6666666666666665,1.1111111111111107,1.5555555555555554,2.0],[-2.0,-1.5555555555555556,-1.1111111111111112,-0.6666666666666667,-0.22222222222222232,0.22222222222222232,0.6666666666666665,1.1111111111111107,1.5555555555555554,2.0],[-2.0,-1.5555555555555556,-1.1111111111111112,-0.6666666666666667,-0.22222222222222232,0.22222222222222232,0.6666666666666665,1.1111111111111107,1.5555555555555554,2.0],[-2.0,-1.5555555555555556,-1.1111111111111112,-0.6666666666666667,-0.22222222222222232,0.22222222222222232,0.6666666666666665,1.1111111111111107,1.5555555555555554,2.0],[-2.0,-1.5555555555555556,-1.1111111111111112,-0.6666666666666667,-0.22222222222222232,0.22222222222222232,0.6666666666666665,1.1111111111111107,1.5555555555555554,2.0],[-2.0,-1.5555555555555556,-1.1111111111111112,-0.6666666666666667,-0.22222222222222232,0.22222222222222232,0.6666666666666665,1.1111111111111107,1.5555555555555554,2.0],[-2.0,-1.5555555555555556,-1.1111111111111112,-0.6666666666666667,-0.22222222222222232,0.22222222222222232,0.6666666666666665,1.1111111111111107,1.5555555555555554,2.0],[-2.0,-1.5555555555555556,-1.1111111111111112,-0.6666666666666667,-0.22222222222222232,0.22222222222222232,0.6666666666666665,1.1111111111111107,1.5555555555555554,2.0],[-2.0,-1.5555555555555556,-1.1111111111111112,-0.6666666666666667,-0.22222222222222232,0.22222222222222232,0.6666666666666665,1.1111111111111107,1.5555555555555554,2.0],[-2.0,-1.5555555555555556,-1.1111111111111112,-0.6666666666666667,-0.22222222222222232,0.22222222222222232,0.6666666666666665,1.1111111111111107,1.5555555555555554,2.0]],\"y\":[[-2.0,-2.0,-2.0,-2.0,-2.0,-2.0,-2.0,-2.0,-2.0,-2.0],[-1.5555555555555556,-1.5555555555555556,-1.5555555555555556,-1.5555555555555556,-1.5555555555555556,-1.5555555555555556,-1.5555555555555556,-1.5555555555555556,-1.5555555555555556,-1.5555555555555556],[-1.1111111111111112,-1.1111111111111112,-1.1111111111111112,-1.1111111111111112,-1.1111111111111112,-1.1111111111111112,-1.1111111111111112,-1.1111111111111112,-1.1111111111111112,-1.1111111111111112],[-0.6666666666666667,-0.6666666666666667,-0.6666666666666667,-0.6666666666666667,-0.6666666666666667,-0.6666666666666667,-0.6666666666666667,-0.6666666666666667,-0.6666666666666667,-0.6666666666666667],[-0.22222222222222232,-0.22222222222222232,-0.22222222222222232,-0.22222222222222232,-0.22222222222222232,-0.22222222222222232,-0.22222222222222232,-0.22222222222222232,-0.22222222222222232,-0.22222222222222232],[0.22222222222222232,0.22222222222222232,0.22222222222222232,0.22222222222222232,0.22222222222222232,0.22222222222222232,0.22222222222222232,0.22222222222222232,0.22222222222222232,0.22222222222222232],[0.6666666666666665,0.6666666666666665,0.6666666666666665,0.6666666666666665,0.6666666666666665,0.6666666666666665,0.6666666666666665,0.6666666666666665,0.6666666666666665,0.6666666666666665],[1.1111111111111107,1.1111111111111107,1.1111111111111107,1.1111111111111107,1.1111111111111107,1.1111111111111107,1.1111111111111107,1.1111111111111107,1.1111111111111107,1.1111111111111107],[1.5555555555555554,1.5555555555555554,1.5555555555555554,1.5555555555555554,1.5555555555555554,1.5555555555555554,1.5555555555555554,1.5555555555555554,1.5555555555555554,1.5555555555555554],[2.0,2.0,2.0,2.0,2.0,2.0,2.0,2.0,2.0,2.0]],\"z\":[[44.26756405258721,43.73308871596303,43.198613379338845,42.66413804271467,42.129662706090485,41.5951873694663,41.06071203284212,40.52623669621794,39.99176135959376,39.457286022969576],[39.84552153530996,39.31104619868579,38.776570862061604,38.24209552543742,37.70762018881324,37.17314485218906,36.63866951556488,36.104194178940695,35.56971884231652,35.035243505692335],[35.42347901803272,34.88900368140854,34.354528344784356,33.82005300816018,33.285577671536,32.75110233491181,32.21662699828764,31.682151661663454,31.14767632503927,30.61320098841509],[31.00143650075547,30.46696116413129,29.932485827507108,29.39801049088293,28.86353515425875,28.329059817634565,27.794584481010386,27.260109144386202,26.725633807762023,26.19115847113784],[26.579393983478223,26.04491864685404,25.51044331022986,24.97596797360568,24.441492636981497,23.907017300357317,23.372541963733138,22.838066627108958,22.303591290484775,21.769115953860595],[22.157351466200975,21.622876129576795,21.088400792952612,20.553925456328432,20.019450119704253,19.48497478308007,18.95049944645589,18.416024109831707,17.881548773207527,17.347073436583344],[17.73530894892373,17.20083361229955,16.666358275675368,16.131882939051188,15.597407602427007,15.062932265802825,14.528456929178645,13.993981592554464,13.459506255930282,12.925030919306101],[13.313266431646484,12.778791095022303,12.244315758398123,11.709840421773942,11.175365085149762,10.64088974852558,10.1064144119014,9.571939075277218,9.037463738653036,8.502988402028855],[8.891223914369238,8.356748577745057,7.822273241120876,7.287797904496695,6.753322567872513,6.218847231248332,5.684371894624151,5.14989655799997,4.615421221375788,4.080945884751608],[4.4691813970919885,3.9347060604678075,3.4002307238436265,2.865755387219445,2.331280050595264,1.7968047139710828,1.2623293773469018,0.7278540407227205,0.19337870409853936,-0.3410966325256418]],\"type\":\"surface\"}],                        {\"template\":{\"data\":{\"bar\":[{\"error_x\":{\"color\":\"#2a3f5f\"},\"error_y\":{\"color\":\"#2a3f5f\"},\"marker\":{\"line\":{\"color\":\"#E5ECF6\",\"width\":0.5},\"pattern\":{\"fillmode\":\"overlay\",\"size\":10,\"solidity\":0.2}},\"type\":\"bar\"}],\"barpolar\":[{\"marker\":{\"line\":{\"color\":\"#E5ECF6\",\"width\":0.5},\"pattern\":{\"fillmode\":\"overlay\",\"size\":10,\"solidity\":0.2}},\"type\":\"barpolar\"}],\"carpet\":[{\"aaxis\":{\"endlinecolor\":\"#2a3f5f\",\"gridcolor\":\"white\",\"linecolor\":\"white\",\"minorgridcolor\":\"white\",\"startlinecolor\":\"#2a3f5f\"},\"baxis\":{\"endlinecolor\":\"#2a3f5f\",\"gridcolor\":\"white\",\"linecolor\":\"white\",\"minorgridcolor\":\"white\",\"startlinecolor\":\"#2a3f5f\"},\"type\":\"carpet\"}],\"choropleth\":[{\"colorbar\":{\"outlinewidth\":0,\"ticks\":\"\"},\"type\":\"choropleth\"}],\"contour\":[{\"colorbar\":{\"outlinewidth\":0,\"ticks\":\"\"},\"colorscale\":[[0.0,\"#0d0887\"],[0.1111111111111111,\"#46039f\"],[0.2222222222222222,\"#7201a8\"],[0.3333333333333333,\"#9c179e\"],[0.4444444444444444,\"#bd3786\"],[0.5555555555555556,\"#d8576b\"],[0.6666666666666666,\"#ed7953\"],[0.7777777777777778,\"#fb9f3a\"],[0.8888888888888888,\"#fdca26\"],[1.0,\"#f0f921\"]],\"type\":\"contour\"}],\"contourcarpet\":[{\"colorbar\":{\"outlinewidth\":0,\"ticks\":\"\"},\"type\":\"contourcarpet\"}],\"heatmap\":[{\"colorbar\":{\"outlinewidth\":0,\"ticks\":\"\"},\"colorscale\":[[0.0,\"#0d0887\"],[0.1111111111111111,\"#46039f\"],[0.2222222222222222,\"#7201a8\"],[0.3333333333333333,\"#9c179e\"],[0.4444444444444444,\"#bd3786\"],[0.5555555555555556,\"#d8576b\"],[0.6666666666666666,\"#ed7953\"],[0.7777777777777778,\"#fb9f3a\"],[0.8888888888888888,\"#fdca26\"],[1.0,\"#f0f921\"]],\"type\":\"heatmap\"}],\"heatmapgl\":[{\"colorbar\":{\"outlinewidth\":0,\"ticks\":\"\"},\"colorscale\":[[0.0,\"#0d0887\"],[0.1111111111111111,\"#46039f\"],[0.2222222222222222,\"#7201a8\"],[0.3333333333333333,\"#9c179e\"],[0.4444444444444444,\"#bd3786\"],[0.5555555555555556,\"#d8576b\"],[0.6666666666666666,\"#ed7953\"],[0.7777777777777778,\"#fb9f3a\"],[0.8888888888888888,\"#fdca26\"],[1.0,\"#f0f921\"]],\"type\":\"heatmapgl\"}],\"histogram\":[{\"marker\":{\"pattern\":{\"fillmode\":\"overlay\",\"size\":10,\"solidity\":0.2}},\"type\":\"histogram\"}],\"histogram2d\":[{\"colorbar\":{\"outlinewidth\":0,\"ticks\":\"\"},\"colorscale\":[[0.0,\"#0d0887\"],[0.1111111111111111,\"#46039f\"],[0.2222222222222222,\"#7201a8\"],[0.3333333333333333,\"#9c179e\"],[0.4444444444444444,\"#bd3786\"],[0.5555555555555556,\"#d8576b\"],[0.6666666666666666,\"#ed7953\"],[0.7777777777777778,\"#fb9f3a\"],[0.8888888888888888,\"#fdca26\"],[1.0,\"#f0f921\"]],\"type\":\"histogram2d\"}],\"histogram2dcontour\":[{\"colorbar\":{\"outlinewidth\":0,\"ticks\":\"\"},\"colorscale\":[[0.0,\"#0d0887\"],[0.1111111111111111,\"#46039f\"],[0.2222222222222222,\"#7201a8\"],[0.3333333333333333,\"#9c179e\"],[0.4444444444444444,\"#bd3786\"],[0.5555555555555556,\"#d8576b\"],[0.6666666666666666,\"#ed7953\"],[0.7777777777777778,\"#fb9f3a\"],[0.8888888888888888,\"#fdca26\"],[1.0,\"#f0f921\"]],\"type\":\"histogram2dcontour\"}],\"mesh3d\":[{\"colorbar\":{\"outlinewidth\":0,\"ticks\":\"\"},\"type\":\"mesh3d\"}],\"parcoords\":[{\"line\":{\"colorbar\":{\"outlinewidth\":0,\"ticks\":\"\"}},\"type\":\"parcoords\"}],\"pie\":[{\"automargin\":true,\"type\":\"pie\"}],\"scatter\":[{\"marker\":{\"colorbar\":{\"outlinewidth\":0,\"ticks\":\"\"}},\"type\":\"scatter\"}],\"scatter3d\":[{\"line\":{\"colorbar\":{\"outlinewidth\":0,\"ticks\":\"\"}},\"marker\":{\"colorbar\":{\"outlinewidth\":0,\"ticks\":\"\"}},\"type\":\"scatter3d\"}],\"scattercarpet\":[{\"marker\":{\"colorbar\":{\"outlinewidth\":0,\"ticks\":\"\"}},\"type\":\"scattercarpet\"}],\"scattergeo\":[{\"marker\":{\"colorbar\":{\"outlinewidth\":0,\"ticks\":\"\"}},\"type\":\"scattergeo\"}],\"scattergl\":[{\"marker\":{\"colorbar\":{\"outlinewidth\":0,\"ticks\":\"\"}},\"type\":\"scattergl\"}],\"scattermapbox\":[{\"marker\":{\"colorbar\":{\"outlinewidth\":0,\"ticks\":\"\"}},\"type\":\"scattermapbox\"}],\"scatterpolar\":[{\"marker\":{\"colorbar\":{\"outlinewidth\":0,\"ticks\":\"\"}},\"type\":\"scatterpolar\"}],\"scatterpolargl\":[{\"marker\":{\"colorbar\":{\"outlinewidth\":0,\"ticks\":\"\"}},\"type\":\"scatterpolargl\"}],\"scatterternary\":[{\"marker\":{\"colorbar\":{\"outlinewidth\":0,\"ticks\":\"\"}},\"type\":\"scatterternary\"}],\"surface\":[{\"colorbar\":{\"outlinewidth\":0,\"ticks\":\"\"},\"colorscale\":[[0.0,\"#0d0887\"],[0.1111111111111111,\"#46039f\"],[0.2222222222222222,\"#7201a8\"],[0.3333333333333333,\"#9c179e\"],[0.4444444444444444,\"#bd3786\"],[0.5555555555555556,\"#d8576b\"],[0.6666666666666666,\"#ed7953\"],[0.7777777777777778,\"#fb9f3a\"],[0.8888888888888888,\"#fdca26\"],[1.0,\"#f0f921\"]],\"type\":\"surface\"}],\"table\":[{\"cells\":{\"fill\":{\"color\":\"#EBF0F8\"},\"line\":{\"color\":\"white\"}},\"header\":{\"fill\":{\"color\":\"#C8D4E3\"},\"line\":{\"color\":\"white\"}},\"type\":\"table\"}]},\"layout\":{\"annotationdefaults\":{\"arrowcolor\":\"#2a3f5f\",\"arrowhead\":0,\"arrowwidth\":1},\"autotypenumbers\":\"strict\",\"coloraxis\":{\"colorbar\":{\"outlinewidth\":0,\"ticks\":\"\"}},\"colorscale\":{\"diverging\":[[0,\"#8e0152\"],[0.1,\"#c51b7d\"],[0.2,\"#de77ae\"],[0.3,\"#f1b6da\"],[0.4,\"#fde0ef\"],[0.5,\"#f7f7f7\"],[0.6,\"#e6f5d0\"],[0.7,\"#b8e186\"],[0.8,\"#7fbc41\"],[0.9,\"#4d9221\"],[1,\"#276419\"]],\"sequential\":[[0.0,\"#0d0887\"],[0.1111111111111111,\"#46039f\"],[0.2222222222222222,\"#7201a8\"],[0.3333333333333333,\"#9c179e\"],[0.4444444444444444,\"#bd3786\"],[0.5555555555555556,\"#d8576b\"],[0.6666666666666666,\"#ed7953\"],[0.7777777777777778,\"#fb9f3a\"],[0.8888888888888888,\"#fdca26\"],[1.0,\"#f0f921\"]],\"sequentialminus\":[[0.0,\"#0d0887\"],[0.1111111111111111,\"#46039f\"],[0.2222222222222222,\"#7201a8\"],[0.3333333333333333,\"#9c179e\"],[0.4444444444444444,\"#bd3786\"],[0.5555555555555556,\"#d8576b\"],[0.6666666666666666,\"#ed7953\"],[0.7777777777777778,\"#fb9f3a\"],[0.8888888888888888,\"#fdca26\"],[1.0,\"#f0f921\"]]},\"colorway\":[\"#636efa\",\"#EF553B\",\"#00cc96\",\"#ab63fa\",\"#FFA15A\",\"#19d3f3\",\"#FF6692\",\"#B6E880\",\"#FF97FF\",\"#FECB52\"],\"font\":{\"color\":\"#2a3f5f\"},\"geo\":{\"bgcolor\":\"white\",\"lakecolor\":\"white\",\"landcolor\":\"#E5ECF6\",\"showlakes\":true,\"showland\":true,\"subunitcolor\":\"white\"},\"hoverlabel\":{\"align\":\"left\"},\"hovermode\":\"closest\",\"mapbox\":{\"style\":\"light\"},\"paper_bgcolor\":\"white\",\"plot_bgcolor\":\"#E5ECF6\",\"polar\":{\"angularaxis\":{\"gridcolor\":\"white\",\"linecolor\":\"white\",\"ticks\":\"\"},\"bgcolor\":\"#E5ECF6\",\"radialaxis\":{\"gridcolor\":\"white\",\"linecolor\":\"white\",\"ticks\":\"\"}},\"scene\":{\"xaxis\":{\"backgroundcolor\":\"#E5ECF6\",\"gridcolor\":\"white\",\"gridwidth\":2,\"linecolor\":\"white\",\"showbackground\":true,\"ticks\":\"\",\"zerolinecolor\":\"white\"},\"yaxis\":{\"backgroundcolor\":\"#E5ECF6\",\"gridcolor\":\"white\",\"gridwidth\":2,\"linecolor\":\"white\",\"showbackground\":true,\"ticks\":\"\",\"zerolinecolor\":\"white\"},\"zaxis\":{\"backgroundcolor\":\"#E5ECF6\",\"gridcolor\":\"white\",\"gridwidth\":2,\"linecolor\":\"white\",\"showbackground\":true,\"ticks\":\"\",\"zerolinecolor\":\"white\"}},\"shapedefaults\":{\"line\":{\"color\":\"#2a3f5f\"}},\"ternary\":{\"aaxis\":{\"gridcolor\":\"white\",\"linecolor\":\"white\",\"ticks\":\"\"},\"baxis\":{\"gridcolor\":\"white\",\"linecolor\":\"white\",\"ticks\":\"\"},\"bgcolor\":\"#E5ECF6\",\"caxis\":{\"gridcolor\":\"white\",\"linecolor\":\"white\",\"ticks\":\"\"}},\"title\":{\"x\":0.05},\"xaxis\":{\"automargin\":true,\"gridcolor\":\"white\",\"linecolor\":\"white\",\"ticks\":\"\",\"title\":{\"standoff\":15},\"zerolinecolor\":\"white\",\"zerolinewidth\":2},\"yaxis\":{\"automargin\":true,\"gridcolor\":\"white\",\"linecolor\":\"white\",\"ticks\":\"\",\"title\":{\"standoff\":15},\"zerolinecolor\":\"white\",\"zerolinewidth\":2}}},\"scene\":{\"zaxis\":{\"nticks\":4,\"range\":[-2,5.9]}}},                        {\"responsive\": true}                    ).then(function(){\n",
              "                            \n",
              "var gd = document.getElementById('9b433d08-f40f-49e2-b9a7-9eca5834c2dd');\n",
              "var x = new MutationObserver(function (mutations, observer) {{\n",
              "        var display = window.getComputedStyle(gd).display;\n",
              "        if (!display || display === 'none') {{\n",
              "            console.log([gd, 'removed!']);\n",
              "            Plotly.purge(gd);\n",
              "            observer.disconnect();\n",
              "        }}\n",
              "}});\n",
              "\n",
              "// Listen for the removal of the full notebook cells\n",
              "var notebookContainer = gd.closest('#notebook-container');\n",
              "if (notebookContainer) {{\n",
              "    x.observe(notebookContainer, {childList: true});\n",
              "}}\n",
              "\n",
              "// Listen for the clearing of the current output cell\n",
              "var outputEl = gd.closest('.output');\n",
              "if (outputEl) {{\n",
              "    x.observe(outputEl, {childList: true});\n",
              "}}\n",
              "\n",
              "                        })                };                            </script>        </div>\n",
              "</body>\n",
              "</html>"
            ]
          },
          "metadata": {}
        }
      ]
    }
  ]
}